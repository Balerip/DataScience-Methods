{
 "cells": [
  {
   "cell_type": "markdown",
   "id": "3b0e5ebb",
   "metadata": {},
   "source": [
    "In data science or Machine learning, one of the most important tasks performed when working with large amounts of data is data cleaning. In this assignment, you'll see how to clean a dataset using pandas step by step. This dataset is a simulation of a customer list."
   ]
  },
  {
   "cell_type": "markdown",
   "id": "8f4df655",
   "metadata": {},
   "source": [
    "**Q1\tWhat is machine learning? Where and why you will use machine learning?**"
   ]
  },
  {
   "attachments": {},
   "cell_type": "markdown",
   "id": "a9cc549a",
   "metadata": {},
   "source": [
    "**Q2 What is normalization/Scaling in Machine Learning and why do you perform? Explain with examples**"
   ]
  },
  {
   "attachments": {},
   "cell_type": "markdown",
   "id": "7c9a839a",
   "metadata": {},
   "source": [
    "**Q3 What is supervised and unsupervised learning? Give some examples** "
   ]
  },
  {
   "cell_type": "markdown",
   "id": "500a6a32",
   "metadata": {},
   "source": [
    "**Q4 What is Data Cleaning and why do we need it?**  "
   ]
  },
  {
   "cell_type": "code",
   "execution_count": 1,
   "id": "4635cdb6",
   "metadata": {},
   "outputs": [],
   "source": [
    "import pandas as pd"
   ]
  },
  {
   "cell_type": "code",
   "execution_count": 9,
   "id": "5c667c22",
   "metadata": {},
   "outputs": [
    {
     "name": "stdout",
     "output_type": "stream",
     "text": [
      "    user_id       Name Last_name  age           Phone                Email  \\\n",
      "0       234        Tom     Smith   23    555/123/4567      smith@email.com   \n",
      "1       235     Alex--   johnson   32    333-234-5678  johnson@hotmail.com   \n",
      "2       236   ..Thomas     brown   45    444_456_7890      brown@email.com   \n",
      "3       237       John     Davis   22    111-222-3333       davis@mail.com   \n",
      "4       237       John     Davis   22    111-222-3333       davis@mail.com   \n",
      "5       238      Paul/      None   50            None       John@gmail.com   \n",
      "6       239      Emma9    wilson   34    333/987/4567      wilson@mail.com   \n",
      "7       240        Joy  Thompson   47     222/345_987   thompson@email.com   \n",
      "8       241  Samantha_       Lee   28  (777) 987-6543        lee@email.com   \n",
      "9       242      Emily   Johnson   19    777-888-9999    emily@hotmail.com   \n",
      "10      242      Emily   Johnson   19    777-888-9999    emily@hotmail.com   \n",
      "\n",
      "   Not_Useful_column  \n",
      "0               None  \n",
      "1               None  \n",
      "2               None  \n",
      "3               None  \n",
      "4               None  \n",
      "5               None  \n",
      "6               None  \n",
      "7               None  \n",
      "8               None  \n",
      "9               None  \n",
      "10              None  \n"
     ]
    }
   ],
   "source": [
    "df_users = pd.DataFrame({\n",
    "    \"user_id\": [234, 235, 236, 237, 237, 238, 239, 240, 241, 242, 242],\n",
    "    \"Name\": [\"Tom\", \"Alex--\", \"..Thomas\", \"John\", \"John\", \"Paul/\", \"Emma9\", \"Joy\", \"Samantha_\", \"Emily\", \"Emily\"],\n",
    "    \"Last_name\": [\"Smith\", \"johnson\", \"brown\", \"Davis\", \"Davis\", \"None\", \"wilson\", \"Thompson\", \"Lee\", \"Johnson\", \"Johnson\"],\n",
    "    \"age\": [23, 32, 45, 22, 22, 50, 34, 47, 28, 19, 19],\n",
    "    \"Phone\": [\"555/123/4567\", \"333-234-5678\", \"444_456_7890\", \"111-222-3333\", \"111-222-3333\", None, \"333/987/4567\", \"222/345_987\", \"(777) 987-6543\", \"777-888-9999\", \"777-888-9999\"],\n",
    "    \"Email\": [\"smith@email.com\", \"johnson@hotmail.com\", \"brown@email.com\", \"davis@mail.com\", \"davis@mail.com\", \"John@gmail.com\", \"wilson@mail.com\", \"thompson@email.com\", \"lee@email.com\", \"emily@hotmail.com\", \"emily@hotmail.com\"],\n",
    "    \"Not_Useful_column\": [None, None, None, None, None, None, None, None, None, None, None]\n",
    "})\n",
    "\n",
    "print(df_users)"
   ]
  },
  {
   "cell_type": "markdown",
   "id": "06572341",
   "metadata": {},
   "source": [
    "Here we use the pandas `DataFrame()` function to create a mock dataset, this dataset contains 7 columns and 11 rows, the columns are, a `user_id` which is the user's unique id, a `Name` column, a `Last_name` column, the user's `age`, the user's `Phone` number, the user's `Email`, and finally a non-useful column called `Not_Useful_column` which we will use as an example of how to delete an unnecessary column from a dataset.\n",
    "\n",
    "As you can see in the example dataset, the data has some inconsistencies in the columns, a few unnecessary symbols in the `Name` column, some values in the `Last_name` column are not capitalized, and each of the values in the `Phone` column have different syntax which makes it difficult to work with them.\n"
   ]
  },
  {
   "cell_type": "markdown",
   "id": "fc4415ad",
   "metadata": {},
   "source": [
    "Your final output should look like "
   ]
  },
  {
   "cell_type": "code",
   "execution_count": 22,
   "id": "8a188df3",
   "metadata": {},
   "outputs": [
    {
     "data": {
      "text/html": [
       "<div>\n",
       "<style scoped>\n",
       "    .dataframe tbody tr th:only-of-type {\n",
       "        vertical-align: middle;\n",
       "    }\n",
       "\n",
       "    .dataframe tbody tr th {\n",
       "        vertical-align: top;\n",
       "    }\n",
       "\n",
       "    .dataframe thead th {\n",
       "        text-align: right;\n",
       "    }\n",
       "</style>\n",
       "<table border=\"1\" class=\"dataframe\">\n",
       "  <thead>\n",
       "    <tr style=\"text-align: right;\">\n",
       "      <th></th>\n",
       "      <th>user_id</th>\n",
       "      <th>Name</th>\n",
       "      <th>Last_name</th>\n",
       "      <th>age</th>\n",
       "      <th>Phone</th>\n",
       "      <th>Email</th>\n",
       "    </tr>\n",
       "  </thead>\n",
       "  <tbody>\n",
       "    <tr>\n",
       "      <th>0</th>\n",
       "      <td>234</td>\n",
       "      <td>Tom</td>\n",
       "      <td>Smith</td>\n",
       "      <td>23</td>\n",
       "      <td>555-123-4567</td>\n",
       "      <td>smith@email.com</td>\n",
       "    </tr>\n",
       "    <tr>\n",
       "      <th>1</th>\n",
       "      <td>235</td>\n",
       "      <td>Alex</td>\n",
       "      <td>Johnson</td>\n",
       "      <td>32</td>\n",
       "      <td>333-234-5678</td>\n",
       "      <td>johnson@hotmail.com</td>\n",
       "    </tr>\n",
       "    <tr>\n",
       "      <th>2</th>\n",
       "      <td>236</td>\n",
       "      <td>Thomas</td>\n",
       "      <td>Brown</td>\n",
       "      <td>45</td>\n",
       "      <td>444-456-7890</td>\n",
       "      <td>brown@email.com</td>\n",
       "    </tr>\n",
       "    <tr>\n",
       "      <th>3</th>\n",
       "      <td>237</td>\n",
       "      <td>John</td>\n",
       "      <td>Davis</td>\n",
       "      <td>22</td>\n",
       "      <td>111-222-3333</td>\n",
       "      <td>davis@mail.com</td>\n",
       "    </tr>\n",
       "    <tr>\n",
       "      <th>4</th>\n",
       "      <td>239</td>\n",
       "      <td>Emma</td>\n",
       "      <td>Wilson</td>\n",
       "      <td>34</td>\n",
       "      <td>333-987-4567</td>\n",
       "      <td>wilson@mail.com</td>\n",
       "    </tr>\n",
       "    <tr>\n",
       "      <th>5</th>\n",
       "      <td>241</td>\n",
       "      <td>Samantha</td>\n",
       "      <td>Lee</td>\n",
       "      <td>28</td>\n",
       "      <td>777-987-6543</td>\n",
       "      <td>lee@email.com</td>\n",
       "    </tr>\n",
       "    <tr>\n",
       "      <th>6</th>\n",
       "      <td>242</td>\n",
       "      <td>Emily</td>\n",
       "      <td>Johnson</td>\n",
       "      <td>19</td>\n",
       "      <td>777-888-9999</td>\n",
       "      <td>emily@hotmail.com</td>\n",
       "    </tr>\n",
       "  </tbody>\n",
       "</table>\n",
       "</div>"
      ],
      "text/plain": [
       "   user_id      Name Last_name  age         Phone                Email\n",
       "0      234       Tom     Smith   23  555-123-4567      smith@email.com\n",
       "1      235      Alex   Johnson   32  333-234-5678  johnson@hotmail.com\n",
       "2      236    Thomas     Brown   45  444-456-7890      brown@email.com\n",
       "3      237      John     Davis   22  111-222-3333       davis@mail.com\n",
       "4      239      Emma    Wilson   34  333-987-4567      wilson@mail.com\n",
       "5      241  Samantha       Lee   28  777-987-6543        lee@email.com\n",
       "6      242     Emily   Johnson   19  777-888-9999    emily@hotmail.com"
      ]
     },
     "execution_count": 22,
     "metadata": {},
     "output_type": "execute_result"
    }
   ],
   "source": [
    "df_users"
   ]
  },
  {
   "cell_type": "code",
   "execution_count": null,
   "id": "32f65d9b",
   "metadata": {},
   "outputs": [],
   "source": []
  }
 ],
 "metadata": {
  "kernelspec": {
   "display_name": "Python 3 (ipykernel)",
   "language": "python",
   "name": "python3"
  },
  "language_info": {
   "codemirror_mode": {
    "name": "ipython",
    "version": 3
   },
   "file_extension": ".py",
   "mimetype": "text/x-python",
   "name": "python",
   "nbconvert_exporter": "python",
   "pygments_lexer": "ipython3",
   "version": "3.9.7"
  }
 },
 "nbformat": 4,
 "nbformat_minor": 5
}
