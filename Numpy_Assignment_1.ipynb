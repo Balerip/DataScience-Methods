{
 "cells": [
  {
   "cell_type": "markdown",
   "metadata": {
    "id": "lPsplrBimhk1"
   },
   "source": [
    "import numpy as np"
   ]
  },
  {
   "cell_type": "markdown",
   "metadata": {
    "id": "ECzXEibBoQ5K"
   },
   "source": [
    "## Instructions\n",
    "1. Do not import any other library. \n",
    "2. This assignment primarily focuses on getting a hands on practise for numpy library.\n",
    "3. Examples are given for most of the questions. You are free to take different values inside the arrays as long as the requirements are questions are met.\n",
    "4. We have referenced the 1D array as sample_1 and 2D array as sample_2 in the notebook. You are free to change the variable's name.\n",
    "5. Go through these resources in order ro learn and practise numpy operations : <a href=\"https://www.w3schools.com/python/numpy/numpy_intro.asp\">Resource 1 </a> , <a href=\"https://realpython.com/numpy-tutorial/\">Resource 2 </a>\n",
    "6. You can also read the documentation of all numpy functions from this <a href=\"https://numpy.org/doc/stable/user/absolute_beginners.html\">Link </a>"
   ]
  },
  {
   "cell_type": "markdown",
   "metadata": {
    "id": "usgazAxUrUac"
   },
   "source": [
    "#### <b> <font color='red'> Que 1.1 - Defining a numpy matrix </b>   -> Define a 1D numpy array having 6 elements. Print the dimensions, rows and columns of the array </font>\n",
    "\n",
    "<br> <b>  Example </b> </br>\n",
    "sample_1 = [ 5, 6, 2, 7, 8, 8]\n",
    "  - Array dimension = 1\n",
    "  - Number of rows = 1\n",
    "  - Number of columns = 6\n",
    "\n"
   ]
  },
  {
   "cell_type": "code",
   "execution_count": 1,
   "metadata": {},
   "outputs": [],
   "source": [
    "import numpy as np"
   ]
  },
  {
   "cell_type": "code",
   "execution_count": 2,
   "metadata": {
    "id": "gzb9i23UrXgW"
   },
   "outputs": [],
   "source": [
    "#define the 1d array\n",
    "#WRITE CODE BELOW\n",
    "\n",
    "sample_1 = np.array([5,6,2,7,8,8])\n",
    "\n"
   ]
  },
  {
   "cell_type": "code",
   "execution_count": 36,
   "metadata": {
    "id": "vBCzMRqHsl3W"
   },
   "outputs": [
    {
     "name": "stdout",
     "output_type": "stream",
     "text": [
      "[5 6 2 7 8 8]\n",
      "dimensions: 1\n",
      "(6,)\n",
      "rows: 6\n"
     ]
    },
    {
     "ename": "IndexError",
     "evalue": "tuple index out of range",
     "output_type": "error",
     "traceback": [
      "\u001b[0;31m---------------------------------------------------------------------------\u001b[0m",
      "\u001b[0;31mIndexError\u001b[0m                                Traceback (most recent call last)",
      "\u001b[0;32m/var/folders/ct/b2rs611d1g96lldn5x1gj1wm0000gp/T/ipykernel_42478/2600233432.py\u001b[0m in \u001b[0;36m<module>\u001b[0;34m\u001b[0m\n\u001b[1;32m      8\u001b[0m \u001b[0mrows\u001b[0m\u001b[0;34m=\u001b[0m\u001b[0msample_1\u001b[0m\u001b[0;34m.\u001b[0m\u001b[0mshape\u001b[0m\u001b[0;34m[\u001b[0m\u001b[0;36m0\u001b[0m\u001b[0;34m]\u001b[0m\u001b[0;34m\u001b[0m\u001b[0;34m\u001b[0m\u001b[0m\n\u001b[1;32m      9\u001b[0m \u001b[0mprint\u001b[0m\u001b[0;34m(\u001b[0m\u001b[0;34m\"rows:\"\u001b[0m\u001b[0;34m,\u001b[0m\u001b[0mrows\u001b[0m\u001b[0;34m)\u001b[0m\u001b[0;34m\u001b[0m\u001b[0;34m\u001b[0m\u001b[0m\n\u001b[0;32m---> 10\u001b[0;31m \u001b[0mcolumns\u001b[0m\u001b[0;34m-\u001b[0m\u001b[0msample_1\u001b[0m\u001b[0;34m.\u001b[0m\u001b[0mshape\u001b[0m\u001b[0;34m[\u001b[0m\u001b[0;36m1\u001b[0m\u001b[0;34m]\u001b[0m\u001b[0;34m\u001b[0m\u001b[0;34m\u001b[0m\u001b[0m\n\u001b[0m\u001b[1;32m     11\u001b[0m \u001b[0mprint\u001b[0m\u001b[0;34m(\u001b[0m\u001b[0;34m\"columns:\"\u001b[0m\u001b[0;34m,\u001b[0m\u001b[0mcolumns\u001b[0m\u001b[0;34m)\u001b[0m\u001b[0;34m\u001b[0m\u001b[0;34m\u001b[0m\u001b[0m\n\u001b[1;32m     12\u001b[0m \u001b[0;34m\u001b[0m\u001b[0m\n",
      "\u001b[0;31mIndexError\u001b[0m: tuple index out of range"
     ]
    }
   ],
   "source": [
    "#printing the 1D array that you have defined above\n",
    "print(sample_1)\n",
    "# print the dimension, rows and columns of the array\n",
    "#WRITE CODE BELOW\n",
    "dimensions=sample_1.ndim\n",
    "print(\"dimensions:\",dimensions)\n",
    "print(sample_1.shape)\n",
    "rows=sample_1.shape[0]\n",
    "print(\"rows:\",rows)\n",
    "columns-sample_1.shape[1]\n",
    "print(\"columns:\",columns)\n",
    "\n"
   ]
  },
  {
   "cell_type": "markdown",
   "metadata": {
    "id": "ANAfQvfXmuar"
   },
   "source": [
    "#### <b> <font color='red'> Que 1.2 - Defining a numpy matrix </b>   -> Define a 2D numpy array having 4 rows and 3 columns. Print the dimensions, rows and columns of the array </font>\n",
    "\n",
    "<br> <b>  Example </b> </br>\n",
    "$$\\begin{bmatrix} 6 & 2 & 1  \\\\ 3 & 0 & 1 \\\\ 0 & 2 & 4  \\\\ 5 & 6 & 8 \\end{bmatrix}$$\n",
    "\n",
    "  - Array dimension = 2\n",
    "  - Number of rows = 4\n",
    "  - Number of columns = 3\n",
    "\n",
    "\n",
    "\n"
   ]
  },
  {
   "cell_type": "code",
   "execution_count": 4,
   "metadata": {
    "id": "OSO2zdyXmlMd"
   },
   "outputs": [],
   "source": [
    "#define the 2d array\n",
    "#WRITE CODE BELOW\n",
    "sample_2 = np.array([[6,2,1],[3,0,1],[0,2,4],[5,6,8]])\n",
    "\n",
    "\n"
   ]
  },
  {
   "cell_type": "code",
   "execution_count": 29,
   "metadata": {
    "id": "_DJhYeMeP8Nk"
   },
   "outputs": [
    {
     "name": "stdout",
     "output_type": "stream",
     "text": [
      "[[6 2 1]\n",
      " [3 0 1]\n",
      " [0 2 4]\n",
      " [5 6 8]]\n",
      "Array dimension = 2\n",
      "Number of rows = 4\n",
      "Number of columns = 3\n"
     ]
    }
   ],
   "source": [
    "#printing the 2D array that you have defined above\n",
    "print(sample_2)\n",
    "# print the dimension, rows and columns of the array\n",
    "#WRITE CODE BELOW\n",
    "dimensions=sample_2.ndim\n",
    "print(\"Array dimension =\",dimensions)\n",
    "rows=sample_2.shape[0]\n",
    "print(\"Number of rows =\",rows)\n",
    "columns=sample_2.shape[1]\n",
    "print(\"Number of columns =\",columns)\n",
    "\n",
    "\n",
    "\n"
   ]
  },
  {
   "cell_type": "markdown",
   "metadata": {
    "id": "XKLaz45ovqun"
   },
   "source": [
    "#### <b> <font color='red'> Que 2.1 - Accessing elements </b>   -> Print the first element of 1D array and 2D array that you have defined in the previous question </font>\n",
    "\n",
    "<br> <b>  Example - Accessing first element of sample_1 and sample_2 defined in prev que</b> </br>\n",
    "- first_sample1 = 2\n",
    "- first_sample2 = 6\n",
    "\n",
    "Note - You can get different output if you have defined different elements in your arrays.\n",
    "\n"
   ]
  },
  {
   "cell_type": "code",
   "execution_count": 30,
   "metadata": {
    "id": "6ZEYkqoGwUv_"
   },
   "outputs": [
    {
     "name": "stdout",
     "output_type": "stream",
     "text": [
      "first_sample1= 5\n",
      "first_sample2= 6\n"
     ]
    }
   ],
   "source": [
    "#access first element from both 1D array and 2D array\n",
    "#WRITE CODE BELOW\n",
    "#first element of 1D array \n",
    "first_sample1 = sample_1[0]\n",
    "print(\"first_sample1=\",first_sample1)\n",
    "\n",
    "#first element of 2D array\n",
    "first_sample2 = sample_2[0][0]\n",
    "print(\"first_sample2=\",first_sample2)\n",
    "\n",
    "\n"
   ]
  },
  {
   "cell_type": "markdown",
   "metadata": {
    "id": "Tx1lKbO6xMDT"
   },
   "source": [
    "#### <b> <font color='red'> Que 2.2 - Array Slicing </b>  </font>  \n",
    "<font color='red'> \n",
    "1. Print first three elements of sample_1 (1D array)\n",
    "2. Print all elements from second column from sample_2  (2D array) \n",
    "3. Print all elements which which belongs to (3rd and 4th row) and (2nd and 3rd column) from sample_2 (2d Array)\n",
    "\n",
    "<br> <b>  Example - Output for sample_1 and sample_2 array that were defined in the first que</b> </br>\n",
    "<br> first_three_sample1 = [5, 6 ,2] </br>\n",
    "<br> second_col_sample2 = [ 2, 0 , 2 , 6] </br>\n",
    "<br> result_sample2 = \n",
    "$$\\begin{bmatrix} 2 & 4  \\\\ 6 & 8  \\end{bmatrix}$$\n",
    "\n"
   ]
  },
  {
   "cell_type": "code",
   "execution_count": 33,
   "metadata": {
    "id": "srGlS_Gj1sc2"
   },
   "outputs": [
    {
     "name": "stdout",
     "output_type": "stream",
     "text": [
      "first_three_sample1= [5 6 2]\n",
      "second_col_sample2= [2 0 2 6]\n",
      "result_sample2\n",
      " [[2 4]\n",
      " [6 8]]\n"
     ]
    }
   ],
   "source": [
    "#define three variables\n",
    "#first three variables of sample_1 (1D array)\n",
    "first_three_sample1 = sample_1[0:3]\n",
    "print(\"first_three_sample1=\",first_three_sample1)\n",
    "\n",
    "\n",
    "#print all elements from second column from sample_2 (2D array)\n",
    "second_col_sample2 = sample_2[...,1]\n",
    "print(\"second_col_sample2=\",second_col_sample2)\n",
    "\n",
    "#print all elements from 3rd and 4th row and 2nd and 3rd column from sample_2 (2D array)\n",
    "result_sample2 = sample_2[2:4,1:3]\n",
    "print(\"result_sample2\\n\",result_sample2)"
   ]
  },
  {
   "cell_type": "markdown",
   "metadata": {
    "id": "Erxa07sonxzx"
   },
   "source": [
    "#### <b> <font color='red'> Que 3 - Sorting the array - Sort the 1D array (sample_1)  and print it</b>  </font>  \n",
    "\n",
    "<br> <b>  Example - Output for sample_1  array that was defined in the first que</b> </br>\n",
    "sorted_sample_1 = [ 2, 5, 6, 7, 8, 8 ]"
   ]
  },
  {
   "cell_type": "code",
   "execution_count": 8,
   "metadata": {
    "id": "ecIDawHW3zlt"
   },
   "outputs": [
    {
     "name": "stdout",
     "output_type": "stream",
     "text": [
      "sorted_sample_1 = [2, 5, 6, 7, 8, 8]\n"
     ]
    }
   ],
   "source": [
    "#sort the 1D array (sample_1)\n",
    "#WRITE code below\n",
    "sorted_sample_1 = sorted(sample_1)\n",
    "\n",
    "print(\"sorted_sample_1 =\",sorted_sample_1)\n",
    "\n",
    "\n"
   ]
  },
  {
   "cell_type": "markdown",
   "metadata": {
    "id": "QmdGhjwTrNXK"
   },
   "source": [
    "#### <b> <font color='red'> Que 4 - Finding the mean and maximum value of rows and columns </font>  </b>\n",
    "\n",
    "<font color='red'> \n",
    "1. Find the mean of sample_1 (1D array). </font>\n",
    "<font color='red'> \n",
    "2. Find the maximum value from each column of sample_2 (2D array). </font>\n",
    "\n",
    "\n",
    "<br> <b>  Example - Output for sample_1 and sample_2 array that were defined in the first que </b> </br>\n",
    "<br>mean_sample_1 =      6.0 </br>\n",
    "<br>max_column_sample2 = [6, 6 , 8] </br>"
   ]
  },
  {
   "cell_type": "code",
   "execution_count": 9,
   "metadata": {
    "id": "fpbMmQvUpxQt"
   },
   "outputs": [
    {
     "name": "stdout",
     "output_type": "stream",
     "text": [
      "mean_sample_1 = 6.0\n",
      "max_column_sample2 = [6 6 8]\n"
     ]
    }
   ],
   "source": [
    "#mean of  one_d array\n",
    "#Write code below\n",
    "mean_sample1 = np.mean(sample_1)\n",
    "print(\"mean_sample_1 =\",mean_sample1)\n",
    "\n",
    "\n",
    "\n",
    "#max value from each column\n",
    "#write code below\n",
    "max_column_sample2 = np.amax(sample_2,0)\n",
    "print(\"max_column_sample2 =\",max_column_sample2)\n",
    "\n",
    "\n"
   ]
  },
  {
   "cell_type": "markdown",
   "metadata": {
    "id": "NIj2MlkvzedV"
   },
   "source": [
    "#### <b> <font color='red'>Que 5 - Defining a random numpy array with given shape </font></b>\n",
    "<font color='red'> Take two inputs from the user <b>num_rows</b> and <b> num_cols</b>, you have to define a random numpy matrix with dimensions (num_rows x num_cols) \n",
    "Hint - You can use numpy.random function </font>"
   ]
  },
  {
   "cell_type": "code",
   "execution_count": 10,
   "metadata": {
    "id": "5CR_ddl_upmC"
   },
   "outputs": [
    {
     "name": "stdout",
     "output_type": "stream",
     "text": [
      "Enter the number of rows\n",
      "3\n",
      "Enter the number of columns\n",
      "4\n"
     ]
    }
   ],
   "source": [
    "print('Enter the number of rows')\n",
    "num_rows= int(input())\n",
    "print('Enter the number of columns')\n",
    "num_cols = int(input())\n"
   ]
  },
  {
   "cell_type": "code",
   "execution_count": 11,
   "metadata": {
    "id": "YMO4UfHVdiI-"
   },
   "outputs": [
    {
     "name": "stdout",
     "output_type": "stream",
     "text": [
      "[[0.50043066 0.51949138 0.65748605 0.94670108]\n",
      " [0.27767828 0.69592159 0.56441009 0.18883229]\n",
      " [0.09605656 0.17389643 0.54946204 0.54686003]]\n"
     ]
    }
   ],
   "source": [
    "# define a random matrix of size (num_rows x num_cols)\n",
    "#WRITE Code below\n",
    "random_matrix=np.random.random((num_rows,num_cols))\n",
    "print(random_matrix)\n",
    "\n"
   ]
  },
  {
   "cell_type": "markdown",
   "metadata": {
    "id": "aL8BV5T61D1W"
   },
   "source": [
    "#### <b> <font color='red'>Que 6.1 - Elementwise Multiplication and Matrix multiplication  </font></b>\n",
    "<font color='red'> There are two ways of multiplication of numpy arrays. The first one is element wise multiplication, where you have to multiply both arrays elementwise.  </font>\n",
    "<font color='red'> Define two 1D matrices having 4 elements each, and multiply them elementwise. </font>\n",
    "\n",
    "<br> <b>  Example </b> </br>\n",
    "\n",
    "<br> array_1 = [2 , 3, 4 , 5] </br>\n",
    "<br> array_2 = [3,  4,  5,  6] </br>\n",
    "<br> result_array = [6, 12 , 20, 30 ] </br>\n",
    "\n",
    "\n"
   ]
  },
  {
   "cell_type": "code",
   "execution_count": 19,
   "metadata": {
    "id": "Lx6YyfJF-G47"
   },
   "outputs": [
    {
     "name": "stdout",
     "output_type": "stream",
     "text": [
      "array_1 = [2 3 4 5]\n",
      "array_2 = [3 4 5 6]\n",
      "result_array = [ 6 12 20 30]\n"
     ]
    }
   ],
   "source": [
    "array_1 = np.array([2,3,4,5])\n",
    "array_2 = np.array([3, 4, 5, 6])\n",
    "\n",
    "#multiply these two arrays\n",
    "#store the result in result_array\n",
    "print(\"array_1 =\",array_1)\n",
    "print(\"array_2 =\",array_2)\n",
    "result_array = array_1*array_2\n",
    "print(\"result_array =\",result_array)"
   ]
  },
  {
   "cell_type": "markdown",
   "metadata": {
    "id": "9YfDaaGZ-y0c"
   },
   "source": [
    "#### <b> <font color='red'>Que 6.2 - Elementwise Multiplication and Matrix multiplication  </font></b>\n",
    "<font color='red'> The second one is matrix multiplication, where you have to multiply both arrays according to standard matrix multiplication.  </font>\n",
    "<font color='red'> Define two 2D matrices first_one of size 2X5 and second_one of size 5X2. Perform matrix mutiplication and print shape of resultant array. </font>\n",
    "\n",
    "<br> <b>  Example </b> </br>\n",
    "<br> If you perform matrix multiplication of array_1 and array_2  </br>\n",
    "array_1  = $$\\begin{bmatrix} 1 & 3 &4 &5 &6  \\\\ 2 &5 &7 &8&9  \\end{bmatrix}$$\n",
    "array_2  = $$\\begin{bmatrix} 2 & 4  \\\\ 2 & 6 \\\\0 &3 \\\\8 & 0 \\\\ 1&4   \\end{bmatrix}$$\n",
    "\n",
    " will get the resultant array as \n",
    "$$\\begin{bmatrix} 54 & 58  \\\\ 87 & 95  \\end{bmatrix}$$"
   ]
  },
  {
   "cell_type": "code",
   "execution_count": 21,
   "metadata": {
    "id": "jCXzh_yd_hTT"
   },
   "outputs": [
    {
     "name": "stdout",
     "output_type": "stream",
     "text": [
      "array_1 =\n",
      " [[1 3 4 5 6]\n",
      " [2 5 7 8 9]]\n",
      "array_2 =\n",
      " [[2 4]\n",
      " [2 6]\n",
      " [0 3]\n",
      " [8 0]\n",
      " [1 4]]\n",
      "resultant_array\n",
      " [[54 58]\n",
      " [87 95]]\n",
      "(2, 2)\n"
     ]
    }
   ],
   "source": [
    "array_1 = np.array([[1,3,4,5,6],[2,5,7,8,9]])\n",
    "array_2 = np.array([[2,4],[2,6],[0,3],[8,0],[1,4]])\n",
    "\n",
    "#multiply these two arrays using matrix multiplication\n",
    "#store the result in result_array\n",
    "print(\"array_1 =\\n\", array_1)\n",
    "print(\"array_2 =\\n\", array_2)\n",
    "result_array = array_1.dot(array_2)\n",
    "print(\"resultant_array\\n\",result_array)\n",
    "\n",
    "print(result_array.shape)"
   ]
  },
  {
   "cell_type": "markdown",
   "metadata": {
    "id": "a4VOw0DdfzYD"
   },
   "source": [
    "#### <b> <font color='red'>Que 7 - Creating a copy of array</font></b>\n",
    "<font color='red'> Define a matrix named original_array with some values. Create a copy of this array named copy_array. Now change the first element of the copy_array and then print original_array and copy_array.\n",
    "<br> Note - While printing you have to make sure that only the copy_array is changed and not the original_array.</br></font>\n",
    "\n",
    "<b> Example </b>\n",
    "- original_array = [2 , 4 ,6 , 8]\n",
    "- copy_array = [ 2, 4, 6 ,8 ]\n",
    "<br> Modify the first element of copy array to 10 and then print both arrays </br>\n",
    "- original_array = [2 ,4, 6, 8]\n",
    "- copy_array = [10, 4, 6, 8]\n",
    "\n"
   ]
  },
  {
   "cell_type": "code",
   "execution_count": 23,
   "metadata": {
    "id": "1v_2szRKgVPq"
   },
   "outputs": [
    {
     "name": "stdout",
     "output_type": "stream",
     "text": [
      "original_array =\n",
      " [2 4 6 8]\n",
      "copy_array =\n",
      " [10  4  6  8]\n"
     ]
    }
   ],
   "source": [
    "#define your original_array and copy array \n",
    "#WRITE CODE BELOW\n",
    "original_array = np.array([2,4,6,8])\n",
    "\n",
    "copy_array =original_array.flatten()\n",
    "\n",
    "#modify the first element of copy_array\n",
    "\n",
    "copy_array[0]=10\n",
    "\n",
    "#print both original and copy_array\n",
    "print(\"original_array =\\n\",original_array)\n",
    "print(\"copy_array =\\n\",copy_array)\n"
   ]
  },
  {
   "cell_type": "markdown",
   "metadata": {
    "id": "TJpxO51ujTsa"
   },
   "source": [
    "#### <b> <font color='red'> Que 8 - Concatenating the arrays along different axes</b> </font>\n",
    "<font color='red'> Given two matrices array_1 and array_2 as follows </font>\n",
    "\n",
    "array_1 = $$\\begin{bmatrix} 10 & 20  \\\\ 30 & 40  \\end{bmatrix}$$\n",
    "array_2 = $$\\begin{bmatrix} 50 & 60  \\\\ 70 & 80  \\end{bmatrix}$$\n",
    "\n",
    "<font color='red'> You have to concatenate array_1 and array_2 row-wise and column wise such that the result matrices are as follows.\n",
    "\n",
    "row_concat_array = $$\\begin{bmatrix} 10 & 20  \\\\ 30 & 40 \\\\ 50 & 60  \\\\ 70 & 80  \\end{bmatrix}$$\n",
    "col_concat_array = $$\\begin{bmatrix} 10 & 20 & 50 & 60  \\\\ 30 & 40  & 70 &80 \\end{bmatrix}$$\n"
   ]
  },
  {
   "cell_type": "code",
   "execution_count": 24,
   "metadata": {
    "id": "sffMn4oTfyy2"
   },
   "outputs": [
    {
     "name": "stdout",
     "output_type": "stream",
     "text": [
      "row_concat_array\n",
      " [[10 20]\n",
      " [30 40]\n",
      " [50 60]\n",
      " [70 80]]\n",
      "col_concat_array\n",
      " [[10 20 50 60]\n",
      " [30 40 70 80]]\n"
     ]
    }
   ],
   "source": [
    "#Defining array_1 and array_2\n",
    "array_1 = np.array([[10,20],[30,40]])\n",
    "array_2=np.array([[50,60],[70,80]])\n",
    "\n",
    "#concatenate both the arrays row wise and column wise\n",
    "#WRITE CODE BELOW\n",
    "row_concat_array=np.concatenate((array_1,array_2),axis=0)\n",
    "print(\"row_concat_array\\n\",row_concat_array)\n",
    "col_concat_array=np.concatenate((array_1,array_2), axis=1)\n",
    "print(\"col_concat_array\\n\",col_concat_array)"
   ]
  },
  {
   "cell_type": "markdown",
   "metadata": {
    "id": "aOS257K-hZuG"
   },
   "source": [
    "#### <b> <font color='red'> Que 8 Broadcasting the arrays </b>\n",
    "If the dimensions of two arrays are dissimilar, element-to-element operations are not possible. However, operations on arrays of non-similar shapes is still possible in NumPy, because of the broadcasting capability. The smaller array is broadcast to the size of the larger array so that they have compatible shapes </font>"
   ]
  },
  {
   "cell_type": "markdown",
   "metadata": {
    "id": "AzKya5bzkzPx"
   },
   "source": [
    "<font color='red'> Que 8.1 - Consider an array my_array of size 1 x 5 . Increment each element of the array by 1 and store it in  result _array</font>\n",
    "\n",
    "<b> Example </b>\n",
    "<br> my_array = [ 5 , 12, 7 ,3] </br>\n",
    "<br> result_array = [ 6, 13 , 8, 4]. </br>\n"
   ]
  },
  {
   "cell_type": "code",
   "execution_count": 26,
   "metadata": {
    "id": "WBjiOk9Ik-Qy"
   },
   "outputs": [
    {
     "name": "stdout",
     "output_type": "stream",
     "text": [
      "my_array = [ 5 12  7  3]\n",
      "result_array= [ 6 13  8  4]\n"
     ]
    }
   ],
   "source": [
    "#define my_array\n",
    "my_array = np.array([5, 12 ,7 ,3])\n",
    "\n",
    "#Increment each element of my_array by 1\n",
    "#WRITE CODE BELOW\n",
    "print(\"my_array =\",my_array)\n",
    "result_array=my_array+1\n",
    "print(\"result_array=\",result_array)\n",
    "\n",
    "\n"
   ]
  },
  {
   "cell_type": "markdown",
   "metadata": {
    "id": "AxbbqFrEmTZ4"
   },
   "source": [
    "<font color='red'> Que 2 - Consider an array of size of size 3x3 . You have to increment each element of column 1 by 5, column 2 by 10 and column 3 by 15. </font> </br>\n",
    "my_array = $$\\begin{bmatrix} 5 & 0 & 3  \\\\ 3 & 4 & 6 \\\\ 8& 0 & 7 \\end{bmatrix}$$\n",
    "\n",
    "result_array = $$\\begin{bmatrix} 10 & 10 & 18  \\\\ 8 & 14 & 21 \\\\ 13 & 10 & 22 \\end{bmatrix}$$"
   ]
  },
  {
   "cell_type": "code",
   "execution_count": 17,
   "metadata": {
    "id": "0HRCih7m0p4r"
   },
   "outputs": [
    {
     "name": "stdout",
     "output_type": "stream",
     "text": [
      "my_array =\n",
      " [[5 0 3]\n",
      " [3 4 6]\n",
      " [8 0 7]]\n",
      "result_array =\n",
      " [[10 10 18]\n",
      " [ 8 14 21]\n",
      " [13 10 22]]\n"
     ]
    }
   ],
   "source": [
    "#define my_array\n",
    "my_array = np.array([[5, 0 ,3],[3,4,6],[8,0,7]])\n",
    "\n",
    "#Increment column_1 by 5, column_2 by 10 and column_3 by 15\n",
    "#WRITE CODE BELOW\n",
    "result_array = my_array+[5,10,15]\n",
    "print(\"my_array =\\n\",my_array)\n",
    "print(\"result_array =\\n\",result_array)\n",
    "\n",
    "\n",
    "\n",
    "\n"
   ]
  },
  {
   "cell_type": "code",
   "execution_count": null,
   "metadata": {
    "id": "AReaFzKNq8ke"
   },
   "outputs": [],
   "source": []
  },
  {
   "cell_type": "markdown",
   "metadata": {
    "id": "ogC_1TmUq2bm"
   },
   "source": [
    "#<b> END OF ASSIGNMENT <b>"
   ]
  },
  {
   "cell_type": "code",
   "execution_count": null,
   "metadata": {},
   "outputs": [],
   "source": []
  }
 ],
 "metadata": {
  "colab": {
   "collapsed_sections": [],
   "provenance": []
  },
  "kernelspec": {
   "display_name": "Python 3 (ipykernel)",
   "language": "python",
   "name": "python3"
  },
  "language_info": {
   "codemirror_mode": {
    "name": "ipython",
    "version": 3
   },
   "file_extension": ".py",
   "mimetype": "text/x-python",
   "name": "python",
   "nbconvert_exporter": "python",
   "pygments_lexer": "ipython3",
   "version": "3.9.13"
  }
 },
 "nbformat": 4,
 "nbformat_minor": 1
}
