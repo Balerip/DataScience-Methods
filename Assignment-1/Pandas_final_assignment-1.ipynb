{
  "cells": [
    {
      "cell_type": "code",
      "execution_count": null,
      "metadata": {
        "id": "lPsplrBimhk1"
      },
      "outputs": [],
      "source": [
        "import pandas as pd"
      ]
    },
    {
      "cell_type": "markdown",
      "metadata": {
        "id": "ECzXEibBoQ5K"
      },
      "source": [
        "## Instructions\n",
        "1. Do not import any other library. \n",
        "2. This assignment primarily focuses on getting a hands on practise for pandas library.\n",
        "3. You have to use the \n",
        " <a href=\"https://drive.google.com/file/d/1uLqrgjqF0143NQjPlRGWqZRmW6FYBy_N/view?usp=sharing\">alcohol_data.csv</a>\n",
        "alochol_data.csv for this assignment.\n",
        "4. Do not modify the variables name. We have defined the assert function which will return True if you have written the queries correctly and the variables name are not changed.\n",
        "5. Do not modify anything in the grader function.\n",
        "6. Go through these resources in order ro learn and practise pandas operations : <a href=\"https://www.w3resource.com/python-exercises/pandas/index-dataframe.php\">Resource 1 </a> , <a href=\"https://www.tutorialspoint.com/python_pandas/index.htm\">Resource 2 </a>\n",
        "6. You can also read the documentation of all pandas functions from this <a href=\"https://pandas.pydata.org/docs/getting_started/tutorials.html\">Link </a>"
      ]
    },
    {
      "cell_type": "markdown",
      "metadata": {
        "id": "usgazAxUrUac"
      },
      "source": [
        "#### <b> <font color='red'> Que 1 - Reading the csv file </b>   -> Read the alcohol_data.csv file and store it in a dataframe </font>\n",
        "\n",
        "\n"
      ]
    },
    {
      "cell_type": "code",
      "source": [
        "#Please make sure that you define the dataframe name as alcohol_df\n",
        "alcohol_df = "
      ],
      "metadata": {
        "id": "tWHbHXrnC-1s"
      },
      "execution_count": null,
      "outputs": []
    },
    {
      "cell_type": "code",
      "source": [
        "def assert_1(df):\n",
        "  assert(len(df)==193)\n",
        "  print(\"ASEERT 1 passed\")\n",
        "assert_1(alcohol_df)"
      ],
      "metadata": {
        "id": "kP5vsNB6DsJi"
      },
      "execution_count": 2,
      "outputs": []
    },
    {
      "cell_type": "code",
      "source": [
        "#printing the first 5 rows of alcohol_data\n",
        "#you can have a glimpse of the dataset you are dealing with\n",
        "#head function will print first 5 rows and the corresponding values\n",
        "alcohol_df.head(5)"
      ],
      "metadata": {
        "id": "ducUVu0gEdk5"
      },
      "execution_count": 1,
      "outputs": []
    },
    {
      "cell_type": "markdown",
      "source": [
        "#### <b> <font color='red'> Que 2 - Getting columns of the dataframe </b>   -> Write a query to get all the columns of the dataframe and store it in a list named as columns_list </font>\n",
        "\n",
        "If you write your query correctly you'll get </br>\n",
        "columns_list = ['country', 'beer_servings', 'spirit_servings', 'wine_servings', 'total_litres_of_pure_alcohol', 'continent']"
      ],
      "metadata": {
        "id": "7Stfp7WYELTz"
      }
    },
    {
      "cell_type": "code",
      "execution_count": null,
      "metadata": {
        "id": "gzb9i23UrXgW"
      },
      "outputs": [],
      "source": [
        "columns_list = "
      ]
    },
    {
      "cell_type": "code",
      "execution_count": 3,
      "metadata": {
        "id": "vBCzMRqHsl3W"
      },
      "outputs": [],
      "source": [
        "def assert_2(col_list):\n",
        "  assert(len(col_list)==6)\n",
        "  assert(type(col_list)==list)\n",
        "  print(\"ASEERT 2 passed\")\n",
        "assert_2(columns_list)"
      ]
    },
    {
      "cell_type": "markdown",
      "metadata": {
        "id": "ANAfQvfXmuar"
      },
      "source": [
        "#### <b> <font color='red'> Que 3 - Getting unique values from continent </b>   -> Write a query to fetch all the unique continent names from column continent and store it in a list </font>\n",
        "\n",
        "Example - continents_list = ['AF', 'AS', 'EU', 'A', 'OC', 'SA']\n",
        "\n",
        "\n",
        "\n"
      ]
    },
    {
      "cell_type": "code",
      "execution_count": null,
      "metadata": {
        "id": "OSO2zdyXmlMd"
      },
      "outputs": [],
      "source": [
        "continents_list = "
      ]
    },
    {
      "cell_type": "code",
      "source": [
        "def assert_3(con_list):\n",
        "  assert(type(con_list)==list)\n",
        "  assert(len(con_list)==6)\n",
        "  assert('AF' in con_list and 'OC' in con_list)\n",
        "  print(\"ASEERT 3 passed\")\n",
        "assert_3(continents_list)"
      ],
      "metadata": {
        "id": "qquA6AtxNUUq"
      },
      "execution_count": 4,
      "outputs": []
    },
    {
      "cell_type": "markdown",
      "source": [
        "#### <b> <font color='red'> Que 4 - Getting the max value of beer servings </b>   -> Write a query to get the maximum value of beer_servings from the table and store it in max_beer_servings table </font>"
      ],
      "metadata": {
        "id": "veaheGuEN8nP"
      }
    },
    {
      "cell_type": "code",
      "source": [
        "max_beer_servings= "
      ],
      "metadata": {
        "id": "9FxJBeEON8C0"
      },
      "execution_count": 6,
      "outputs": []
    },
    {
      "cell_type": "code",
      "execution_count": 5,
      "metadata": {
        "id": "_DJhYeMeP8Nk"
      },
      "outputs": [],
      "source": [
        "def assert_4(max_beer_servings):\n",
        "  assert(max_beer_servings==376)\n",
        "  print(\"ASEERT 4 passed\")\n",
        "assert_4(max_beer_servings)"
      ]
    },
    {
      "cell_type": "markdown",
      "metadata": {
        "id": "XKLaz45ovqun"
      },
      "source": [
        "#### <b> <font color='red'> Que 5 - Getting the subset of data  </b>  -> Write a query to fetch all the rows where wine_servings is more than 30 and store it in a variable named wine_servings_30</font>\n",
        "\n",
        "\n",
        "<br> <b>  Example - If you write your query correctly then you'll get a dataframe with 64 rows</b> </br>\n",
        "\n",
        "\n"
      ]
    },
    {
      "cell_type": "code",
      "execution_count": null,
      "metadata": {
        "id": "6ZEYkqoGwUv_"
      },
      "outputs": [],
      "source": [
        "wine_servings_30= "
      ]
    },
    {
      "cell_type": "code",
      "execution_count": 7,
      "metadata": {
        "id": "HPc-w2-lBeWu"
      },
      "outputs": [],
      "source": [
        "def assert_5(df):\n",
        "  assert(len(df)==64)\n",
        "  print(\"ASEERT 5 passed\")\n",
        "assert_5(wine_servings_30)"
      ]
    },
    {
      "cell_type": "markdown",
      "metadata": {
        "id": "Tx1lKbO6xMDT"
      },
      "source": [
        "#### <b> <font color='red'> Que 6 - Getting subset of data with multiple conditions - </b> Write a query to fetch all rows where beer_servings is greater than 100 and are in Asia continet(AS) and store it in varible named df_6</font>  \n",
        "<font color='red'> \n",
        "<font color='red'> \n",
        "\n",
        "\n",
        "\n"
      ]
    },
    {
      "cell_type": "code",
      "execution_count": null,
      "metadata": {
        "id": "srGlS_Gj1sc2"
      },
      "outputs": [],
      "source": [
        "df_6= "
      ]
    },
    {
      "cell_type": "code",
      "execution_count": 8,
      "metadata": {
        "id": "e4IPK1sWBeWv"
      },
      "outputs": [],
      "source": [
        "def assert_6(df):\n",
        "  assert(len(df)==4)\n",
        "  print(\"ASEERT 6 passed\")\n",
        "assert_6(df_6)"
      ]
    },
    {
      "cell_type": "markdown",
      "metadata": {
        "id": "Erxa07sonxzx"
      },
      "source": [
        "#### <b> <font color='red'> Que 7 - Sorting the dataframe - </b> Write a query to sort the dataframe by spirits serving and find 5 countries that have <br>\n",
        "- the highest spirit_servings\n",
        "- the least spirit_servings </font>  \n",
        "\n"
      ]
    },
    {
      "cell_type": "code",
      "execution_count": null,
      "metadata": {
        "id": "ecIDawHW3zlt"
      },
      "outputs": [],
      "source": [
        "#there is no grader function for this query\n",
        "#add a markdown cell and write the name of required\n",
        "#write your CODE below\n",
        "sorted_data = "
      ]
    },
    {
      "cell_type": "code",
      "source": [],
      "metadata": {
        "id": "Yg87m2V-BLAb"
      },
      "execution_count": null,
      "outputs": []
    },
    {
      "cell_type": "markdown",
      "metadata": {
        "id": "QmdGhjwTrNXK"
      },
      "source": [
        "#### <b> <font color='red'> Que 8 - Group by - Write a query to fetch the total numer of beer_servings for each continent </font>  </b>\n",
        "\n",
        "\n",
        "\n",
        "<br> <b>  Hint - You'll get the value for Asia Continent = 1630 </b> </br>\n"
      ]
    },
    {
      "cell_type": "code",
      "source": [
        "continent_df_1= "
      ],
      "metadata": {
        "id": "TqpcikPB7-Mt"
      },
      "execution_count": null,
      "outputs": []
    },
    {
      "cell_type": "code",
      "source": [
        "def assert_8(df):\n",
        "  assert(len(df)==6)\n",
        "  assert(df.loc['AS']['beer_servings']==1630)\n",
        "  print(\"ASEERT 8 passed\")\n",
        "assert_8(continent_df_1)"
      ],
      "metadata": {
        "id": "kVI6sCtu8UEn"
      },
      "execution_count": 9,
      "outputs": []
    },
    {
      "cell_type": "markdown",
      "source": [
        "#### <b> <font color='red'> Que 9 - Adding a new column </b> </br> Create a new column in the dataframe alcohol_df called total_servings which is the sum of beer_servings, spirit_servings, wine_servings </font>  \n"
      ],
      "metadata": {
        "id": "JBGDfton4P14"
      }
    },
    {
      "cell_type": "code",
      "execution_count": null,
      "metadata": {
        "id": "fpbMmQvUpxQt"
      },
      "outputs": [],
      "source": [
        "#add a new column in the dataframe\n"
      ]
    },
    {
      "cell_type": "code",
      "source": [
        "def assert_9 (df):\n",
        "  assert('total_servings' in list(df.columns))\n",
        "  assert(df.loc[0]['total_servings']==39)\n",
        "  print(\"ASSERT 9 passed\")\n",
        "assert_9(alcohol_df)"
      ],
      "metadata": {
        "colab": {
          "base_uri": "https://localhost:8080/"
        },
        "id": "EvUko-7E9fJT",
        "outputId": "8279bb73-c10c-42a4-c2c0-f681cf4dfe27"
      },
      "execution_count": null,
      "outputs": [
        {
          "output_type": "stream",
          "name": "stdout",
          "text": [
            "ASSERT 9 passed\n"
          ]
        }
      ]
    },
    {
      "cell_type": "markdown",
      "source": [
        "#### <b> <font color='red'> Que 10- Replacing values - </b></br> For countries that drink more than 200 servings of beer, change their (country names) names to \"beer_nation\" in alcohol_df dataframe</font>  \n"
      ],
      "metadata": {
        "id": "8LgrEeNq4gsP"
      }
    },
    {
      "cell_type": "code",
      "source": [
        "#write code below"
      ],
      "metadata": {
        "id": "Jzxa1DfL4fM_"
      },
      "execution_count": 10,
      "outputs": []
    },
    {
      "cell_type": "code",
      "execution_count": 11,
      "metadata": {
        "id": "fVdWZGhiBeWx"
      },
      "outputs": [],
      "source": [
        "def assert_10(df):\n",
        "  assert(df[df['beer_servings']>200]['country'].nunique()==1)\n",
        "  print(\"Assert 10 passed\")\n",
        "assert_10(alcohol_df)"
      ]
    },
    {
      "cell_type": "markdown",
      "metadata": {
        "id": "NIj2MlkvzedV"
      },
      "source": [
        "\n",
        "#### <b> <font color='red'> Que 11- Save the data frame as an Excel file with name updated_drinks_excel </font>  </b>"
      ]
    },
    {
      "cell_type": "code",
      "source": [
        "#save your dataframe alcohol_df in excel format\n"
      ],
      "metadata": {
        "id": "1RjUwLzf_fUH"
      },
      "execution_count": null,
      "outputs": []
    },
    {
      "cell_type": "markdown",
      "metadata": {
        "id": "ogC_1TmUq2bm"
      },
      "source": [
        "#<b> END OF ASSIGNMENT <b>"
      ]
    }
  ],
  "metadata": {
    "colab": {
      "collapsed_sections": [],
      "provenance": []
    },
    "kernelspec": {
      "display_name": "Python 3 (ipykernel)",
      "language": "python",
      "name": "python3"
    },
    "language_info": {
      "codemirror_mode": {
        "name": "ipython",
        "version": 3
      },
      "file_extension": ".py",
      "mimetype": "text/x-python",
      "name": "python",
      "nbconvert_exporter": "python",
      "pygments_lexer": "ipython3",
      "version": "3.9.7"
    }
  },
  "nbformat": 4,
  "nbformat_minor": 0
}