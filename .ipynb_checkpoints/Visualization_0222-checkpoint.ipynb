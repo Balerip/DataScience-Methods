{
 "cells": [
  {
   "cell_type": "markdown",
   "metadata": {},
   "source": [
    "#### Introduction\n",
    "\n",
    "In this notebook we will discuss about matplotlib.\n",
    "\n",
    "\n",
    "Matplotlib is an excellent 2D and 3D graphics library for generating scientific figures. Some of the many advantages of this library include:\n",
    "\n",
    "- Easy to get started\n",
    "- Support for  LATEX  formatted labels and texts\n",
    "- Great control of every element in a figure, including figure size and DPI.\n",
    "- High-quality output in many formats, including PNG, PDF, SVG, EPS, and PGF.\n",
    "- GUI for interactively exploring figures and support for headless generation of figure files (useful for batch jobs).\n",
    "\n",
    "One of the key features of matplotlib that I would like to emphasize, and that I think makes matplotlib highly suitable for generating figures for scientific publications is that all aspects of the figure can be controlled programmatically. This is important for reproducibility and convenient when one needs to regenerate the figure with updated data or change its appearance.\n",
    "\n",
    "pyplot is file in the matplotlib library that contains functions and classes to plot.\n",
    "\n",
    "pyplot is a collection of command style functions that make Matplotlib. Each pyplot function makes some change to a figure.\n",
    "\n",
    "More information at the Matplotlib web page: http://matplotlib.org/\n",
    "\n",
    "\n",
    "To get started using Matplotlib, import the matplotlib.plot module under the name plt"
   ]
  },
  {
   "cell_type": "code",
   "execution_count": null,
   "metadata": {
    "ExecuteTime": {
     "end_time": "2020-10-29T15:08:57.839927Z",
     "start_time": "2020-10-29T15:08:57.829347Z"
    }
   },
   "outputs": [],
   "source": [
    "import numpy as np\n",
    "import pandas as pd\n",
    "import matplotlib\n",
    "import matplotlib.pyplot as plt\n",
    "\n",
    "\"\"\"\n",
    "This command is used to display the plots in this Jupyter notebook. \n",
    "If this is not included, then the plot will be shown in a new window outside the Jupyter notebook.\n",
    "\"\"\"\n",
    "%matplotlib inline\n",
    "\n",
    "# %matplotlib notebook"
   ]
  },
  {
   "cell_type": "markdown",
   "metadata": {},
   "source": [
    "#### Line Chart\n",
    "The line chart is one of the simplest and most widely used data visualization techniques. A line chart displays information as a series of data points or markers connected by straight lines. You can customize the shape, size, color, and other aesthetic elements of the lines and markers for better visual clarity.\n",
    "\n",
    "We can visualize how the yield of apples changes over time using a line chart. To draw a line chart, we can use the plt.plot function."
   ]
  },
  {
   "cell_type": "code",
   "execution_count": null,
   "metadata": {
    "ExecuteTime": {
     "end_time": "2020-10-29T15:09:21.669849Z",
     "start_time": "2020-10-29T15:09:21.261954Z"
    }
   },
   "outputs": [],
   "source": [
    "# Here's some basic code to generating one of the most simple graphs that we can. \n",
    "x = [1, 2, 3, 4]\n",
    "y = [5,6,7,8]\n",
    "plt.plot(x,y) # supplying list to plot()\n",
    "\n",
    "#plt.show()"
   ]
  },
  {
   "cell_type": "markdown",
   "metadata": {},
   "source": [
    "Calling the plt.plot function draws the line chart as expected. It also returns a list of plots drawn [<matplotlib.lines.Line2D at 0x7ff2d3f12c10>], shown within the output. We can include a semicolon (;) at the end of the last statement in the cell to avoiding showing the output and display just the graph."
   ]
  },
  {
   "cell_type": "code",
   "execution_count": null,
   "metadata": {},
   "outputs": [],
   "source": [
    "plt.plot(x,y);"
   ]
  },
  {
   "cell_type": "markdown",
   "metadata": {},
   "source": [
    "Let's enhance the plot step-by-step to make it more informative \n",
    "\n",
    "#### Figure titles, Axis labels \n",
    "\n",
    "A title can be added to each axis instance in a figure. To set the title, use the set_title method in the axes instance:\n",
    "We are supposed to labels on each axis and we need a title to our graph and put the grid \n",
    "\n",
    "Similarly, with the methods xlabel and ylabel, we can set the labels of the X and Y axes:"
   ]
  },
  {
   "cell_type": "code",
   "execution_count": null,
   "metadata": {
    "ExecuteTime": {
     "end_time": "2020-10-29T15:12:11.117572Z",
     "start_time": "2020-10-29T15:12:10.621908Z"
    }
   },
   "outputs": [],
   "source": [
    "plt.plot(x,y)\n",
    "plt.title('simple graph')\n",
    "plt.ylabel('Y')\n",
    "plt.xlabel('X')\n",
    "plt.grid(True)"
   ]
  },
  {
   "cell_type": "markdown",
   "metadata": {},
   "source": [
    "#### Figure size, aspect ratio and DPI\n",
    "\n",
    "Matplotlib allows the aspect ratio, DPI and figure size to be specified when the Figure object is created, using the figsize and dpi keyword arguments. figsize is a tuple of the width and height of the figure in inches, and dpi is the dots-per-inch (pixel per inch). To create an 800x400 pixel, 100 dots-per-inch figure, we can do:"
   ]
  },
  {
   "cell_type": "code",
   "execution_count": null,
   "metadata": {},
   "outputs": [],
   "source": [
    "fig = plt.figure(figsize=(8,4), dpi=100)"
   ]
  },
  {
   "cell_type": "code",
   "execution_count": null,
   "metadata": {
    "ExecuteTime": {
     "end_time": "2020-10-29T15:15:22.027584Z",
     "start_time": "2020-10-29T15:15:21.657126Z"
    },
    "scrolled": true
   },
   "outputs": [],
   "source": [
    "# Change the size of the figure using the method figure()\n",
    "plt.figure(figsize=(8,5))\n",
    "plt.plot(x,y);"
   ]
  },
  {
   "cell_type": "markdown",
   "metadata": {},
   "source": [
    "#### Saving figures\n",
    "To save a figure to a file we can use the savefig method in the Figure class:"
   ]
  },
  {
   "cell_type": "code",
   "execution_count": null,
   "metadata": {
    "ExecuteTime": {
     "end_time": "2020-10-29T15:16:08.538782Z",
     "start_time": "2020-10-29T15:16:08.071312Z"
    }
   },
   "outputs": [],
   "source": [
    "# How to save the figure\n",
    "fig = plt.figure()\n",
    "plt.plot(x,y)\n",
    "plt.title(' simple graph')\n",
    "plt.ylabel('Y axis')\n",
    "plt.xlabel('X axis')\n",
    "plt.grid(True)\n",
    "fig.savefig('test.png')\n",
    "#fig.savefig('/Users/pramodgupta/Desktop/test.png')\n",
    "#plt.figure().savefig('my_fig.png')\n"
   ]
  },
  {
   "cell_type": "code",
   "execution_count": null,
   "metadata": {},
   "outputs": [],
   "source": [
    "!ls -lh test.png"
   ]
  },
  {
   "cell_type": "markdown",
   "metadata": {},
   "source": [
    "###### What formats are available and which ones should be used for best quality?\n",
    "Matplotlib can generate high-quality output in a number formats, including PNG, JPG, EPS, SVG, PGF and PDF. For scientific papers, I recommend using PDF whenever possible. (LaTeX documents compiled with pdflatex can include PDFs using the includegraphics command). In some cases, PGF can also be good alternative.\n",
    "\n"
   ]
  },
  {
   "cell_type": "code",
   "execution_count": null,
   "metadata": {
    "ExecuteTime": {
     "end_time": "2020-10-29T15:17:32.697392Z",
     "start_time": "2020-10-29T15:17:32.689337Z"
    }
   },
   "outputs": [],
   "source": [
    "fig.canvas.get_supported_filetypes()"
   ]
  },
  {
   "cell_type": "code",
   "execution_count": null,
   "metadata": {
    "ExecuteTime": {
     "end_time": "2020-10-29T15:18:32.981542Z",
     "start_time": "2020-10-29T15:18:32.610738Z"
    }
   },
   "outputs": [],
   "source": [
    "# Next to change the line width \n",
    "plt.plot(x,y, linewidth = 6)\n",
    "plt.title(' simple graph')\n",
    "plt.ylabel('Y axis')\n",
    "plt.xlabel('X axis')\n",
    "plt.grid(True)\n"
   ]
  },
  {
   "cell_type": "code",
   "execution_count": null,
   "metadata": {
    "ExecuteTime": {
     "end_time": "2020-10-29T15:19:10.508856Z",
     "start_time": "2020-10-29T15:19:10.149606Z"
    }
   },
   "outputs": [],
   "source": [
    "# Change the color \n",
    "plt.plot(x,y, color = 'g')\n",
    "#plt.plot(x,y,'g')\n",
    "plt.title(' simple graph')\n",
    "plt.ylabel('Y axis')\n",
    "plt.xlabel('X axis')\n",
    "plt.grid(True)"
   ]
  },
  {
   "cell_type": "markdown",
   "metadata": {},
   "source": [
    "#### Plotting Multiple Lines "
   ]
  },
  {
   "cell_type": "code",
   "execution_count": null,
   "metadata": {
    "ExecuteTime": {
     "end_time": "2020-10-29T15:24:21.765787Z",
     "start_time": "2020-10-29T15:24:21.376798Z"
    }
   },
   "outputs": [],
   "source": [
    "# plot two sets of data on the same graph\n",
    "x1 = [5,8,10,12]\n",
    "y1 = [12,16,6,10]\n",
    "\n",
    "x2 = [6,9,11, 13]\n",
    "y2 = [6,15,7, 15]\n",
    "\n",
    "# can plot specifically, after just showing the defaults:\n",
    "plt.plot(x1,y1, color = 'b', linewidth = 4)   # blue\n",
    "plt.plot(x2,y2, color = 'k', linewidth = 6)   # black\n",
    "\n",
    "# plt.plot(x1,y1)\n",
    "# plt.plot(x2,y2)\n",
    "\n",
    "\n",
    "# plt.plot(x1,y1,linewidth=5)\n",
    "# plt.plot(x2,y2,linewidth=6)\n",
    "\n",
    "plt.title('simple graph')\n",
    "\n",
    "plt.ylabel('Y axis')\n",
    "plt.xlabel('X axis')\n",
    "plt.grid(True)"
   ]
  },
  {
   "cell_type": "code",
   "execution_count": null,
   "metadata": {
    "ExecuteTime": {
     "end_time": "2020-10-29T15:24:26.210417Z",
     "start_time": "2020-10-29T15:24:25.747257Z"
    }
   },
   "outputs": [],
   "source": [
    "#plt.plot(x1,y1,'g',x2,y2,'r')\n",
    "plt.plot(x1,y1,'g',x2,y2,'r', linewidth = 5)\n",
    "plt.title('Multiple plot')\n",
    "plt.xlabel('X')\n",
    "plt.ylabel('Y')\n",
    "plt.grid(True)"
   ]
  },
  {
   "cell_type": "markdown",
   "metadata": {},
   "source": [
    "#### Legends\n",
    "Now we want to add the legend to show which line represent what? we will see how to add grid also \n",
    "\n",
    "To add the legend use label=\"label text\" keyword argument when plots or other objects are added to the figure, and then using the legend method without arguments to add the legend to the figure.\n",
    "\n",
    "The advantage with this method is that if curves are added or removed from the figure, the legend is automatically updated accordingly.\n",
    "\n",
    "The legend function takes an optional keyword argument loc that can be used to specify where in the figure the legend is to be drawn. The allowed values of loc are numerical codes for the various places the legend can be drawn. See http://matplotlib.org/users/legend_guide.html#legend-location for details. Some of the most common loc values are:\n",
    "\n",
    "plt.legend(loc=0) # let matplotlib decide the optimal location\n",
    "\n",
    "plt.legend(loc=1) # upper right corner\n",
    "\n",
    "plt.legend(loc=2) # upper left corner\n",
    "\n",
    "plt.legend(loc=3) # lower left corner\n",
    "\n",
    "plt.legend(loc=4) # lower right corner\n",
    "\n",
    "many more options are available"
   ]
  },
  {
   "cell_type": "code",
   "execution_count": null,
   "metadata": {
    "ExecuteTime": {
     "end_time": "2020-10-29T15:28:53.397761Z",
     "start_time": "2020-10-29T15:28:52.915105Z"
    }
   },
   "outputs": [],
   "source": [
    "plt.plot(x1,y1,label='Company 1')\n",
    "plt.plot(x2,y2,label='Company 2')\n",
    "\n",
    "plt.title('company wise analysis')\n",
    "plt.ylabel('Revenue')\n",
    "plt.xlabel('X')\n",
    "plt.grid()\n",
    "plt.legend();\n",
    "#plt.legend(loc = 'upper right');\n",
    "#plt.legend(loc = 2)"
   ]
  },
  {
   "cell_type": "code",
   "execution_count": null,
   "metadata": {},
   "outputs": [],
   "source": [
    "plt.plot(x1,y1)\n",
    "plt.plot(x2,y2)\n",
    "\n",
    "plt.title('company wise analysis')\n",
    "plt.ylabel('Revenue')\n",
    "plt.xlabel('X')\n",
    "plt.grid()\n",
    "plt.legend(['Company1','Company2'], loc = 'upper right' );"
   ]
  },
  {
   "cell_type": "markdown",
   "metadata": {},
   "source": [
    "#### Line Markers\n",
    "We can also show markers for the data points on each line using the marker argument of plt.plot. Matplotlib provides many different markers, like a circle, cross, square, diamond, etc. You can find the full list of marker types here: https://matplotlib.org/3.1.1/api/markers_api.html ."
   ]
  },
  {
   "cell_type": "code",
   "execution_count": null,
   "metadata": {},
   "outputs": [],
   "source": [
    "plt.plot([1, 2, 3, 4], [1, 4, 9, 16],marker =  \"x\")\n",
    "#plt.plot([1, 2, 3, 4], [1, 4, 9, 16],\"x\")\n",
    "plt.grid(True)\n"
   ]
  },
  {
   "cell_type": "code",
   "execution_count": null,
   "metadata": {
    "ExecuteTime": {
     "end_time": "2020-10-29T15:30:00.052332Z",
     "start_time": "2020-10-29T15:29:59.610065Z"
    }
   },
   "outputs": [],
   "source": [
    "\"\"\"\n",
    "In \"ro\", \"r\" stands for red and \"o\" stands for circles.\n",
    "\n",
    "\"\"\"\n",
    "plt.plot([1, 2, 3, 4], [1, 4, 9, 16],\"rx\")\n",
    "plt.plot([1, 2, 3, 4], [1, 4, 9, 16])\n",
    "plt.grid(True)\n",
    "\n"
   ]
  },
  {
   "cell_type": "markdown",
   "metadata": {},
   "source": [
    "#### Styling Lines and Markers\n",
    "The plt.plot function supports many arguments for styling lines and markers:\n",
    "\n",
    "- color or c: Set the color of the line (supported colors)\n",
    "- linestyle or ls: Choose between a solid or dashed line\n",
    "- linewidth or lw: Set the width of a line\n",
    "- markersize or ms: Set the size of markers\n",
    "- markeredgecolor or mec: Set the edge color for markers\n",
    "- markeredgewidth or mew: Set the edge width for markers\n",
    "- markerfacecolor or mfc: Set the fill color for markers\n",
    "- alpha: Opacity of the plot\n",
    "\n",
    "Check out the documentation for plt.plot to learn more: https://matplotlib.org/api/_as_gen/matplotlib.pyplot.plot.html#matplotlib.pyplot.plot ."
   ]
  },
  {
   "cell_type": "code",
   "execution_count": null,
   "metadata": {
    "ExecuteTime": {
     "end_time": "2020-10-29T15:31:07.696404Z",
     "start_time": "2020-10-29T15:31:07.203396Z"
    }
   },
   "outputs": [],
   "source": [
    "\"\"\"\n",
    "Here we are plotting three graphs in the same area.\n",
    "In this example, we are generating a graph that has lines connecting the points as well as dots \n",
    "at each point.\n",
    "\n",
    "The fmt argument provides a shorthand for specifying the marker shape, line style, and line color. It can be provided as the third argument to plt.plot.\n",
    "\n",
    "fmt = '[marker][line][color]'\n",
    "\n",
    "In the plot() the first three values will be used for the first graph. t, t, \"r--\" means, \n",
    "both x and y values are t, and \"r\" in \"r--\" means red and \"--\" means the line is dotted. \n",
    "Note that this graph will be linear. \n",
    "\n",
    "The next three values in plot() will be used for the second graph. x takes values from t, \n",
    "while y takes values from t**2, \n",
    "\"b\" in \"bs\" means blue and \"s\" stands for square.\n",
    "\n",
    "The last three values in the plot() will be used for the third graph. x takes values from t,\n",
    "while y takes values from t**3, \n",
    "\"g\" in \"g^\" is for green and \"^\" for triangle. \n",
    "\n",
    "\n",
    "\"\"\"\n",
    "t  = np.arange(0, 4.1, 0.2)\n",
    "# red dashes, blue squares and green triangles\n",
    "plt.plot(t, t, \"r--\", label='t')\n",
    "plt.plot(t, t**2, \"bs\", label='t^2')\n",
    "plt.plot(t, t**3, \"g^\",label='t^3')\n",
    "plt.grid(True)\n",
    "plt.legend();\n"
   ]
  },
  {
   "cell_type": "code",
   "execution_count": null,
   "metadata": {},
   "outputs": [],
   "source": [
    "#plt.plot(t, t, ls='--' )\n",
    "plt.plot(t,t**2,marker='s', c='g', ls='--', lw=3, mec = 'r',mfc = 'b', ms=10,alpha=0.4)\n"
   ]
  },
  {
   "cell_type": "markdown",
   "metadata": {},
   "source": [
    "#### Formatting text: LaTeX, fontsize, font family\n",
    "\n",
    "The figure above is functional, but it does not (yet) satisfy the criteria for a figure used in a publication. First and foremost, we need to have LaTeX formatted text, and second, we need to be able to adjust the font size to appear right in a publication.\n",
    "\n",
    "Matplotlib has great support for LaTeX. All we need to do is to use dollar signs encapsulate LaTeX in any text (legend, title, label, etc.). For example, \"$y=x^3$\".\n",
    "\n",
    "But here we can run into a slightly subtle problem with LaTeX code and Python text strings. In LaTeX, we frequently use the backslash in commands, for example \\alpha to produce the symbol  α . But the backslash already has a meaning in Python strings (the escape code character). To avoid Python messing up our latex code, we need to use \"raw\" text strings. Raw text strings are prepended with an 'r', like r\"\\alpha\" or r'\\alpha' instead of \"\\alpha\" or '\\alpha':"
   ]
  },
  {
   "cell_type": "code",
   "execution_count": null,
   "metadata": {},
   "outputs": [],
   "source": [
    "t  = np.arange(0, 4.1, 0.2)\n",
    "# red dashes, blue squares and green triangles\n",
    "plt.plot(t, t, \"r--\", label=r\"$y = t$\")\n",
    "plt.plot(t, t**2, \"bs\", label=r\"$y = t^2$\")\n",
    "plt.plot(t, t**3, \"g^\",label=r\"$y = t^3$\")\n",
    "\n",
    "# plt.plot(t, t, \"r--\", label=r\"$y = \\alpha$\")\n",
    "# plt.plot(t, t**2, \"bs\", label=r\"$y = \\alpha^2$\")\n",
    "# plt.plot(t, t**3, \"g^\",label=r\"$y = \\alpha^3$\")\n",
    "#plt.xlabel(r'$\\alpha$', fontsize=18)\n",
    "plt.xlabel(r'$t$', fontsize=18)\n",
    "plt.ylabel(r'$y$', fontsize=18)\n",
    "plt.title('Mutliple Line Graph');\n",
    "plt.grid(True)\n",
    "plt.legend(loc =2);"
   ]
  },
  {
   "cell_type": "markdown",
   "metadata": {},
   "source": [
    "We can also change the global font size and font family, which applies to all text elements in a figure (tick labels, axis labels and titles, legends, etc.):\n",
    "\n",
    "You can also edit default styles directly by modifying the matplotlib.rcParams dictionary. Learn more: https://matplotlib.org/3.2.1/tutorials/introductory/customizing.html#matplotlib-rcparams ."
   ]
  },
  {
   "cell_type": "code",
   "execution_count": null,
   "metadata": {},
   "outputs": [],
   "source": [
    "# Update the matplotlib configuration parameters:\n",
    "#matplotlib.rcParams.update({'font.size': 18, 'font.family': 'serif'})\n",
    "\n",
    "matplotlib.rcParams['font.size'] = 14\n",
    "matplotlib.rcParams['figure.figsize'] = (9, 5)\n",
    "matplotlib.rcParams['figure.facecolor'] = '#00000000'"
   ]
  },
  {
   "cell_type": "code",
   "execution_count": null,
   "metadata": {},
   "outputs": [],
   "source": [
    "t  = np.arange(0, 4.1, 0.2)\n",
    "# red dashes, blue squares and green triangles\n",
    "plt.plot(t, t, \"r--\", label=r\"$y = \\alpha$\")\n",
    "plt.plot(t, t**2, \"bs\", label=r\"$y = \\alpha^2$\")\n",
    "plt.plot(t, t**3, \"g^\",label=r\"$y = \\alpha^3$\")\n",
    "plt.xlabel(r'$\\alpha$', fontsize=18)\n",
    "plt.ylabel(r'$y$', fontsize=18)\n",
    "plt.title('Mutliple Line Graph');\n",
    "plt.grid(True)\n",
    "plt.legend(loc =2);"
   ]
  },
  {
   "cell_type": "markdown",
   "metadata": {},
   "source": [
    "Or, alternatively, we can request that matplotlib uses LaTeX to render the text elements in the figure:\n",
    "\n"
   ]
  },
  {
   "cell_type": "code",
   "execution_count": null,
   "metadata": {},
   "outputs": [],
   "source": [
    "t  = np.arange(0, 4.1, 0.2)\n",
    "# red dashes, blue squares and green triangles\n",
    "plt.plot(t, t, \"r--\", label=r\"$y = \\alpha$\")\n",
    "plt.plot(t, t**2, \"bs\", label=r\"$y = \\alpha^2$\")\n",
    "plt.plot(t, t**3, \"g^\",label=r\"$y = \\alpha^3$\")\n",
    "plt.xlabel(r'$\\alpha$', fontsize=18)\n",
    "plt.ylabel(r'$y$', fontsize=18)\n",
    "plt.title('Mutliple Line Graph');\n",
    "plt.grid(True)\n",
    "plt.legend(loc =2)"
   ]
  },
  {
   "cell_type": "code",
   "execution_count": null,
   "metadata": {},
   "outputs": [],
   "source": [
    "# restore\n",
    "matplotlib.rcParams.update({'font.size': 12, 'font.family': 'sans', 'text.usetex': False})"
   ]
  },
  {
   "cell_type": "code",
   "execution_count": null,
   "metadata": {
    "ExecuteTime": {
     "end_time": "2020-10-29T15:32:01.364728Z",
     "start_time": "2020-10-29T15:32:00.825698Z"
    }
   },
   "outputs": [],
   "source": [
    "\n",
    "y = [1, 4, 9, 16, 25,36,49, 64]\n",
    "x1 = [1, 16, 30, 42,55, 68, 77,88]\n",
    "x2 = [1,6,12,18,28, 40, 52, 65]\n",
    "fig = plt.figure()\n",
    "plt.plot(x1,y,'ys-') # solid line with yellow colour and square marker\n",
    "plt.plot(x2,y,'go--') # dash line with green colour and circle marker\n",
    "plt.legend(labels = ('tv', 'Smartphone'), loc = 'lower right') # legend placed at lower right\n",
    "plt.title(\"Advertisement effect on sales\")\n",
    "plt.xlabel('medium')\n",
    "plt.ylabel('sales')\n",
    "plt.grid(True)"
   ]
  },
  {
   "cell_type": "markdown",
   "metadata": {},
   "source": [
    "#### Setting limits\n",
    "Matplotlib automatically arrives at the minimum and maximum values of variables to be displayed along x, y axes of a plot. However, it is possible to set the limits explicitly by using xlim() and ylim() functions."
   ]
  },
  {
   "cell_type": "code",
   "execution_count": null,
   "metadata": {
    "ExecuteTime": {
     "end_time": "2020-10-29T15:33:18.272691Z",
     "start_time": "2020-10-29T15:33:17.839456Z"
    }
   },
   "outputs": [],
   "source": [
    "x = np.arange(1,10)\n",
    "plt.plot(x,np.exp(x),'r')\n",
    "plt.grid()\n",
    "plt.title('Exponential function graph')\n",
    "plt.xlabel('x')\n",
    "plt.ylabel('exponential of x')"
   ]
  },
  {
   "cell_type": "code",
   "execution_count": null,
   "metadata": {
    "ExecuteTime": {
     "end_time": "2020-10-29T15:37:54.516172Z",
     "start_time": "2020-10-29T15:37:54.163892Z"
    }
   },
   "outputs": [],
   "source": [
    "x = np.arange(1,10)\n",
    "plt.plot(x,np.exp(x),'k')\n",
    "plt.title('exp(x)')\n",
    "plt.ylim(0,8000)\n",
    "plt.xlim(0,9)\n",
    "#plt.axis([0, 9, 0, 8000])\n",
    "plt.grid(color='r', ls = '-.', lw = 0.5)"
   ]
  },
  {
   "cell_type": "markdown",
   "metadata": {},
   "source": [
    "#### Setting Ticks\n",
    "We can explicitly determine where we want the axis ticks with set_xticks and set_yticks, which both take a list of values for where on the axis the ticks are to be placed. We can also use the set_xticklabels and set_yticklabels methods to provide a list of custom text labels for each tick location:"
   ]
  },
  {
   "cell_type": "code",
   "execution_count": null,
   "metadata": {
    "ExecuteTime": {
     "end_time": "2020-10-29T15:41:37.162240Z",
     "start_time": "2020-10-29T15:41:36.774913Z"
    }
   },
   "outputs": [],
   "source": [
    "x = np.arange(1,10)\n",
    "plt.plot(x,np.exp(x),'g')\n",
    "plt.title('exp(x)')\n",
    "plt.ylim(0,10000)\n",
    "plt.xlim(0,10)\n",
    "x_tix = np.arange(0,11,2)\n",
    "plt.xticks(x_tix)\n",
    "y_tix = np.arange(0,11000, 1000)\n",
    "plt.yticks(y_tix)\n",
    "plt.grid()"
   ]
  },
  {
   "cell_type": "markdown",
   "metadata": {},
   "source": [
    "There are a number of more advanced methods for controlling major and minor tick placement in matplotlib figures, such as automatic placement according to different policies. See http://matplotlib.org/api/ticker_api.html for details.\n",
    "\n"
   ]
  },
  {
   "cell_type": "markdown",
   "metadata": {},
   "source": [
    "#### Twin axes\n",
    "Sometimes it is useful to have dual x or y axes in a figure; for example, when plotting curves with different units together. Matplotlib supports this with the twinx and twiny functions:"
   ]
  },
  {
   "cell_type": "code",
   "execution_count": null,
   "metadata": {},
   "outputs": [],
   "source": [
    "fig, ax1 = plt.subplots()\n",
    "x = np.linspace(1,10,100)\n",
    "ax1.plot(x, x**2, lw=2, color=\"blue\")\n",
    "ax1.set_ylabel(r\"area $(m^2)$\", fontsize=18, color=\"blue\")\n",
    "for label in ax1.get_yticklabels():\n",
    "    label.set_color(\"blue\")\n",
    "ax1.grid(True) \n",
    "ax2 = ax1.twinx()\n",
    "ax2.plot(x, x**3, lw=2, color=\"red\")\n",
    "ax2.set_ylabel(r\"volume $(m^3)$\", fontsize=18, color=\"red\")\n",
    "\n",
    "for label in ax2.get_yticklabels():\n",
    "    label.set_color(\"red\")\n",
    "ax2.grid(True)"
   ]
  },
  {
   "cell_type": "markdown",
   "metadata": {},
   "source": [
    "#### Text annotation\n",
    "Annotating text in matplotlib figures can be done using the text function. It supports LaTeX formatting just like axis label texts and titles:"
   ]
  },
  {
   "cell_type": "code",
   "execution_count": null,
   "metadata": {},
   "outputs": [],
   "source": [
    "fig, ax = plt.subplots()\n",
    "\n",
    "ax.plot(x, x**2, x, x)\n",
    "\n",
    "ax.text(7, 40, r\"$y=x^2$\", fontsize=20, color=\"blue\")\n",
    "ax.text(8,4 , r\"$y=x$\", fontsize=20, color=\"green\");"
   ]
  },
  {
   "cell_type": "code",
   "execution_count": null,
   "metadata": {},
   "outputs": [],
   "source": [
    "\"\"\"\n",
    "Here we are considering an example to include annotation to a plot.\n",
    "\n",
    "t and s are input and output values respectively.\n",
    "\n",
    "Are assiging the plot to the variable called line.\n",
    "\n",
    "We use annotate() and supply the text that should be added inside the plot. In this case, \n",
    "the annotated text is \"local max\". \n",
    "xy = (2,1) specifies the location of the arrow, \n",
    "xytext=(3, 1.5) specifies the location of the text. \n",
    "A dictionary with one key-value pairs is assigned to arrowprops. \n",
    "facecolor is for the color of the arrow. \n",
    "\n",
    "in ylim we specify the height of the plot.\n",
    "\n",
    "\"\"\"\n",
    "t = np.arange(0.0, 5.0, 0.01)\n",
    "s = np.cos(2*np.pi*t)\n",
    "plt.plot(t, s, \"r\")\n",
    "\n",
    "plt.annotate(\"local minima\", xy = (1.5, -1), xytext=(3, -1.5), arrowprops = dict(facecolor=\"black\"))\n",
    "plt.annotate(\"local maxima\", xy = (1, 1), xytext=(3, 1.5), arrowprops = dict(facecolor=\"black\"))\n",
    "plt.ylim(-2, 2)\n",
    "plt.grid()"
   ]
  },
  {
   "cell_type": "markdown",
   "metadata": {},
   "source": [
    "#### Improving Default Styles using Seaborn\n",
    "An easy way to make your charts look beautiful is to use some default styles from the Seaborn library. These can be applied globally using the sns.set_style function. You can see a full list of predefined styles here: https://seaborn.pydata.org/generated/seaborn.set_style.html .\n",
    "\n"
   ]
  },
  {
   "cell_type": "code",
   "execution_count": null,
   "metadata": {},
   "outputs": [],
   "source": [
    "import seaborn as sns\n"
   ]
  },
  {
   "cell_type": "code",
   "execution_count": null,
   "metadata": {},
   "outputs": [],
   "source": [
    "#sns.set_style(\"darkgrid\")\n",
    "sns.set_style(\"whitegrid\")"
   ]
  },
  {
   "cell_type": "code",
   "execution_count": null,
   "metadata": {},
   "outputs": [],
   "source": [
    "x = np.arange(1,10)\n",
    "plt.plot(x,np.exp(x),'g')\n",
    "plt.title('exp(x)')"
   ]
  },
  {
   "cell_type": "markdown",
   "metadata": {},
   "source": [
    "#### Multi plot\n"
   ]
  },
  {
   "cell_type": "code",
   "execution_count": null,
   "metadata": {},
   "outputs": [],
   "source": [
    "\"\"\" \n",
    "We are defining subplots. \n",
    "Subplots are used to show two or more plots in a single image. \n",
    "\"\"\"\n",
    "\n",
    "t1 = np.arange(0.0, 5.0, 0.1)\n",
    "t2 = np.arange(0.0, 5.0, 0.02)\n",
    "\n",
    "fig, axes = plt.subplots(nrows=1, ncols=2)\n",
    "\n",
    "axes[1].plot(t1, np.exp(-t1), \"bo\")\n",
    "axes[1].set_xlabel('t1')\n",
    "axes[1].set_ylabel('exp(-t1)')\n",
    "axes[1].set_title('exp(-t1)')\n",
    "\n",
    "axes[0].plot(t2, np.exp(-t2), \"r--\")\n",
    "axes[0].set_xlabel('t2')\n",
    "axes[0].set_ylabel('exp(-t2)')\n",
    "axes[0].set_title('exp(-t2)')\n",
    "\n",
    "fig.tight_layout()"
   ]
  },
  {
   "cell_type": "markdown",
   "metadata": {},
   "source": [
    "That was easy, but it isn't so pretty with overlapping figure axes and labels, right?\n",
    "\n",
    "We can deal with that by using the fig.tight_layout method, which automatically adjusts the positions of the axes on the figure canvas so that there is no overlapping content:"
   ]
  },
  {
   "cell_type": "code",
   "execution_count": null,
   "metadata": {
    "ExecuteTime": {
     "end_time": "2020-10-29T15:44:52.196894Z",
     "start_time": "2020-10-29T15:44:51.659095Z"
    }
   },
   "outputs": [],
   "source": [
    "t1 = np.arange(0.0, 5.0, 0.1)\n",
    "t2 = np.arange(0.0, 5.0, 0.02)\n",
    "\n",
    "\n",
    "\"\"\"\n",
    "211 in subplot() means 2 plots, and 1 is for the location of the plot. \n",
    "since we want to plot two graphs, have to specify the location for each plot.\n",
    "\n",
    "\"\"\"\n",
    "\n",
    "\"\"\"\n",
    "The input for the first plot is t1 for x-values, f(t1) for y-values and \"bo\" ensures that the \n",
    "points are blue circles. \n",
    "\"\"\"\n",
    "\n",
    "plt.subplot(211)\n",
    "plt.plot(t1, np.exp(-t1), \"bo\")\n",
    "\"\"\"\n",
    "The number 212 in subplot if for the second plot. 2 represents the position of the second plot.\n",
    "\n",
    "The x-values of the plot are t2, the y-values are cosine of t2 with slight variation. \"r--\" \n",
    "guarantees red dashes. \n",
    "\n",
    "\"\"\"\n",
    "plt.subplot(212)\n",
    "plt.plot(t2, np.cos(2*np.pi*t2), \"r--\")\n",
    "plt.tight_layout()"
   ]
  },
  {
   "cell_type": "code",
   "execution_count": null,
   "metadata": {},
   "outputs": [],
   "source": [
    "\"\"\" \n",
    "\n",
    "We are defining subplots. Subplots are used to show two or more plots in a single image. \n",
    "\"\"\"\n",
    "\n",
    "t1 = np.arange(0.0, 5.0, 0.1)\n",
    "t2 = np.arange(0.0, 5.0, 0.02)\n",
    "\n",
    "\n",
    "\"\"\"\n",
    "211 in subplot() means 2 plots, and 1 is for the location of the plot. \n",
    "since we want to plot two graphs, have to specify the location for each plot.\n",
    "\n",
    "\"\"\"\n",
    "#plt.subplot(121)\n",
    "\n",
    "\"\"\"\n",
    "The input for the first plot is t1 for x-values, f(t1) for y-values and \"bo\" ensures that the \n",
    "points are blue circles. \n",
    "\"\"\"\n",
    "\n",
    "#plt.plot(t1, np.exp(-t1), \"bo\")\n",
    "\n",
    "plt.subplot(221)\n",
    "plt.plot(t1, np.exp(-t1), \"bo\")\n",
    "\"\"\"\n",
    "The number 212 in subplot if for the second plot. 2 represents the position of the second plot.\n",
    "\n",
    "The x-values of the plot are t2, the y-values are cosine of t2 with slight variation. \"r--\" \n",
    "guarantees red dashes. \n",
    "\n",
    "\"\"\"\n",
    "plt.subplot(222)\n",
    "plt.plot(t1, np.exp(-t1), \"ro\")\n",
    "\n",
    "\n",
    "plt.subplot(223)\n",
    "plt.plot(t1, np.exp(-t1), \"go\")\n",
    "\n",
    "plt.subplot(224)\n",
    "plt.plot(t2, np.cos(2*np.pi*t2), \"r--\")\n",
    "plt.tight_layout()"
   ]
  },
  {
   "cell_type": "markdown",
   "metadata": {},
   "source": [
    "#### Logarithmic scale\n",
    "\n",
    "It is also possible to set a logarithmic scale for one or both axes. This functionality is in fact only one application of a more general transformation system in Matplotlib. Each of the axes' scales are set separately using set_xscale and set_yscale methods which accept one parameter (with the value \"log\" in this case):"
   ]
  },
  {
   "cell_type": "code",
   "execution_count": null,
   "metadata": {},
   "outputs": [],
   "source": [
    "fig, axes = plt.subplots(1, 2, figsize=(10,4))\n",
    "x = np.linspace(0, 5, 10)      \n",
    "\n",
    "axes[0].plot(x, x**2, x, np.exp(x))\n",
    "axes[0].set_title(\"Normal scale\")\n",
    "\n",
    "axes[1].plot(x, x**2, x, np.exp(x))\n",
    "axes[1].set_yscale(\"log\")\n",
    "axes[1].set_title(\"Logarithmic scale (y)\");"
   ]
  },
  {
   "cell_type": "code",
   "execution_count": null,
   "metadata": {
    "ExecuteTime": {
     "end_time": "2020-10-29T15:52:28.338253Z",
     "start_time": "2020-10-29T15:52:27.565735Z"
    }
   },
   "outputs": [],
   "source": [
    "\"\"\" \n",
    "\n",
    "We are defining subplots. Subplots are used to show two or more plots in a single image. \n",
    "\"\"\"\n",
    "\n",
    "t1 = np.arange(0.0, 5.0, 0.1)\n",
    "t2 = np.arange(0.0, 5.0, 0.02)\n",
    "\n",
    "\n",
    "\"\"\"\n",
    "211 in subplot() means 2 plots, and 1 is for the location of the plot. \n",
    "since we want to plot two graphs, have to specify the location for each plot.\n",
    "\n",
    "\"\"\"\n",
    "#plt.subplot(121)\n",
    "\n",
    "\"\"\"\n",
    "The input for the first plot is t1 for x-values, f(t1) for y-values and \"bo\" ensures that the \n",
    "points are blue circles. \n",
    "\"\"\"\n",
    "\n",
    "#plt.plot(t1, np.exp(-t1), \"bo\")\n",
    "\n",
    "plt.subplot(211)\n",
    "plt.plot(t1, np.exp(-t1), \"bo\")\n",
    "\"\"\"\n",
    "The number 212 in subplot if for the second plot. 2 represents the position of the second plot.\n",
    "\n",
    "The x-values of the plot are t2, the y-values are cosine of t2 with slight variation. \"r--\" \n",
    "guarantees red dashes. \n",
    "\n",
    "\"\"\"\n",
    "plt.subplot(212)\n",
    "plt.plot(t2, np.cos(2*np.pi*t2), \"r--\")\n",
    "\n",
    "plt.tight_layout()"
   ]
  },
  {
   "cell_type": "code",
   "execution_count": null,
   "metadata": {},
   "outputs": [],
   "source": [
    "\"\"\"\n",
    "Practice Question\n",
    "\n",
    "Two plots stacked horizontally. \n",
    "\"\"\"\n"
   ]
  },
  {
   "cell_type": "code",
   "execution_count": null,
   "metadata": {},
   "outputs": [],
   "source": [
    "fig,ax = plt.subplots(2,2)\n",
    "fig.tight_layout() # Or equivalently,  \"plt.tight_layout()\"\n",
    "#fig, ax = plt.subplots(2,2, constrained_layout=True)\n",
    "\n",
    "ax[0,0].plot(t1, np.exp(-t1), \"bo\" )\n",
    "ax[0,0].set_title('First plot ')\n",
    "\n",
    "ax[0,1].plot(t2, np.cos(2*np.pi*t2), \"r--\")\n",
    "ax[0, 1].set_title('Second plot')\n",
    "\n",
    "ax[1,0].plot(t2, np.cos(2*np.pi*t2), \"g--\")\n",
    "ax[1, 0].set_title('Third plot')\n",
    "\n",
    "ax[1,1].plot(t2, np.cos(2*np.pi*t2), \"k--\")\n",
    "ax[1, 1].set_title('Fourth plot');"
   ]
  },
  {
   "cell_type": "code",
   "execution_count": null,
   "metadata": {},
   "outputs": [],
   "source": [
    "np.random.seed(145)\n",
    "np.random.randn(10)"
   ]
  },
  {
   "cell_type": "markdown",
   "metadata": {},
   "source": [
    "#### Histogram\n",
    "A histogram represents the distribution of a variable by creating bins (interval) along the range of values and showing vertical bars to indicate the number of observations in each bin.\n",
    "\n",
    "For example, let's visualize the distribution of values of sepal width in the flowers dataset. We can use the plt.hist function to create a histogram."
   ]
  },
  {
   "cell_type": "code",
   "execution_count": null,
   "metadata": {
    "ExecuteTime": {
     "end_time": "2020-10-29T15:53:28.413020Z",
     "start_time": "2020-10-29T15:53:27.919112Z"
    },
    "scrolled": true
   },
   "outputs": [],
   "source": [
    "np.random.seed(145)\n",
    "x = np.random.randn(100000)\n",
    "# the histogram of the data\n",
    "#plt.hist(x)\n",
    "plt.hist(x, bins = 20)\n",
    "plt.xlabel(\"x\")\n",
    "plt.ylabel(\"Frequency\")\n",
    "plt.title(\"Histogram\")\n",
    "x_tix = np.arange(-3,3,0.5)\n",
    "plt.xticks(x_tix)\n",
    "y_tix = np.arange(0,17000, 1000)\n",
    "plt.yticks(y_tix)\n",
    "plt.grid(True)"
   ]
  },
  {
   "cell_type": "markdown",
   "metadata": {},
   "source": [
    "#### Multiple Histograms\n",
    "Similar to line charts, we can draw multiple histograms in a single chart. We can reduce each histogram's opacity so that one histogram's bars don't hide the others'. We will use iris data set which comes with seaborn \n",
    "\n",
    "Let's draw separate histograms for each species of flowers. "
   ]
  },
  {
   "cell_type": "code",
   "execution_count": null,
   "metadata": {},
   "outputs": [],
   "source": [
    "# Load data into a Pandas dataframe\n",
    "import seaborn as sns\n",
    "df = sns.load_dataset(\"iris\")\n",
    "df.head()"
   ]
  },
  {
   "cell_type": "code",
   "execution_count": null,
   "metadata": {},
   "outputs": [],
   "source": [
    "plt.title(\"Distribution of Sepal Width\")\n",
    "plt.hist(df.sepal_width);"
   ]
  },
  {
   "cell_type": "markdown",
   "metadata": {},
   "source": [
    "We can immediately see that the sepal widths lie in the range 2.0 - 4.5, and around 35 values are in the range 2.9 - 3.1, which seems to be the most populous bin."
   ]
  },
  {
   "cell_type": "markdown",
   "metadata": {},
   "source": [
    "#### Controlling the size and number of bins\n",
    "We can control the number of bins or the size of each one using the bins argument."
   ]
  },
  {
   "cell_type": "code",
   "execution_count": null,
   "metadata": {},
   "outputs": [],
   "source": [
    "# Specifying the number of bins\n",
    "plt.hist(df.sepal_width, bins=5);"
   ]
  },
  {
   "cell_type": "code",
   "execution_count": null,
   "metadata": {},
   "outputs": [],
   "source": [
    "# Specifying the boundaries of each bin\n",
    "plt.hist(df.sepal_width, bins=np.arange(2, 5, 0.25));"
   ]
  },
  {
   "cell_type": "markdown",
   "metadata": {},
   "source": [
    "#### Multiple Histograms\n",
    "Similar to line charts, we can draw multiple histograms in a single chart. We can reduce each histogram's opacity so that one histogram's bars don't hide the others'.\n",
    "\n",
    "Let's draw separate histograms for each species of flowers."
   ]
  },
  {
   "cell_type": "code",
   "execution_count": null,
   "metadata": {},
   "outputs": [],
   "source": [
    "setosa_df = df[df.species == 'setosa']\n",
    "versicolor_df = df[df.species == 'versicolor']\n",
    "virginica_df = df[df.species == 'virginica']"
   ]
  },
  {
   "cell_type": "code",
   "execution_count": null,
   "metadata": {},
   "outputs": [],
   "source": [
    "plt.hist(setosa_df.sepal_width, alpha=0.4, bins=np.arange(2, 5, 0.25));\n",
    "plt.hist(versicolor_df.sepal_width, alpha=0.4, bins=np.arange(2, 5, 0.25));"
   ]
  },
  {
   "cell_type": "markdown",
   "metadata": {},
   "source": [
    "We can also stack multiple histograms on top of one another."
   ]
  },
  {
   "cell_type": "code",
   "execution_count": null,
   "metadata": {},
   "outputs": [],
   "source": [
    "plt.title('Distribution of Sepal Width')\n",
    "\n",
    "plt.hist([setosa_df.sepal_width, versicolor_df.sepal_width, virginica_df.sepal_width],  \n",
    "         stacked=True);\n",
    "\n",
    "#plt.legend(['Setosa', 'Versicolor', 'Virginica']);"
   ]
  },
  {
   "cell_type": "code",
   "execution_count": null,
   "metadata": {},
   "outputs": [],
   "source": [
    "\"\"\"\n",
    "Practice Question\n",
    "Create an array of 10000 elements drawn from a uniform distribution \n",
    "between 0 and 10. Then plot an histogram with 10 bins. Then save the figure as hist_uni.png\n",
    "\"\"\"\n"
   ]
  },
  {
   "cell_type": "markdown",
   "metadata": {},
   "source": [
    "#### Bar chart\n",
    "Bar charts are quite similar to line charts, i.e., they show a sequence of values. We can use the plt.bar function to draw a bar chart."
   ]
  },
  {
   "cell_type": "code",
   "execution_count": null,
   "metadata": {
    "ExecuteTime": {
     "end_time": "2020-10-29T16:11:34.709062Z",
     "start_time": "2020-10-29T16:11:34.389669Z"
    }
   },
   "outputs": [],
   "source": [
    "course = ['C1', 'C2', 'C3', 'C4', 'C5']\n",
    "students = [23,17,35,29,12]\n",
    "plt.bar(course,students, color = 'g')\n",
    "plt.title('Bar Graph')\n",
    "plt.xlabel('Class')\n",
    "plt.ylabel('Students')\n",
    "plt.grid()"
   ]
  },
  {
   "cell_type": "code",
   "execution_count": null,
   "metadata": {},
   "outputs": [],
   "source": [
    "course = ['C1', 'C2', 'C3', 'C4', 'C5']\n",
    "students = [23,17,35,29,12]\n",
    "plt.bar(course,students, color=['black', 'red', 'green', 'blue', 'cyan'])\n",
    "plt.title('Bar Graph')\n",
    "plt.xlabel('Class')\n",
    "plt.ylabel('Students')\n",
    "plt.grid()"
   ]
  },
  {
   "cell_type": "code",
   "execution_count": null,
   "metadata": {
    "ExecuteTime": {
     "end_time": "2020-10-29T16:12:13.611179Z",
     "start_time": "2020-10-29T16:12:13.200619Z"
    }
   },
   "outputs": [],
   "source": [
    "plt.barh(course,students, color = 'r')\n",
    "plt.title('Horizontal Bar Graph')\n",
    "plt.xlabel('Class')\n",
    "plt.ylabel('Students')\n",
    "plt.grid()"
   ]
  },
  {
   "cell_type": "code",
   "execution_count": null,
   "metadata": {
    "ExecuteTime": {
     "end_time": "2020-10-29T16:12:42.078161Z",
     "start_time": "2020-10-29T16:12:41.904731Z"
    }
   },
   "outputs": [],
   "source": [
    "# If the data being plotted consists of multiple columns\n",
    "df = pd.DataFrame(np.random.rand(10,4), columns = ['a','b','c','d'])\n",
    "df"
   ]
  },
  {
   "cell_type": "code",
   "execution_count": null,
   "metadata": {
    "ExecuteTime": {
     "end_time": "2020-10-29T16:13:05.670741Z",
     "start_time": "2020-10-29T16:13:04.997422Z"
    }
   },
   "outputs": [],
   "source": [
    "df.plot(kind = 'bar')\n",
    "#plt.show()"
   ]
  },
  {
   "cell_type": "code",
   "execution_count": null,
   "metadata": {
    "ExecuteTime": {
     "end_time": "2020-10-29T16:14:31.203330Z",
     "start_time": "2020-10-29T16:14:30.450794Z"
    }
   },
   "outputs": [],
   "source": [
    "# If you would prefer stacked bars, you can use the stacked parameter, \n",
    "# setting it to true\n",
    "\n",
    "df.plot(kind = 'bar', stacked = True)\n",
    "plt.show()"
   ]
  },
  {
   "cell_type": "code",
   "execution_count": null,
   "metadata": {
    "ExecuteTime": {
     "end_time": "2020-10-29T16:17:17.466390Z",
     "start_time": "2020-10-29T16:17:16.838824Z"
    }
   },
   "outputs": [],
   "source": [
    "x = [5,8,10]\n",
    "y = [12,16,6]\n",
    "\n",
    "x2 = [6,9,11]\n",
    "y2 = [6,15,7]\n",
    "\n",
    "\n",
    "plt.bar(x, y, align='center')\n",
    "\n",
    "plt.bar(x2, y2, color='g', align='center')\n",
    "\n",
    "# plt.bar(x, y)\n",
    "\n",
    "# plt.bar(x2, y2, color='g')\n",
    "\n",
    "plt.title('Bar chart')\n",
    "plt.ylabel('Y axis')\n",
    "plt.xlabel('X axis');"
   ]
  },
  {
   "cell_type": "code",
   "execution_count": null,
   "metadata": {
    "ExecuteTime": {
     "end_time": "2020-08-06T15:17:37.264340Z",
     "start_time": "2020-08-06T15:17:36.653847Z"
    }
   },
   "outputs": [],
   "source": [
    "# Stacked bar The optional bottom parameter of the pyplot.bar() function allows you to specify \n",
    "# a starting value for a bar. Instead of running from zero to a value, \n",
    "N = 5\n",
    "menMeans = (20, 35, 30, 35, 27)\n",
    "womenMeans = (25, 32, 34, 20, 25)\n",
    "menStd = (2, 3, 4, 1, 2)\n",
    "womenStd = (3, 5, 2, 3, 3)\n",
    "ind = np.arange(N)    # the x locations for the groups\n",
    "width = 0.35       # the width of the bars: can also be len(x) sequence\n",
    "\n",
    "# p1 = plt.bar(ind, menMeans, width)\n",
    "# p2 = plt.bar(ind, womenMeans, width,bottom=menMeans)\n",
    "p1 = plt.bar(ind, menMeans)\n",
    "p2 = plt.bar(ind, womenMeans, bottom=menMeans)\n",
    "plt.ylabel('Scores')\n",
    "plt.title('Scores by group and gender')\n",
    "plt.xticks(ind, ('G1', 'G2', 'G3', 'G4', 'G5'))\n",
    "plt.yticks(np.arange(0, 81, 10))\n",
    "plt.legend((p1[0], p2[0]), ('Men', 'Women'));"
   ]
  },
  {
   "cell_type": "markdown",
   "metadata": {},
   "source": [
    "#### Bar Plots with Averages\n",
    "Let's look at another sample dataset included with Seaborn, called tips. The dataset contains information about the sex, time of day, total bill, and tip amount for customers visiting a restaurant over a week."
   ]
  },
  {
   "cell_type": "code",
   "execution_count": null,
   "metadata": {},
   "outputs": [],
   "source": [
    "df_tips = sns.load_dataset(\"tips\");"
   ]
  },
  {
   "cell_type": "code",
   "execution_count": null,
   "metadata": {},
   "outputs": [],
   "source": [
    "df_tips.head()"
   ]
  },
  {
   "cell_type": "markdown",
   "metadata": {},
   "source": [
    "We might want to draw a bar chart to visualize how the average bill amount varies across different days of the week. One way to do this would be to compute the day-wise averages and then use plt.bar \n",
    "\n",
    "(try it as an exercise).\n",
    "\n",
    "However, since this is a very common use case, the Seaborn library provides a barplot function which can automatically compute averages."
   ]
  },
  {
   "cell_type": "code",
   "execution_count": null,
   "metadata": {},
   "outputs": [],
   "source": [
    "av= df_tips.groupby('day')['total_bill'].mean()"
   ]
  },
  {
   "cell_type": "code",
   "execution_count": null,
   "metadata": {},
   "outputs": [],
   "source": [
    "plt.bar(df_tips.day.unique(),av);"
   ]
  },
  {
   "cell_type": "code",
   "execution_count": null,
   "metadata": {},
   "outputs": [],
   "source": [
    "sns.barplot(x='day', y='total_bill', data=df_tips);"
   ]
  },
  {
   "cell_type": "markdown",
   "metadata": {},
   "source": [
    "The lines cutting each bar represent the amount of variation in the values. For instance, it seems like the variation in the total bill is relatively high on Fridays and low on Saturday.\n",
    "\n",
    "We can also specify a hue argument to compare bar plots side-by-side based on a third feature, e.g., sex."
   ]
  },
  {
   "cell_type": "code",
   "execution_count": null,
   "metadata": {
    "scrolled": true
   },
   "outputs": [],
   "source": [
    "sns.barplot(x='day', y='total_bill', hue='sex', data=df_tips);"
   ]
  },
  {
   "cell_type": "markdown",
   "metadata": {},
   "source": [
    "You can make the bars horizontal simply by switching the axes."
   ]
  },
  {
   "cell_type": "markdown",
   "metadata": {},
   "source": [
    "#### Scatter Plot\n",
    "\n",
    "In a scatter plot, the values of 2 variables are plotted as points on a 2-dimensional grid. Additionally, you can also use a third variable to determine the size or color of the points. Let's try out an example."
   ]
  },
  {
   "cell_type": "code",
   "execution_count": null,
   "metadata": {
    "ExecuteTime": {
     "end_time": "2020-10-29T16:19:56.628092Z",
     "start_time": "2020-10-29T16:19:56.241596Z"
    }
   },
   "outputs": [],
   "source": [
    "# Simple scatter plot\n",
    "\n",
    "study_time = np.array([145, 170, 165, 184, 175, 159, 180, 172])\n",
    "score = np.array([80, 92, 89, 90, 95, 75, 96, 85])\n",
    "plt.scatter(study_time, score) \n",
    "plt.title(\"Study Time Vs Score\")\n",
    "plt.xlabel(\"Study Time\")\n",
    "plt.ylabel(\"Score\")\n",
    "plt.grid()"
   ]
  },
  {
   "cell_type": "code",
   "execution_count": null,
   "metadata": {
    "ExecuteTime": {
     "end_time": "2020-10-29T16:20:30.031554Z",
     "start_time": "2020-10-29T16:20:29.090847Z"
    }
   },
   "outputs": [],
   "source": [
    "x = np.random.randint(low=1, high=11, size=50)\n",
    "y = x + np.random.randint(1, 10, size=x.size)\n",
    "# scatter plot detials\n",
    "plt.scatter(x=x, y=y, marker='o', c='r', edgecolor='green')\n",
    "#plt.title('Scatter: x versus y')\n",
    "plt.title('Scatter: $x$ versus $y$')\n",
    "# plt.xlabel('x')\n",
    "# plt.ylabel('y^2')\n",
    "\n",
    "plt.xlabel('$x$')\n",
    "plt.ylabel('$y^2$')\n",
    "\n"
   ]
  },
  {
   "cell_type": "markdown",
   "metadata": {},
   "source": [
    "Let's try to visualize the relationship between sepal length and sepal width. Our first instinct might be to create a line chart using plt.plot."
   ]
  },
  {
   "cell_type": "code",
   "execution_count": null,
   "metadata": {},
   "outputs": [],
   "source": [
    "# Load data into a Pandas dataframe\n",
    "df = sns.load_dataset(\"iris\")"
   ]
  },
  {
   "cell_type": "code",
   "execution_count": null,
   "metadata": {},
   "outputs": [],
   "source": [
    "plt.plot(df.sepal_length, df.sepal_width);"
   ]
  },
  {
   "cell_type": "markdown",
   "metadata": {},
   "source": [
    "The output is not very informative as there are too many combinations of the two properties within the dataset. There doesn't seem to be simple relationship between them.\n",
    "\n",
    "We can use a scatter plot to visualize how sepal length & sepal width vary using the scatterplot function from the seaborn module (imported as sns)."
   ]
  },
  {
   "cell_type": "code",
   "execution_count": null,
   "metadata": {},
   "outputs": [],
   "source": [
    "sns.scatterplot(x=df.sepal_length, y=df.sepal_width);\n"
   ]
  },
  {
   "cell_type": "markdown",
   "metadata": {},
   "source": [
    "#### Adding Hues\n",
    "Notice how the points in the above plot seem to form distinct clusters with some outliers. We can color the dots using the flower species as a hue. We can also make the points larger using the s argument."
   ]
  },
  {
   "cell_type": "code",
   "execution_count": null,
   "metadata": {},
   "outputs": [],
   "source": [
    "sns.scatterplot(x=df.sepal_length, y=df.sepal_width, hue=df.species);\n",
    "#sns.scatterplot(x=flowers_df.sepal_length, y=flowers_df.sepal_width, hue=flowers_df.species, s=100);\n"
   ]
  },
  {
   "cell_type": "markdown",
   "metadata": {},
   "source": [
    "Adding hues makes the plot more informative. We can immediately tell that Setosa flowers have a smaller sepal length but higher sepal widths. In contrast, the opposite is true for Virginica flowers."
   ]
  },
  {
   "cell_type": "markdown",
   "metadata": {},
   "source": [
    "#### Plotting using Pandas Data Frames\n",
    "Seaborn has in-built support for Pandas data frames. Instead of passing each column as a series, you can provide column names and use the data argument to specify a data frame."
   ]
  },
  {
   "cell_type": "code",
   "execution_count": null,
   "metadata": {},
   "outputs": [],
   "source": [
    "plt.title('Petal Dimensions')\n",
    "sns.scatterplot(x='petal_length', \n",
    "                y='petal_width', \n",
    "                hue='species',\n",
    "                data=df);"
   ]
  },
  {
   "cell_type": "markdown",
   "metadata": {},
   "source": [
    "#### Pair Plot"
   ]
  },
  {
   "cell_type": "code",
   "execution_count": null,
   "metadata": {},
   "outputs": [],
   "source": [
    "df.head()"
   ]
  },
  {
   "cell_type": "code",
   "execution_count": null,
   "metadata": {
    "ExecuteTime": {
     "end_time": "2020-10-29T16:23:13.131979Z",
     "start_time": "2020-10-29T16:23:10.287594Z"
    }
   },
   "outputs": [],
   "source": [
    "from pandas.plotting import scatter_matrix\n",
    "#print(df)\n",
    "scatter_matrix(df, figsize = (6,6),diagonal = 'kde');\n",
    "#plt.show()"
   ]
  },
  {
   "cell_type": "markdown",
   "metadata": {},
   "source": [
    "#### Pair plots with Seaborn\n",
    "Seaborn also provides a helper function sns.pairplot to automatically plot several different charts for pairs of features within a dataframe."
   ]
  },
  {
   "cell_type": "code",
   "execution_count": null,
   "metadata": {},
   "outputs": [],
   "source": [
    "df.head()"
   ]
  },
  {
   "cell_type": "code",
   "execution_count": null,
   "metadata": {},
   "outputs": [],
   "source": [
    "sns.pairplot(df, hue='species');"
   ]
  },
  {
   "cell_type": "markdown",
   "metadata": {},
   "source": [
    "##### Pie Chart"
   ]
  },
  {
   "cell_type": "code",
   "execution_count": null,
   "metadata": {
    "ExecuteTime": {
     "end_time": "2020-10-29T16:29:33.746187Z",
     "start_time": "2020-10-29T16:29:33.223604Z"
    }
   },
   "outputs": [],
   "source": [
    "\"\"\"\n",
    "Example of a pie chart. The number of catergories is given in companies and the angle for \n",
    "each category is given in market_share\n",
    ".\n",
    "\"\"\"\n",
    "companies = [\"A\", \"B\", \"C\", \"D\", \"E\"]\n",
    "market_share = [15, 20, 25, 10, 30]\n",
    "Explode = [0, 0.3, 0, 0.1, 0]\n",
    "plt.pie(market_share, explode = Explode, labels=companies, shadow = True, startangle=45)\n",
    "#plt.pie(market_share,labels=companies, shadow = True)\n",
    "plt.axis('equal'); # adjustes the size of the pie"
   ]
  },
  {
   "cell_type": "code",
   "execution_count": null,
   "metadata": {
    "ExecuteTime": {
     "end_time": "2020-10-29T16:30:07.449667Z",
     "start_time": "2020-10-29T16:30:07.293208Z"
    }
   },
   "outputs": [],
   "source": [
    "##Explode breaks a pie piece. In this example we are breaking catergory \"B\" of the pie\n",
    "\n",
    "companies = [\"A\", \"B\", \"C\", \"D\", \"E\"]\n",
    "market_share = [15, 20, 25, 10, 30]\n",
    "Explode = [0.3, 0, 0, 0, 0]\n",
    "plt.pie(market_share, explode = Explode, labels=companies)\n",
    "plt.axis('equal') # adjustes the size of the pie\n",
    "plt.show()"
   ]
  },
  {
   "cell_type": "code",
   "execution_count": null,
   "metadata": {},
   "outputs": [],
   "source": []
  },
  {
   "cell_type": "markdown",
   "metadata": {},
   "source": [
    "#### Box plot"
   ]
  },
  {
   "cell_type": "code",
   "execution_count": null,
   "metadata": {
    "ExecuteTime": {
     "end_time": "2020-10-29T16:30:55.949215Z",
     "start_time": "2020-10-29T16:30:55.645791Z"
    }
   },
   "outputs": [],
   "source": [
    "np.random.seed(10)\n",
    "x1 = np.random.normal(90, 20, 200)\n",
    "plt.boxplot(x1);"
   ]
  },
  {
   "cell_type": "code",
   "execution_count": null,
   "metadata": {
    "ExecuteTime": {
     "end_time": "2020-10-29T16:32:16.159479Z",
     "start_time": "2020-10-29T16:32:15.740091Z"
    }
   },
   "outputs": [],
   "source": [
    "# If the data being plotted consists of multiple columns\n",
    "df = pd.DataFrame(np.random.randn(10,4))\n",
    "df.boxplot();\n",
    "#plt.show()"
   ]
  },
  {
   "cell_type": "markdown",
   "metadata": {},
   "source": [
    "#### 3D plot"
   ]
  },
  {
   "cell_type": "code",
   "execution_count": null,
   "metadata": {
    "ExecuteTime": {
     "end_time": "2020-06-02T20:13:33.264344Z",
     "start_time": "2020-06-02T20:13:32.483909Z"
    }
   },
   "outputs": [],
   "source": [
    "from mpl_toolkits import mplot3d\n",
    "import numpy as np\n",
    "import matplotlib.pyplot as plt\n",
    "fig = plt.figure()\n",
    "ax = plt.axes(projection='3d')\n",
    "z = np.linspace(0, 1, 100)\n",
    "x = z * np.sin(20 * z)\n",
    "y = z * np.cos(20 * z)\n",
    "ax.plot3D(x, y, z, 'gray')\n",
    "ax.set_title('3D line plot')"
   ]
  },
  {
   "cell_type": "code",
   "execution_count": 1,
   "metadata": {},
   "outputs": [],
   "source": [
    "#\n",
    "# RESTART THE NOTEBOOK: the matplotlib backend can only be selected before pylab is imported!\n",
    "# (e.g. Kernel > Restart)\n",
    "# \n",
    "import matplotlib\n",
    "#matplotlib.use('Qt4Agg') # or for example MacOSX\n",
    "import matplotlib.pylab as plt\n",
    "import numpy as np\n",
    "%matplotlib notebook"
   ]
  },
  {
   "cell_type": "code",
   "execution_count": 2,
   "metadata": {},
   "outputs": [
    {
     "data": {
      "application/javascript": [
       "/* Put everything inside the global mpl namespace */\n",
       "/* global mpl */\n",
       "window.mpl = {};\n",
       "\n",
       "mpl.get_websocket_type = function () {\n",
       "    if (typeof WebSocket !== 'undefined') {\n",
       "        return WebSocket;\n",
       "    } else if (typeof MozWebSocket !== 'undefined') {\n",
       "        return MozWebSocket;\n",
       "    } else {\n",
       "        alert(\n",
       "            'Your browser does not have WebSocket support. ' +\n",
       "                'Please try Chrome, Safari or Firefox ≥ 6. ' +\n",
       "                'Firefox 4 and 5 are also supported but you ' +\n",
       "                'have to enable WebSockets in about:config.'\n",
       "        );\n",
       "    }\n",
       "};\n",
       "\n",
       "mpl.figure = function (figure_id, websocket, ondownload, parent_element) {\n",
       "    this.id = figure_id;\n",
       "\n",
       "    this.ws = websocket;\n",
       "\n",
       "    this.supports_binary = this.ws.binaryType !== undefined;\n",
       "\n",
       "    if (!this.supports_binary) {\n",
       "        var warnings = document.getElementById('mpl-warnings');\n",
       "        if (warnings) {\n",
       "            warnings.style.display = 'block';\n",
       "            warnings.textContent =\n",
       "                'This browser does not support binary websocket messages. ' +\n",
       "                'Performance may be slow.';\n",
       "        }\n",
       "    }\n",
       "\n",
       "    this.imageObj = new Image();\n",
       "\n",
       "    this.context = undefined;\n",
       "    this.message = undefined;\n",
       "    this.canvas = undefined;\n",
       "    this.rubberband_canvas = undefined;\n",
       "    this.rubberband_context = undefined;\n",
       "    this.format_dropdown = undefined;\n",
       "\n",
       "    this.image_mode = 'full';\n",
       "\n",
       "    this.root = document.createElement('div');\n",
       "    this.root.setAttribute('style', 'display: inline-block');\n",
       "    this._root_extra_style(this.root);\n",
       "\n",
       "    parent_element.appendChild(this.root);\n",
       "\n",
       "    this._init_header(this);\n",
       "    this._init_canvas(this);\n",
       "    this._init_toolbar(this);\n",
       "\n",
       "    var fig = this;\n",
       "\n",
       "    this.waiting = false;\n",
       "\n",
       "    this.ws.onopen = function () {\n",
       "        fig.send_message('supports_binary', { value: fig.supports_binary });\n",
       "        fig.send_message('send_image_mode', {});\n",
       "        if (fig.ratio !== 1) {\n",
       "            fig.send_message('set_device_pixel_ratio', {\n",
       "                device_pixel_ratio: fig.ratio,\n",
       "            });\n",
       "        }\n",
       "        fig.send_message('refresh', {});\n",
       "    };\n",
       "\n",
       "    this.imageObj.onload = function () {\n",
       "        if (fig.image_mode === 'full') {\n",
       "            // Full images could contain transparency (where diff images\n",
       "            // almost always do), so we need to clear the canvas so that\n",
       "            // there is no ghosting.\n",
       "            fig.context.clearRect(0, 0, fig.canvas.width, fig.canvas.height);\n",
       "        }\n",
       "        fig.context.drawImage(fig.imageObj, 0, 0);\n",
       "    };\n",
       "\n",
       "    this.imageObj.onunload = function () {\n",
       "        fig.ws.close();\n",
       "    };\n",
       "\n",
       "    this.ws.onmessage = this._make_on_message_function(this);\n",
       "\n",
       "    this.ondownload = ondownload;\n",
       "};\n",
       "\n",
       "mpl.figure.prototype._init_header = function () {\n",
       "    var titlebar = document.createElement('div');\n",
       "    titlebar.classList =\n",
       "        'ui-dialog-titlebar ui-widget-header ui-corner-all ui-helper-clearfix';\n",
       "    var titletext = document.createElement('div');\n",
       "    titletext.classList = 'ui-dialog-title';\n",
       "    titletext.setAttribute(\n",
       "        'style',\n",
       "        'width: 100%; text-align: center; padding: 3px;'\n",
       "    );\n",
       "    titlebar.appendChild(titletext);\n",
       "    this.root.appendChild(titlebar);\n",
       "    this.header = titletext;\n",
       "};\n",
       "\n",
       "mpl.figure.prototype._canvas_extra_style = function (_canvas_div) {};\n",
       "\n",
       "mpl.figure.prototype._root_extra_style = function (_canvas_div) {};\n",
       "\n",
       "mpl.figure.prototype._init_canvas = function () {\n",
       "    var fig = this;\n",
       "\n",
       "    var canvas_div = (this.canvas_div = document.createElement('div'));\n",
       "    canvas_div.setAttribute(\n",
       "        'style',\n",
       "        'border: 1px solid #ddd;' +\n",
       "            'box-sizing: content-box;' +\n",
       "            'clear: both;' +\n",
       "            'min-height: 1px;' +\n",
       "            'min-width: 1px;' +\n",
       "            'outline: 0;' +\n",
       "            'overflow: hidden;' +\n",
       "            'position: relative;' +\n",
       "            'resize: both;'\n",
       "    );\n",
       "\n",
       "    function on_keyboard_event_closure(name) {\n",
       "        return function (event) {\n",
       "            return fig.key_event(event, name);\n",
       "        };\n",
       "    }\n",
       "\n",
       "    canvas_div.addEventListener(\n",
       "        'keydown',\n",
       "        on_keyboard_event_closure('key_press')\n",
       "    );\n",
       "    canvas_div.addEventListener(\n",
       "        'keyup',\n",
       "        on_keyboard_event_closure('key_release')\n",
       "    );\n",
       "\n",
       "    this._canvas_extra_style(canvas_div);\n",
       "    this.root.appendChild(canvas_div);\n",
       "\n",
       "    var canvas = (this.canvas = document.createElement('canvas'));\n",
       "    canvas.classList.add('mpl-canvas');\n",
       "    canvas.setAttribute('style', 'box-sizing: content-box;');\n",
       "\n",
       "    this.context = canvas.getContext('2d');\n",
       "\n",
       "    var backingStore =\n",
       "        this.context.backingStorePixelRatio ||\n",
       "        this.context.webkitBackingStorePixelRatio ||\n",
       "        this.context.mozBackingStorePixelRatio ||\n",
       "        this.context.msBackingStorePixelRatio ||\n",
       "        this.context.oBackingStorePixelRatio ||\n",
       "        this.context.backingStorePixelRatio ||\n",
       "        1;\n",
       "\n",
       "    this.ratio = (window.devicePixelRatio || 1) / backingStore;\n",
       "\n",
       "    var rubberband_canvas = (this.rubberband_canvas = document.createElement(\n",
       "        'canvas'\n",
       "    ));\n",
       "    rubberband_canvas.setAttribute(\n",
       "        'style',\n",
       "        'box-sizing: content-box; position: absolute; left: 0; top: 0; z-index: 1;'\n",
       "    );\n",
       "\n",
       "    // Apply a ponyfill if ResizeObserver is not implemented by browser.\n",
       "    if (this.ResizeObserver === undefined) {\n",
       "        if (window.ResizeObserver !== undefined) {\n",
       "            this.ResizeObserver = window.ResizeObserver;\n",
       "        } else {\n",
       "            var obs = _JSXTOOLS_RESIZE_OBSERVER({});\n",
       "            this.ResizeObserver = obs.ResizeObserver;\n",
       "        }\n",
       "    }\n",
       "\n",
       "    this.resizeObserverInstance = new this.ResizeObserver(function (entries) {\n",
       "        var nentries = entries.length;\n",
       "        for (var i = 0; i < nentries; i++) {\n",
       "            var entry = entries[i];\n",
       "            var width, height;\n",
       "            if (entry.contentBoxSize) {\n",
       "                if (entry.contentBoxSize instanceof Array) {\n",
       "                    // Chrome 84 implements new version of spec.\n",
       "                    width = entry.contentBoxSize[0].inlineSize;\n",
       "                    height = entry.contentBoxSize[0].blockSize;\n",
       "                } else {\n",
       "                    // Firefox implements old version of spec.\n",
       "                    width = entry.contentBoxSize.inlineSize;\n",
       "                    height = entry.contentBoxSize.blockSize;\n",
       "                }\n",
       "            } else {\n",
       "                // Chrome <84 implements even older version of spec.\n",
       "                width = entry.contentRect.width;\n",
       "                height = entry.contentRect.height;\n",
       "            }\n",
       "\n",
       "            // Keep the size of the canvas and rubber band canvas in sync with\n",
       "            // the canvas container.\n",
       "            if (entry.devicePixelContentBoxSize) {\n",
       "                // Chrome 84 implements new version of spec.\n",
       "                canvas.setAttribute(\n",
       "                    'width',\n",
       "                    entry.devicePixelContentBoxSize[0].inlineSize\n",
       "                );\n",
       "                canvas.setAttribute(\n",
       "                    'height',\n",
       "                    entry.devicePixelContentBoxSize[0].blockSize\n",
       "                );\n",
       "            } else {\n",
       "                canvas.setAttribute('width', width * fig.ratio);\n",
       "                canvas.setAttribute('height', height * fig.ratio);\n",
       "            }\n",
       "            canvas.setAttribute(\n",
       "                'style',\n",
       "                'width: ' + width + 'px; height: ' + height + 'px;'\n",
       "            );\n",
       "\n",
       "            rubberband_canvas.setAttribute('width', width);\n",
       "            rubberband_canvas.setAttribute('height', height);\n",
       "\n",
       "            // And update the size in Python. We ignore the initial 0/0 size\n",
       "            // that occurs as the element is placed into the DOM, which should\n",
       "            // otherwise not happen due to the minimum size styling.\n",
       "            if (fig.ws.readyState == 1 && width != 0 && height != 0) {\n",
       "                fig.request_resize(width, height);\n",
       "            }\n",
       "        }\n",
       "    });\n",
       "    this.resizeObserverInstance.observe(canvas_div);\n",
       "\n",
       "    function on_mouse_event_closure(name) {\n",
       "        return function (event) {\n",
       "            return fig.mouse_event(event, name);\n",
       "        };\n",
       "    }\n",
       "\n",
       "    rubberband_canvas.addEventListener(\n",
       "        'mousedown',\n",
       "        on_mouse_event_closure('button_press')\n",
       "    );\n",
       "    rubberband_canvas.addEventListener(\n",
       "        'mouseup',\n",
       "        on_mouse_event_closure('button_release')\n",
       "    );\n",
       "    rubberband_canvas.addEventListener(\n",
       "        'dblclick',\n",
       "        on_mouse_event_closure('dblclick')\n",
       "    );\n",
       "    // Throttle sequential mouse events to 1 every 20ms.\n",
       "    rubberband_canvas.addEventListener(\n",
       "        'mousemove',\n",
       "        on_mouse_event_closure('motion_notify')\n",
       "    );\n",
       "\n",
       "    rubberband_canvas.addEventListener(\n",
       "        'mouseenter',\n",
       "        on_mouse_event_closure('figure_enter')\n",
       "    );\n",
       "    rubberband_canvas.addEventListener(\n",
       "        'mouseleave',\n",
       "        on_mouse_event_closure('figure_leave')\n",
       "    );\n",
       "\n",
       "    canvas_div.addEventListener('wheel', function (event) {\n",
       "        if (event.deltaY < 0) {\n",
       "            event.step = 1;\n",
       "        } else {\n",
       "            event.step = -1;\n",
       "        }\n",
       "        on_mouse_event_closure('scroll')(event);\n",
       "    });\n",
       "\n",
       "    canvas_div.appendChild(canvas);\n",
       "    canvas_div.appendChild(rubberband_canvas);\n",
       "\n",
       "    this.rubberband_context = rubberband_canvas.getContext('2d');\n",
       "    this.rubberband_context.strokeStyle = '#000000';\n",
       "\n",
       "    this._resize_canvas = function (width, height, forward) {\n",
       "        if (forward) {\n",
       "            canvas_div.style.width = width + 'px';\n",
       "            canvas_div.style.height = height + 'px';\n",
       "        }\n",
       "    };\n",
       "\n",
       "    // Disable right mouse context menu.\n",
       "    this.rubberband_canvas.addEventListener('contextmenu', function (_e) {\n",
       "        event.preventDefault();\n",
       "        return false;\n",
       "    });\n",
       "\n",
       "    function set_focus() {\n",
       "        canvas.focus();\n",
       "        canvas_div.focus();\n",
       "    }\n",
       "\n",
       "    window.setTimeout(set_focus, 100);\n",
       "};\n",
       "\n",
       "mpl.figure.prototype._init_toolbar = function () {\n",
       "    var fig = this;\n",
       "\n",
       "    var toolbar = document.createElement('div');\n",
       "    toolbar.classList = 'mpl-toolbar';\n",
       "    this.root.appendChild(toolbar);\n",
       "\n",
       "    function on_click_closure(name) {\n",
       "        return function (_event) {\n",
       "            return fig.toolbar_button_onclick(name);\n",
       "        };\n",
       "    }\n",
       "\n",
       "    function on_mouseover_closure(tooltip) {\n",
       "        return function (event) {\n",
       "            if (!event.currentTarget.disabled) {\n",
       "                return fig.toolbar_button_onmouseover(tooltip);\n",
       "            }\n",
       "        };\n",
       "    }\n",
       "\n",
       "    fig.buttons = {};\n",
       "    var buttonGroup = document.createElement('div');\n",
       "    buttonGroup.classList = 'mpl-button-group';\n",
       "    for (var toolbar_ind in mpl.toolbar_items) {\n",
       "        var name = mpl.toolbar_items[toolbar_ind][0];\n",
       "        var tooltip = mpl.toolbar_items[toolbar_ind][1];\n",
       "        var image = mpl.toolbar_items[toolbar_ind][2];\n",
       "        var method_name = mpl.toolbar_items[toolbar_ind][3];\n",
       "\n",
       "        if (!name) {\n",
       "            /* Instead of a spacer, we start a new button group. */\n",
       "            if (buttonGroup.hasChildNodes()) {\n",
       "                toolbar.appendChild(buttonGroup);\n",
       "            }\n",
       "            buttonGroup = document.createElement('div');\n",
       "            buttonGroup.classList = 'mpl-button-group';\n",
       "            continue;\n",
       "        }\n",
       "\n",
       "        var button = (fig.buttons[name] = document.createElement('button'));\n",
       "        button.classList = 'mpl-widget';\n",
       "        button.setAttribute('role', 'button');\n",
       "        button.setAttribute('aria-disabled', 'false');\n",
       "        button.addEventListener('click', on_click_closure(method_name));\n",
       "        button.addEventListener('mouseover', on_mouseover_closure(tooltip));\n",
       "\n",
       "        var icon_img = document.createElement('img');\n",
       "        icon_img.src = '_images/' + image + '.png';\n",
       "        icon_img.srcset = '_images/' + image + '_large.png 2x';\n",
       "        icon_img.alt = tooltip;\n",
       "        button.appendChild(icon_img);\n",
       "\n",
       "        buttonGroup.appendChild(button);\n",
       "    }\n",
       "\n",
       "    if (buttonGroup.hasChildNodes()) {\n",
       "        toolbar.appendChild(buttonGroup);\n",
       "    }\n",
       "\n",
       "    var fmt_picker = document.createElement('select');\n",
       "    fmt_picker.classList = 'mpl-widget';\n",
       "    toolbar.appendChild(fmt_picker);\n",
       "    this.format_dropdown = fmt_picker;\n",
       "\n",
       "    for (var ind in mpl.extensions) {\n",
       "        var fmt = mpl.extensions[ind];\n",
       "        var option = document.createElement('option');\n",
       "        option.selected = fmt === mpl.default_extension;\n",
       "        option.innerHTML = fmt;\n",
       "        fmt_picker.appendChild(option);\n",
       "    }\n",
       "\n",
       "    var status_bar = document.createElement('span');\n",
       "    status_bar.classList = 'mpl-message';\n",
       "    toolbar.appendChild(status_bar);\n",
       "    this.message = status_bar;\n",
       "};\n",
       "\n",
       "mpl.figure.prototype.request_resize = function (x_pixels, y_pixels) {\n",
       "    // Request matplotlib to resize the figure. Matplotlib will then trigger a resize in the client,\n",
       "    // which will in turn request a refresh of the image.\n",
       "    this.send_message('resize', { width: x_pixels, height: y_pixels });\n",
       "};\n",
       "\n",
       "mpl.figure.prototype.send_message = function (type, properties) {\n",
       "    properties['type'] = type;\n",
       "    properties['figure_id'] = this.id;\n",
       "    this.ws.send(JSON.stringify(properties));\n",
       "};\n",
       "\n",
       "mpl.figure.prototype.send_draw_message = function () {\n",
       "    if (!this.waiting) {\n",
       "        this.waiting = true;\n",
       "        this.ws.send(JSON.stringify({ type: 'draw', figure_id: this.id }));\n",
       "    }\n",
       "};\n",
       "\n",
       "mpl.figure.prototype.handle_save = function (fig, _msg) {\n",
       "    var format_dropdown = fig.format_dropdown;\n",
       "    var format = format_dropdown.options[format_dropdown.selectedIndex].value;\n",
       "    fig.ondownload(fig, format);\n",
       "};\n",
       "\n",
       "mpl.figure.prototype.handle_resize = function (fig, msg) {\n",
       "    var size = msg['size'];\n",
       "    if (size[0] !== fig.canvas.width || size[1] !== fig.canvas.height) {\n",
       "        fig._resize_canvas(size[0], size[1], msg['forward']);\n",
       "        fig.send_message('refresh', {});\n",
       "    }\n",
       "};\n",
       "\n",
       "mpl.figure.prototype.handle_rubberband = function (fig, msg) {\n",
       "    var x0 = msg['x0'] / fig.ratio;\n",
       "    var y0 = (fig.canvas.height - msg['y0']) / fig.ratio;\n",
       "    var x1 = msg['x1'] / fig.ratio;\n",
       "    var y1 = (fig.canvas.height - msg['y1']) / fig.ratio;\n",
       "    x0 = Math.floor(x0) + 0.5;\n",
       "    y0 = Math.floor(y0) + 0.5;\n",
       "    x1 = Math.floor(x1) + 0.5;\n",
       "    y1 = Math.floor(y1) + 0.5;\n",
       "    var min_x = Math.min(x0, x1);\n",
       "    var min_y = Math.min(y0, y1);\n",
       "    var width = Math.abs(x1 - x0);\n",
       "    var height = Math.abs(y1 - y0);\n",
       "\n",
       "    fig.rubberband_context.clearRect(\n",
       "        0,\n",
       "        0,\n",
       "        fig.canvas.width / fig.ratio,\n",
       "        fig.canvas.height / fig.ratio\n",
       "    );\n",
       "\n",
       "    fig.rubberband_context.strokeRect(min_x, min_y, width, height);\n",
       "};\n",
       "\n",
       "mpl.figure.prototype.handle_figure_label = function (fig, msg) {\n",
       "    // Updates the figure title.\n",
       "    fig.header.textContent = msg['label'];\n",
       "};\n",
       "\n",
       "mpl.figure.prototype.handle_cursor = function (fig, msg) {\n",
       "    fig.rubberband_canvas.style.cursor = msg['cursor'];\n",
       "};\n",
       "\n",
       "mpl.figure.prototype.handle_message = function (fig, msg) {\n",
       "    fig.message.textContent = msg['message'];\n",
       "};\n",
       "\n",
       "mpl.figure.prototype.handle_draw = function (fig, _msg) {\n",
       "    // Request the server to send over a new figure.\n",
       "    fig.send_draw_message();\n",
       "};\n",
       "\n",
       "mpl.figure.prototype.handle_image_mode = function (fig, msg) {\n",
       "    fig.image_mode = msg['mode'];\n",
       "};\n",
       "\n",
       "mpl.figure.prototype.handle_history_buttons = function (fig, msg) {\n",
       "    for (var key in msg) {\n",
       "        if (!(key in fig.buttons)) {\n",
       "            continue;\n",
       "        }\n",
       "        fig.buttons[key].disabled = !msg[key];\n",
       "        fig.buttons[key].setAttribute('aria-disabled', !msg[key]);\n",
       "    }\n",
       "};\n",
       "\n",
       "mpl.figure.prototype.handle_navigate_mode = function (fig, msg) {\n",
       "    if (msg['mode'] === 'PAN') {\n",
       "        fig.buttons['Pan'].classList.add('active');\n",
       "        fig.buttons['Zoom'].classList.remove('active');\n",
       "    } else if (msg['mode'] === 'ZOOM') {\n",
       "        fig.buttons['Pan'].classList.remove('active');\n",
       "        fig.buttons['Zoom'].classList.add('active');\n",
       "    } else {\n",
       "        fig.buttons['Pan'].classList.remove('active');\n",
       "        fig.buttons['Zoom'].classList.remove('active');\n",
       "    }\n",
       "};\n",
       "\n",
       "mpl.figure.prototype.updated_canvas_event = function () {\n",
       "    // Called whenever the canvas gets updated.\n",
       "    this.send_message('ack', {});\n",
       "};\n",
       "\n",
       "// A function to construct a web socket function for onmessage handling.\n",
       "// Called in the figure constructor.\n",
       "mpl.figure.prototype._make_on_message_function = function (fig) {\n",
       "    return function socket_on_message(evt) {\n",
       "        if (evt.data instanceof Blob) {\n",
       "            var img = evt.data;\n",
       "            if (img.type !== 'image/png') {\n",
       "                /* FIXME: We get \"Resource interpreted as Image but\n",
       "                 * transferred with MIME type text/plain:\" errors on\n",
       "                 * Chrome.  But how to set the MIME type?  It doesn't seem\n",
       "                 * to be part of the websocket stream */\n",
       "                img.type = 'image/png';\n",
       "            }\n",
       "\n",
       "            /* Free the memory for the previous frames */\n",
       "            if (fig.imageObj.src) {\n",
       "                (window.URL || window.webkitURL).revokeObjectURL(\n",
       "                    fig.imageObj.src\n",
       "                );\n",
       "            }\n",
       "\n",
       "            fig.imageObj.src = (window.URL || window.webkitURL).createObjectURL(\n",
       "                img\n",
       "            );\n",
       "            fig.updated_canvas_event();\n",
       "            fig.waiting = false;\n",
       "            return;\n",
       "        } else if (\n",
       "            typeof evt.data === 'string' &&\n",
       "            evt.data.slice(0, 21) === 'data:image/png;base64'\n",
       "        ) {\n",
       "            fig.imageObj.src = evt.data;\n",
       "            fig.updated_canvas_event();\n",
       "            fig.waiting = false;\n",
       "            return;\n",
       "        }\n",
       "\n",
       "        var msg = JSON.parse(evt.data);\n",
       "        var msg_type = msg['type'];\n",
       "\n",
       "        // Call the  \"handle_{type}\" callback, which takes\n",
       "        // the figure and JSON message as its only arguments.\n",
       "        try {\n",
       "            var callback = fig['handle_' + msg_type];\n",
       "        } catch (e) {\n",
       "            console.log(\n",
       "                \"No handler for the '\" + msg_type + \"' message type: \",\n",
       "                msg\n",
       "            );\n",
       "            return;\n",
       "        }\n",
       "\n",
       "        if (callback) {\n",
       "            try {\n",
       "                // console.log(\"Handling '\" + msg_type + \"' message: \", msg);\n",
       "                callback(fig, msg);\n",
       "            } catch (e) {\n",
       "                console.log(\n",
       "                    \"Exception inside the 'handler_\" + msg_type + \"' callback:\",\n",
       "                    e,\n",
       "                    e.stack,\n",
       "                    msg\n",
       "                );\n",
       "            }\n",
       "        }\n",
       "    };\n",
       "};\n",
       "\n",
       "// from https://stackoverflow.com/questions/1114465/getting-mouse-location-in-canvas\n",
       "mpl.findpos = function (e) {\n",
       "    //this section is from http://www.quirksmode.org/js/events_properties.html\n",
       "    var targ;\n",
       "    if (!e) {\n",
       "        e = window.event;\n",
       "    }\n",
       "    if (e.target) {\n",
       "        targ = e.target;\n",
       "    } else if (e.srcElement) {\n",
       "        targ = e.srcElement;\n",
       "    }\n",
       "    if (targ.nodeType === 3) {\n",
       "        // defeat Safari bug\n",
       "        targ = targ.parentNode;\n",
       "    }\n",
       "\n",
       "    // pageX,Y are the mouse positions relative to the document\n",
       "    var boundingRect = targ.getBoundingClientRect();\n",
       "    var x = e.pageX - (boundingRect.left + document.body.scrollLeft);\n",
       "    var y = e.pageY - (boundingRect.top + document.body.scrollTop);\n",
       "\n",
       "    return { x: x, y: y };\n",
       "};\n",
       "\n",
       "/*\n",
       " * return a copy of an object with only non-object keys\n",
       " * we need this to avoid circular references\n",
       " * https://stackoverflow.com/a/24161582/3208463\n",
       " */\n",
       "function simpleKeys(original) {\n",
       "    return Object.keys(original).reduce(function (obj, key) {\n",
       "        if (typeof original[key] !== 'object') {\n",
       "            obj[key] = original[key];\n",
       "        }\n",
       "        return obj;\n",
       "    }, {});\n",
       "}\n",
       "\n",
       "mpl.figure.prototype.mouse_event = function (event, name) {\n",
       "    var canvas_pos = mpl.findpos(event);\n",
       "\n",
       "    if (name === 'button_press') {\n",
       "        this.canvas.focus();\n",
       "        this.canvas_div.focus();\n",
       "    }\n",
       "\n",
       "    var x = canvas_pos.x * this.ratio;\n",
       "    var y = canvas_pos.y * this.ratio;\n",
       "\n",
       "    this.send_message(name, {\n",
       "        x: x,\n",
       "        y: y,\n",
       "        button: event.button,\n",
       "        step: event.step,\n",
       "        guiEvent: simpleKeys(event),\n",
       "    });\n",
       "\n",
       "    /* This prevents the web browser from automatically changing to\n",
       "     * the text insertion cursor when the button is pressed.  We want\n",
       "     * to control all of the cursor setting manually through the\n",
       "     * 'cursor' event from matplotlib */\n",
       "    event.preventDefault();\n",
       "    return false;\n",
       "};\n",
       "\n",
       "mpl.figure.prototype._key_event_extra = function (_event, _name) {\n",
       "    // Handle any extra behaviour associated with a key event\n",
       "};\n",
       "\n",
       "mpl.figure.prototype.key_event = function (event, name) {\n",
       "    // Prevent repeat events\n",
       "    if (name === 'key_press') {\n",
       "        if (event.key === this._key) {\n",
       "            return;\n",
       "        } else {\n",
       "            this._key = event.key;\n",
       "        }\n",
       "    }\n",
       "    if (name === 'key_release') {\n",
       "        this._key = null;\n",
       "    }\n",
       "\n",
       "    var value = '';\n",
       "    if (event.ctrlKey && event.key !== 'Control') {\n",
       "        value += 'ctrl+';\n",
       "    }\n",
       "    else if (event.altKey && event.key !== 'Alt') {\n",
       "        value += 'alt+';\n",
       "    }\n",
       "    else if (event.shiftKey && event.key !== 'Shift') {\n",
       "        value += 'shift+';\n",
       "    }\n",
       "\n",
       "    value += 'k' + event.key;\n",
       "\n",
       "    this._key_event_extra(event, name);\n",
       "\n",
       "    this.send_message(name, { key: value, guiEvent: simpleKeys(event) });\n",
       "    return false;\n",
       "};\n",
       "\n",
       "mpl.figure.prototype.toolbar_button_onclick = function (name) {\n",
       "    if (name === 'download') {\n",
       "        this.handle_save(this, null);\n",
       "    } else {\n",
       "        this.send_message('toolbar_button', { name: name });\n",
       "    }\n",
       "};\n",
       "\n",
       "mpl.figure.prototype.toolbar_button_onmouseover = function (tooltip) {\n",
       "    this.message.textContent = tooltip;\n",
       "};\n",
       "\n",
       "///////////////// REMAINING CONTENT GENERATED BY embed_js.py /////////////////\n",
       "// prettier-ignore\n",
       "var _JSXTOOLS_RESIZE_OBSERVER=function(A){var t,i=new WeakMap,n=new WeakMap,a=new WeakMap,r=new WeakMap,o=new Set;function s(e){if(!(this instanceof s))throw new TypeError(\"Constructor requires 'new' operator\");i.set(this,e)}function h(){throw new TypeError(\"Function is not a constructor\")}function c(e,t,i,n){e=0 in arguments?Number(arguments[0]):0,t=1 in arguments?Number(arguments[1]):0,i=2 in arguments?Number(arguments[2]):0,n=3 in arguments?Number(arguments[3]):0,this.right=(this.x=this.left=e)+(this.width=i),this.bottom=(this.y=this.top=t)+(this.height=n),Object.freeze(this)}function d(){t=requestAnimationFrame(d);var s=new WeakMap,p=new Set;o.forEach((function(t){r.get(t).forEach((function(i){var r=t instanceof window.SVGElement,o=a.get(t),d=r?0:parseFloat(o.paddingTop),f=r?0:parseFloat(o.paddingRight),l=r?0:parseFloat(o.paddingBottom),u=r?0:parseFloat(o.paddingLeft),g=r?0:parseFloat(o.borderTopWidth),m=r?0:parseFloat(o.borderRightWidth),w=r?0:parseFloat(o.borderBottomWidth),b=u+f,F=d+l,v=(r?0:parseFloat(o.borderLeftWidth))+m,W=g+w,y=r?0:t.offsetHeight-W-t.clientHeight,E=r?0:t.offsetWidth-v-t.clientWidth,R=b+v,z=F+W,M=r?t.width:parseFloat(o.width)-R-E,O=r?t.height:parseFloat(o.height)-z-y;if(n.has(t)){var k=n.get(t);if(k[0]===M&&k[1]===O)return}n.set(t,[M,O]);var S=Object.create(h.prototype);S.target=t,S.contentRect=new c(u,d,M,O),s.has(i)||(s.set(i,[]),p.add(i)),s.get(i).push(S)}))})),p.forEach((function(e){i.get(e).call(e,s.get(e),e)}))}return s.prototype.observe=function(i){if(i instanceof window.Element){r.has(i)||(r.set(i,new Set),o.add(i),a.set(i,window.getComputedStyle(i)));var n=r.get(i);n.has(this)||n.add(this),cancelAnimationFrame(t),t=requestAnimationFrame(d)}},s.prototype.unobserve=function(i){if(i instanceof window.Element&&r.has(i)){var n=r.get(i);n.has(this)&&(n.delete(this),n.size||(r.delete(i),o.delete(i))),n.size||r.delete(i),o.size||cancelAnimationFrame(t)}},A.DOMRectReadOnly=c,A.ResizeObserver=s,A.ResizeObserverEntry=h,A}; // eslint-disable-line\n",
       "mpl.toolbar_items = [[\"Home\", \"Reset original view\", \"fa fa-home icon-home\", \"home\"], [\"Back\", \"Back to previous view\", \"fa fa-arrow-left icon-arrow-left\", \"back\"], [\"Forward\", \"Forward to next view\", \"fa fa-arrow-right icon-arrow-right\", \"forward\"], [\"\", \"\", \"\", \"\"], [\"Pan\", \"Left button pans, Right button zooms\\nx/y fixes axis, CTRL fixes aspect\", \"fa fa-arrows icon-move\", \"pan\"], [\"Zoom\", \"Zoom to rectangle\\nx/y fixes axis\", \"fa fa-square-o icon-check-empty\", \"zoom\"], [\"\", \"\", \"\", \"\"], [\"Download\", \"Download plot\", \"fa fa-floppy-o icon-save\", \"download\"]];\n",
       "\n",
       "mpl.extensions = [\"eps\", \"jpeg\", \"pgf\", \"pdf\", \"png\", \"ps\", \"raw\", \"svg\", \"tif\"];\n",
       "\n",
       "mpl.default_extension = \"png\";/* global mpl */\n",
       "\n",
       "var comm_websocket_adapter = function (comm) {\n",
       "    // Create a \"websocket\"-like object which calls the given IPython comm\n",
       "    // object with the appropriate methods. Currently this is a non binary\n",
       "    // socket, so there is still some room for performance tuning.\n",
       "    var ws = {};\n",
       "\n",
       "    ws.binaryType = comm.kernel.ws.binaryType;\n",
       "    ws.readyState = comm.kernel.ws.readyState;\n",
       "    function updateReadyState(_event) {\n",
       "        if (comm.kernel.ws) {\n",
       "            ws.readyState = comm.kernel.ws.readyState;\n",
       "        } else {\n",
       "            ws.readyState = 3; // Closed state.\n",
       "        }\n",
       "    }\n",
       "    comm.kernel.ws.addEventListener('open', updateReadyState);\n",
       "    comm.kernel.ws.addEventListener('close', updateReadyState);\n",
       "    comm.kernel.ws.addEventListener('error', updateReadyState);\n",
       "\n",
       "    ws.close = function () {\n",
       "        comm.close();\n",
       "    };\n",
       "    ws.send = function (m) {\n",
       "        //console.log('sending', m);\n",
       "        comm.send(m);\n",
       "    };\n",
       "    // Register the callback with on_msg.\n",
       "    comm.on_msg(function (msg) {\n",
       "        //console.log('receiving', msg['content']['data'], msg);\n",
       "        var data = msg['content']['data'];\n",
       "        if (data['blob'] !== undefined) {\n",
       "            data = {\n",
       "                data: new Blob(msg['buffers'], { type: data['blob'] }),\n",
       "            };\n",
       "        }\n",
       "        // Pass the mpl event to the overridden (by mpl) onmessage function.\n",
       "        ws.onmessage(data);\n",
       "    });\n",
       "    return ws;\n",
       "};\n",
       "\n",
       "mpl.mpl_figure_comm = function (comm, msg) {\n",
       "    // This is the function which gets called when the mpl process\n",
       "    // starts-up an IPython Comm through the \"matplotlib\" channel.\n",
       "\n",
       "    var id = msg.content.data.id;\n",
       "    // Get hold of the div created by the display call when the Comm\n",
       "    // socket was opened in Python.\n",
       "    var element = document.getElementById(id);\n",
       "    var ws_proxy = comm_websocket_adapter(comm);\n",
       "\n",
       "    function ondownload(figure, _format) {\n",
       "        window.open(figure.canvas.toDataURL());\n",
       "    }\n",
       "\n",
       "    var fig = new mpl.figure(id, ws_proxy, ondownload, element);\n",
       "\n",
       "    // Call onopen now - mpl needs it, as it is assuming we've passed it a real\n",
       "    // web socket which is closed, not our websocket->open comm proxy.\n",
       "    ws_proxy.onopen();\n",
       "\n",
       "    fig.parent_element = element;\n",
       "    fig.cell_info = mpl.find_output_cell(\"<div id='\" + id + \"'></div>\");\n",
       "    if (!fig.cell_info) {\n",
       "        console.error('Failed to find cell for figure', id, fig);\n",
       "        return;\n",
       "    }\n",
       "    fig.cell_info[0].output_area.element.on(\n",
       "        'cleared',\n",
       "        { fig: fig },\n",
       "        fig._remove_fig_handler\n",
       "    );\n",
       "};\n",
       "\n",
       "mpl.figure.prototype.handle_close = function (fig, msg) {\n",
       "    var width = fig.canvas.width / fig.ratio;\n",
       "    fig.cell_info[0].output_area.element.off(\n",
       "        'cleared',\n",
       "        fig._remove_fig_handler\n",
       "    );\n",
       "    fig.resizeObserverInstance.unobserve(fig.canvas_div);\n",
       "\n",
       "    // Update the output cell to use the data from the current canvas.\n",
       "    fig.push_to_output();\n",
       "    var dataURL = fig.canvas.toDataURL();\n",
       "    // Re-enable the keyboard manager in IPython - without this line, in FF,\n",
       "    // the notebook keyboard shortcuts fail.\n",
       "    IPython.keyboard_manager.enable();\n",
       "    fig.parent_element.innerHTML =\n",
       "        '<img src=\"' + dataURL + '\" width=\"' + width + '\">';\n",
       "    fig.close_ws(fig, msg);\n",
       "};\n",
       "\n",
       "mpl.figure.prototype.close_ws = function (fig, msg) {\n",
       "    fig.send_message('closing', msg);\n",
       "    // fig.ws.close()\n",
       "};\n",
       "\n",
       "mpl.figure.prototype.push_to_output = function (_remove_interactive) {\n",
       "    // Turn the data on the canvas into data in the output cell.\n",
       "    var width = this.canvas.width / this.ratio;\n",
       "    var dataURL = this.canvas.toDataURL();\n",
       "    this.cell_info[1]['text/html'] =\n",
       "        '<img src=\"' + dataURL + '\" width=\"' + width + '\">';\n",
       "};\n",
       "\n",
       "mpl.figure.prototype.updated_canvas_event = function () {\n",
       "    // Tell IPython that the notebook contents must change.\n",
       "    IPython.notebook.set_dirty(true);\n",
       "    this.send_message('ack', {});\n",
       "    var fig = this;\n",
       "    // Wait a second, then push the new image to the DOM so\n",
       "    // that it is saved nicely (might be nice to debounce this).\n",
       "    setTimeout(function () {\n",
       "        fig.push_to_output();\n",
       "    }, 1000);\n",
       "};\n",
       "\n",
       "mpl.figure.prototype._init_toolbar = function () {\n",
       "    var fig = this;\n",
       "\n",
       "    var toolbar = document.createElement('div');\n",
       "    toolbar.classList = 'btn-toolbar';\n",
       "    this.root.appendChild(toolbar);\n",
       "\n",
       "    function on_click_closure(name) {\n",
       "        return function (_event) {\n",
       "            return fig.toolbar_button_onclick(name);\n",
       "        };\n",
       "    }\n",
       "\n",
       "    function on_mouseover_closure(tooltip) {\n",
       "        return function (event) {\n",
       "            if (!event.currentTarget.disabled) {\n",
       "                return fig.toolbar_button_onmouseover(tooltip);\n",
       "            }\n",
       "        };\n",
       "    }\n",
       "\n",
       "    fig.buttons = {};\n",
       "    var buttonGroup = document.createElement('div');\n",
       "    buttonGroup.classList = 'btn-group';\n",
       "    var button;\n",
       "    for (var toolbar_ind in mpl.toolbar_items) {\n",
       "        var name = mpl.toolbar_items[toolbar_ind][0];\n",
       "        var tooltip = mpl.toolbar_items[toolbar_ind][1];\n",
       "        var image = mpl.toolbar_items[toolbar_ind][2];\n",
       "        var method_name = mpl.toolbar_items[toolbar_ind][3];\n",
       "\n",
       "        if (!name) {\n",
       "            /* Instead of a spacer, we start a new button group. */\n",
       "            if (buttonGroup.hasChildNodes()) {\n",
       "                toolbar.appendChild(buttonGroup);\n",
       "            }\n",
       "            buttonGroup = document.createElement('div');\n",
       "            buttonGroup.classList = 'btn-group';\n",
       "            continue;\n",
       "        }\n",
       "\n",
       "        button = fig.buttons[name] = document.createElement('button');\n",
       "        button.classList = 'btn btn-default';\n",
       "        button.href = '#';\n",
       "        button.title = name;\n",
       "        button.innerHTML = '<i class=\"fa ' + image + ' fa-lg\"></i>';\n",
       "        button.addEventListener('click', on_click_closure(method_name));\n",
       "        button.addEventListener('mouseover', on_mouseover_closure(tooltip));\n",
       "        buttonGroup.appendChild(button);\n",
       "    }\n",
       "\n",
       "    if (buttonGroup.hasChildNodes()) {\n",
       "        toolbar.appendChild(buttonGroup);\n",
       "    }\n",
       "\n",
       "    // Add the status bar.\n",
       "    var status_bar = document.createElement('span');\n",
       "    status_bar.classList = 'mpl-message pull-right';\n",
       "    toolbar.appendChild(status_bar);\n",
       "    this.message = status_bar;\n",
       "\n",
       "    // Add the close button to the window.\n",
       "    var buttongrp = document.createElement('div');\n",
       "    buttongrp.classList = 'btn-group inline pull-right';\n",
       "    button = document.createElement('button');\n",
       "    button.classList = 'btn btn-mini btn-primary';\n",
       "    button.href = '#';\n",
       "    button.title = 'Stop Interaction';\n",
       "    button.innerHTML = '<i class=\"fa fa-power-off icon-remove icon-large\"></i>';\n",
       "    button.addEventListener('click', function (_evt) {\n",
       "        fig.handle_close(fig, {});\n",
       "    });\n",
       "    button.addEventListener(\n",
       "        'mouseover',\n",
       "        on_mouseover_closure('Stop Interaction')\n",
       "    );\n",
       "    buttongrp.appendChild(button);\n",
       "    var titlebar = this.root.querySelector('.ui-dialog-titlebar');\n",
       "    titlebar.insertBefore(buttongrp, titlebar.firstChild);\n",
       "};\n",
       "\n",
       "mpl.figure.prototype._remove_fig_handler = function (event) {\n",
       "    var fig = event.data.fig;\n",
       "    if (event.target !== this) {\n",
       "        // Ignore bubbled events from children.\n",
       "        return;\n",
       "    }\n",
       "    fig.close_ws(fig, {});\n",
       "};\n",
       "\n",
       "mpl.figure.prototype._root_extra_style = function (el) {\n",
       "    el.style.boxSizing = 'content-box'; // override notebook setting of border-box.\n",
       "};\n",
       "\n",
       "mpl.figure.prototype._canvas_extra_style = function (el) {\n",
       "    // this is important to make the div 'focusable\n",
       "    el.setAttribute('tabindex', 0);\n",
       "    // reach out to IPython and tell the keyboard manager to turn it's self\n",
       "    // off when our div gets focus\n",
       "\n",
       "    // location in version 3\n",
       "    if (IPython.notebook.keyboard_manager) {\n",
       "        IPython.notebook.keyboard_manager.register_events(el);\n",
       "    } else {\n",
       "        // location in version 2\n",
       "        IPython.keyboard_manager.register_events(el);\n",
       "    }\n",
       "};\n",
       "\n",
       "mpl.figure.prototype._key_event_extra = function (event, _name) {\n",
       "    // Check for shift+enter\n",
       "    if (event.shiftKey && event.which === 13) {\n",
       "        this.canvas_div.blur();\n",
       "        // select the cell after this one\n",
       "        var index = IPython.notebook.find_cell_index(this.cell_info[0]);\n",
       "        IPython.notebook.select(index + 1);\n",
       "    }\n",
       "};\n",
       "\n",
       "mpl.figure.prototype.handle_save = function (fig, _msg) {\n",
       "    fig.ondownload(fig, null);\n",
       "};\n",
       "\n",
       "mpl.find_output_cell = function (html_output) {\n",
       "    // Return the cell and output element which can be found *uniquely* in the notebook.\n",
       "    // Note - this is a bit hacky, but it is done because the \"notebook_saving.Notebook\"\n",
       "    // IPython event is triggered only after the cells have been serialised, which for\n",
       "    // our purposes (turning an active figure into a static one), is too late.\n",
       "    var cells = IPython.notebook.get_cells();\n",
       "    var ncells = cells.length;\n",
       "    for (var i = 0; i < ncells; i++) {\n",
       "        var cell = cells[i];\n",
       "        if (cell.cell_type === 'code') {\n",
       "            for (var j = 0; j < cell.output_area.outputs.length; j++) {\n",
       "                var data = cell.output_area.outputs[j];\n",
       "                if (data.data) {\n",
       "                    // IPython >= 3 moved mimebundle to data attribute of output\n",
       "                    data = data.data;\n",
       "                }\n",
       "                if (data['text/html'] === html_output) {\n",
       "                    return [cell, data, j];\n",
       "                }\n",
       "            }\n",
       "        }\n",
       "    }\n",
       "};\n",
       "\n",
       "// Register the function which deals with the matplotlib target/channel.\n",
       "// The kernel may be null if the page has been refreshed.\n",
       "if (IPython.notebook.kernel !== null) {\n",
       "    IPython.notebook.kernel.comm_manager.register_target(\n",
       "        'matplotlib',\n",
       "        mpl.mpl_figure_comm\n",
       "    );\n",
       "}\n"
      ],
      "text/plain": [
       "<IPython.core.display.Javascript object>"
      ]
     },
     "metadata": {},
     "output_type": "display_data"
    },
    {
     "data": {
      "text/html": [
       "<img src=\"data:image/png;base64,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\" width=\"640\">"
      ],
      "text/plain": [
       "<IPython.core.display.HTML object>"
      ]
     },
     "metadata": {},
     "output_type": "display_data"
    }
   ],
   "source": [
    "# Now, open an interactive plot window with the Qt4Agg backend\n",
    "fig, ax = plt.subplots()\n",
    "t = np.linspace(0, 10, 100)\n",
    "ax.plot(t, np.cos(t) * np.sin(t))\n",
    "plt.show()"
   ]
  },
  {
   "cell_type": "markdown",
   "metadata": {},
   "source": [
    "#### Reference\n",
    "\n",
    "- https://matplotlib.org/3.1.1/tutorials/introductory/pyplot.html\n",
    "\n",
    "- http://www.matplotlib.org - The project web page for matplotlib.- \n",
    "- https://github.com/matplotlib/matplotlib - The source code for matplotlib.\n",
    "- http://matplotlib.org/gallery.html - A large gallery showcaseing various types of plots matplotlib can create. Highly recommended!\n",
    "- http://scipy-lectures.github.io/matplotlib/matplotlib.html - Another good matplotlib reference.\n",
    "\n",
    " https://seaborn.pydata.org/examples/index.html\n",
    " "
   ]
  },
  {
   "cell_type": "code",
   "execution_count": null,
   "metadata": {},
   "outputs": [],
   "source": []
  }
 ],
 "metadata": {
  "kernelspec": {
   "display_name": "Python 3 (ipykernel)",
   "language": "python",
   "name": "python3"
  },
  "language_info": {
   "codemirror_mode": {
    "name": "ipython",
    "version": 3
   },
   "file_extension": ".py",
   "mimetype": "text/x-python",
   "name": "python",
   "nbconvert_exporter": "python",
   "pygments_lexer": "ipython3",
   "version": "3.9.13"
  },
  "varInspector": {
   "cols": {
    "lenName": 16,
    "lenType": 16,
    "lenVar": 40
   },
   "kernels_config": {
    "python": {
     "delete_cmd_postfix": "",
     "delete_cmd_prefix": "del ",
     "library": "var_list.py",
     "varRefreshCmd": "print(var_dic_list())"
    },
    "r": {
     "delete_cmd_postfix": ") ",
     "delete_cmd_prefix": "rm(",
     "library": "var_list.r",
     "varRefreshCmd": "cat(var_dic_list()) "
    }
   },
   "types_to_exclude": [
    "module",
    "function",
    "builtin_function_or_method",
    "instance",
    "_Feature"
   ],
   "window_display": false
  }
 },
 "nbformat": 4,
 "nbformat_minor": 2
}
