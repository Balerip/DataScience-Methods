{
 "cells": [
  {
   "cell_type": "markdown",
   "id": "3b0e5ebb",
   "metadata": {},
   "source": [
    "In data science or Machine learning, one of the most important tasks performed when working with large amounts of data is data cleaning. In this assignment, you'll see how to clean a dataset using pandas step by step. This dataset is a simulation of a customer list."
   ]
  },
  {
   "cell_type": "markdown",
   "id": "8f4df655",
   "metadata": {},
   "source": [
    "**Q1\tWhat is machine learning? Where and why you will use machine learning?**"
   ]
  },
  {
   "cell_type": "code",
   "execution_count": null,
   "id": "10da18d0",
   "metadata": {},
   "outputs": [],
   "source": []
  },
  {
   "cell_type": "markdown",
   "id": "a9cc549a",
   "metadata": {},
   "source": [
    "**Q2 What is normalization/Scaling in Machine Learning and why do you perform? Explain with examples**"
   ]
  },
  {
   "cell_type": "code",
   "execution_count": null,
   "id": "81494d6c",
   "metadata": {},
   "outputs": [],
   "source": []
  },
  {
   "cell_type": "markdown",
   "id": "7c9a839a",
   "metadata": {},
   "source": [
    "**Q3 What is supervised and unsupervised learning? Give some examples** "
   ]
  },
  {
   "cell_type": "code",
   "execution_count": null,
   "id": "bc90581c",
   "metadata": {},
   "outputs": [],
   "source": []
  },
  {
   "cell_type": "markdown",
   "id": "500a6a32",
   "metadata": {},
   "source": [
    "**Q4 What is Data Cleaning and why do we need it?**  "
   ]
  },
  {
   "cell_type": "code",
   "execution_count": null,
   "id": "c5f1bfeb",
   "metadata": {},
   "outputs": [],
   "source": []
  },
  {
   "cell_type": "code",
   "execution_count": 2,
   "id": "4635cdb6",
   "metadata": {},
   "outputs": [],
   "source": [
    "import pandas as pd"
   ]
  },
  {
   "cell_type": "code",
   "execution_count": 40,
   "id": "5c667c22",
   "metadata": {},
   "outputs": [
    {
     "name": "stdout",
     "output_type": "stream",
     "text": [
      "    user_id       Name Last_name  age           Phone                Email  \\\n",
      "0       234        Tom     Smith   23    555/123/4567      smith@email.com   \n",
      "1       235     Alex--   johnson   32    333-234-5678  johnson@hotmail.com   \n",
      "2       236   ..Thomas     brown   45    444_456_7890      brown@email.com   \n",
      "3       237       John     Davis   22    111-222-3333       davis@mail.com   \n",
      "4       237       John     Davis   22    111-222-3333       davis@mail.com   \n",
      "5       238      Paul/      None   50            None       John@gmail.com   \n",
      "6       239      Emma9    wilson   34    333/987/4567      wilson@mail.com   \n",
      "7       240        Joy  Thompson   47     222/345_987   thompson@email.com   \n",
      "8       241  Samantha_       Lee   28  (777) 987-6543        lee@email.com   \n",
      "9       242      Emily   Johnson   19    777-888-9999    emily@hotmail.com   \n",
      "10      242      Emily   Johnson   19    777-888-9999    emily@hotmail.com   \n",
      "\n",
      "   Not_Useful_column  \n",
      "0               None  \n",
      "1               None  \n",
      "2               None  \n",
      "3               None  \n",
      "4               None  \n",
      "5               None  \n",
      "6               None  \n",
      "7               None  \n",
      "8               None  \n",
      "9               None  \n",
      "10              None  \n"
     ]
    }
   ],
   "source": [
    "df_users = pd.DataFrame({\n",
    "    \"user_id\": [234, 235, 236, 237, 237, 238, 239, 240, 241, 242, 242],\n",
    "    \"Name\": [\"Tom\", \"Alex--\", \"..Thomas\", \"John\", \"John\", \"Paul/\", \"Emma9\", \"Joy\", \"Samantha_\", \"Emily\", \"Emily\"],\n",
    "    \"Last_name\": [\"Smith\", \"johnson\", \"brown\", \"Davis\", \"Davis\", \"None\", \"wilson\", \"Thompson\", \"Lee\", \"Johnson\", \"Johnson\"],\n",
    "    \"age\": [23, 32, 45, 22, 22, 50, 34, 47, 28, 19, 19],\n",
    "    \"Phone\": [\"555/123/4567\", \"333-234-5678\", \"444_456_7890\", \"111-222-3333\", \"111-222-3333\", None, \"333/987/4567\", \"222/345_987\", \"(777) 987-6543\", \"777-888-9999\", \"777-888-9999\"],\n",
    "    \"Email\": [\"smith@email.com\", \"johnson@hotmail.com\", \"brown@email.com\", \"davis@mail.com\", \"davis@mail.com\", \"John@gmail.com\", \"wilson@mail.com\", \"thompson@email.com\", \"lee@email.com\", \"emily@hotmail.com\", \"emily@hotmail.com\"],\n",
    "    \"Not_Useful_column\": [None, None, None, None, None, None, None, None, None, None, None]\n",
    "})\n",
    "\n",
    "print(df_users)"
   ]
  },
  {
   "cell_type": "markdown",
   "id": "06572341",
   "metadata": {},
   "source": [
    "Here we use the pandas `DataFrame()` function to create a mock dataset, this dataset contains 7 columns and 11 rows, the columns are, a `user_id` which is the user's unique id, a `Name` column, a `Last_name` column, the user's `age`, the user's `Phone` number, the user's `Email`, and finally a non-useful column called `Not_Useful_column` which we will use as an example of how to delete an unnecessary column from a dataset.\n",
    "\n",
    "As you can see in the example dataset, the data has some inconsistencies in the columns, a few unnecessary symbols in the `Name` column, some values in the `Last_name` column are not capitalized, and each of the values in the `Phone` column have different syntax which makes it difficult to work with them.\n"
   ]
  },
  {
   "cell_type": "markdown",
   "id": "fc4415ad",
   "metadata": {},
   "source": [
    "Your final output should look like "
   ]
  },
  {
   "cell_type": "code",
   "execution_count": 54,
   "id": "8a188df3",
   "metadata": {},
   "outputs": [
    {
     "name": "stdout",
     "output_type": "stream",
     "text": [
      "   user_id      Name Last_name  age       Phone                Email\n",
      "0      234       Tom     Smith   23  5551234567      smith@email.com\n",
      "1      235      Alex   Johnson   32  3332345678  johnson@hotmail.com\n",
      "2      236    Thomas     Brown   45  4444567890      brown@email.com\n",
      "3      237      John     Davis   22  1112223333       davis@mail.com\n",
      "5      238      Paul      None   50        None       John@gmail.com\n",
      "6      239     Emma9    Wilson   34  3339874567      wilson@mail.com\n",
      "7      240       Joy  Thompson   47   222345987   thompson@email.com\n",
      "8      241  Samantha       Lee   28  7779876543        lee@email.com\n",
      "9      242     Emily   Johnson   19  7778889999    emily@hotmail.com\n"
     ]
    },
    {
     "name": "stderr",
     "output_type": "stream",
     "text": [
      "/var/folders/ct/b2rs611d1g96lldn5x1gj1wm0000gp/T/ipykernel_3370/2862741185.py:3: FutureWarning: The default value of regex will change from True to False in a future version.\n",
      "  df_users['Name']=df_users['Name'].str.replace('[\"--\",\"..\",\"/\",\"_\"]','')\n",
      "/var/folders/ct/b2rs611d1g96lldn5x1gj1wm0000gp/T/ipykernel_3370/2862741185.py:5: FutureWarning: The default value of regex will change from True to False in a future version.\n",
      "  df_users['Phone']=df_users['Phone'].str.replace('[^0-9+]','')\n"
     ]
    }
   ],
   "source": [
    "df_users.dropna(axis=1,how='all',inplace=True)\n",
    "df_users.drop_duplicates(inplace=True)\n",
    "df_users['Name']=df_users['Name'].str.replace('[\"--\",\"..\",\"/\",\"_\"]','')\n",
    "df_users['Last_name']=df_users['Last_name'].str.capitalize()\n",
    "df_users['Phone']=df_users['Phone'].str.replace('[^0-9+]','')\n",
    "print(df_users)"
   ]
  },
  {
   "cell_type": "code",
   "execution_count": null,
   "id": "32f65d9b",
   "metadata": {},
   "outputs": [],
   "source": []
  },
  {
   "cell_type": "code",
   "execution_count": null,
   "id": "2b9b9dbc",
   "metadata": {},
   "outputs": [],
   "source": []
  }
 ],
 "metadata": {
  "kernelspec": {
   "display_name": "Python 3 (ipykernel)",
   "language": "python",
   "name": "python3"
  },
  "language_info": {
   "codemirror_mode": {
    "name": "ipython",
    "version": 3
   },
   "file_extension": ".py",
   "mimetype": "text/x-python",
   "name": "python",
   "nbconvert_exporter": "python",
   "pygments_lexer": "ipython3",
   "version": "3.9.13"
  }
 },
 "nbformat": 4,
 "nbformat_minor": 5
}
