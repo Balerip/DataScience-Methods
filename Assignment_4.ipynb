{
 "cells": [
  {
   "cell_type": "markdown",
   "id": "6e4a9118",
   "metadata": {},
   "source": [
    "1)What assumptions are made about the attributes in\n",
    "Naïve Bayes method of classification and why? What is\n",
    "Laplacian correction and why it is necessary?"
   ]
  },
  {
   "cell_type": "markdown",
   "id": "9f585aa6",
   "metadata": {},
   "source": [
    "Answer:\n",
    "\n",
    "In Naive Bayes, we make the assumptions that the presence of a particular features/attributes in a class is unrelated to the presence of any other features/attributes that means they are not correlated with each other which means the features are conditionally independent given the class label. This means that the presence or value of one feature is assumed not to depend on the presence or value of any other feature, once the class label is known.This approach is based on the assumption that the features of the input data are conditionally independent given the class, allowing the algorithm to make predictions quickly and accurately.\n",
    "\n",
    "The assumption of feature independence in Naive Bayes simplifies the computation and makes the algorithm more efficient. By assuming independence, the joint probability of features given the class can be computed as the product of individual feature probabilities. This simplification is particularly useful when dealing with high-dimensional feature spaces.\n",
    "\n",
    "Laplacian correction is a technique used to handle the problem of zero probabilities in the context of Naïve Bayes classification. When you calculate conditional probabilities, you might encounter situations where a particular feature hasn't been observed in combination with a specific class label in your training data. This can lead to conditional probabilities of zero, which can cause issues when you multiply probabilities together in the Naïve Bayes formula.\n",
    "\n",
    "Laplacian correction involves adding a small constant (usually 1) to the count of each feature for each class. This effectively \"smoothes\" the probability estimates, preventing them from being exactly zero. Laplacian correction helps to avoid zero probabilities and ensures that no feature is entirely removed when making predictions."
   ]
  },
  {
   "cell_type": "markdown",
   "id": "a0abc8e6",
   "metadata": {},
   "source": [
    "2)Take the iris data. Use Naïve Bayes algorithm to find the species with the following two observations.\n",
    "[4.5 3.0 5.6 2.1; 5.4 2.6 4.5 0.0] Show various steps involved and do as explained in the class. "
   ]
  },
  {
   "cell_type": "code",
   "execution_count": 1,
   "id": "33f3a237",
   "metadata": {},
   "outputs": [],
   "source": [
    "# importing necessary libraries\n",
    "import numpy as np\n",
    "import pandas as pd\n",
    "from sklearn import datasets \n",
    "from sklearn.metrics import confusion_matrix \n",
    "from sklearn.model_selection import train_test_split \n",
    "import math"
   ]
  },
  {
   "cell_type": "code",
   "execution_count": 31,
   "id": "2e37e008",
   "metadata": {},
   "outputs": [
    {
     "name": "stdout",
     "output_type": "stream",
     "text": [
      "dict_keys(['data', 'target', 'frame', 'target_names', 'DESCR', 'feature_names', 'filename', 'data_module'])\n",
      "     sepal length (cm)  sepal width (cm)  petal length (cm)  petal width (cm)  \\\n",
      "0                  5.1               3.5                1.4               0.2   \n",
      "1                  4.9               3.0                1.4               0.2   \n",
      "2                  4.7               3.2                1.3               0.2   \n",
      "3                  4.6               3.1                1.5               0.2   \n",
      "4                  5.0               3.6                1.4               0.2   \n",
      "..                 ...               ...                ...               ...   \n",
      "145                6.7               3.0                5.2               2.3   \n",
      "146                6.3               2.5                5.0               1.9   \n",
      "147                6.5               3.0                5.2               2.0   \n",
      "148                6.2               3.4                5.4               2.3   \n",
      "149                5.9               3.0                5.1               1.8   \n",
      "\n",
      "     target  \n",
      "0         0  \n",
      "1         0  \n",
      "2         0  \n",
      "3         0  \n",
      "4         0  \n",
      "..      ...  \n",
      "145       2  \n",
      "146       2  \n",
      "147       2  \n",
      "148       2  \n",
      "149       2  \n",
      "\n",
      "[150 rows x 5 columns]\n"
     ]
    }
   ],
   "source": [
    "# loading the iris dataset \n",
    "iris = datasets.load_iris()\n",
    "print(iris.keys())\n",
    "iris.target\n",
    "iris_df = pd.DataFrame(data=iris.data, columns=iris.feature_names)\n",
    "target_series = pd.Series(iris.target, name='target')\n",
    "iris_df['target'] = target_series\n",
    "print(iris_df)"
   ]
  },
  {
   "cell_type": "code",
   "execution_count": 3,
   "id": "8c23fe70",
   "metadata": {},
   "outputs": [
    {
     "name": "stdout",
     "output_type": "stream",
     "text": [
      "<U10\n"
     ]
    }
   ],
   "source": [
    "target_names=iris.target_names\n",
    "print(target_names.dtype)"
   ]
  },
  {
   "cell_type": "code",
   "execution_count": 4,
   "id": "375b3e00",
   "metadata": {},
   "outputs": [
    {
     "name": "stdout",
     "output_type": "stream",
     "text": [
      "[0 0 0 0 0 0 0 0 0 0 0 0 0 0 0 0 0 0 0 0 0 0 0 0 0 0 0 0 0 0 0 0 0 0 0 0 0\n",
      " 0 0 0 0 0 0 0 0 0 0 0 0 0 1 1 1 1 1 1 1 1 1 1 1 1 1 1 1 1 1 1 1 1 1 1 1 1\n",
      " 1 1 1 1 1 1 1 1 1 1 1 1 1 1 1 1 1 1 1 1 1 1 1 1 1 1 2 2 2 2 2 2 2 2 2 2 2\n",
      " 2 2 2 2 2 2 2 2 2 2 2 2 2 2 2 2 2 2 2 2 2 2 2 2 2 2 2 2 2 2 2 2 2 2 2 2 2\n",
      " 2 2]\n",
      "['setosa', 'setosa', 'setosa', 'setosa', 'setosa', 'setosa', 'setosa', 'setosa', 'setosa', 'setosa', 'setosa', 'setosa', 'setosa', 'setosa', 'setosa', 'setosa', 'setosa', 'setosa', 'setosa', 'setosa', 'setosa', 'setosa', 'setosa', 'setosa', 'setosa', 'setosa', 'setosa', 'setosa', 'setosa', 'setosa', 'setosa', 'setosa', 'setosa', 'setosa', 'setosa', 'setosa', 'setosa', 'setosa', 'setosa', 'setosa', 'setosa', 'setosa', 'setosa', 'setosa', 'setosa', 'setosa', 'setosa', 'setosa', 'setosa', 'setosa', 'versicolor', 'versicolor', 'versicolor', 'versicolor', 'versicolor', 'versicolor', 'versicolor', 'versicolor', 'versicolor', 'versicolor', 'versicolor', 'versicolor', 'versicolor', 'versicolor', 'versicolor', 'versicolor', 'versicolor', 'versicolor', 'versicolor', 'versicolor', 'versicolor', 'versicolor', 'versicolor', 'versicolor', 'versicolor', 'versicolor', 'versicolor', 'versicolor', 'versicolor', 'versicolor', 'versicolor', 'versicolor', 'versicolor', 'versicolor', 'versicolor', 'versicolor', 'versicolor', 'versicolor', 'versicolor', 'versicolor', 'versicolor', 'versicolor', 'versicolor', 'versicolor', 'versicolor', 'versicolor', 'versicolor', 'versicolor', 'versicolor', 'versicolor', 'virginica', 'virginica', 'virginica', 'virginica', 'virginica', 'virginica', 'virginica', 'virginica', 'virginica', 'virginica', 'virginica', 'virginica', 'virginica', 'virginica', 'virginica', 'virginica', 'virginica', 'virginica', 'virginica', 'virginica', 'virginica', 'virginica', 'virginica', 'virginica', 'virginica', 'virginica', 'virginica', 'virginica', 'virginica', 'virginica', 'virginica', 'virginica', 'virginica', 'virginica', 'virginica', 'virginica', 'virginica', 'virginica', 'virginica', 'virginica', 'virginica', 'virginica', 'virginica', 'virginica', 'virginica', 'virginica', 'virginica', 'virginica', 'virginica', 'virginica']\n"
     ]
    }
   ],
   "source": [
    "X = iris.data\n",
    "y =iris.target\n",
    "print(y)\n",
    "species_names = [target_names[i] for i in y]\n",
    "print(species_names)\n",
    "y_df=pd.DataFrame(species_names)"
   ]
  },
  {
   "cell_type": "markdown",
   "id": "6368fa14",
   "metadata": {},
   "source": [
    "From the above method we have mapped the values 0 to setosa, 1 to versicolor and 2 to virginica"
   ]
  },
  {
   "cell_type": "code",
   "execution_count": 5,
   "id": "2eaf5e29",
   "metadata": {},
   "outputs": [
    {
     "data": {
      "text/plain": [
       "'.. _iris_dataset:\\n\\nIris plants dataset\\n--------------------\\n\\n**Data Set Characteristics:**\\n\\n    :Number of Instances: 150 (50 in each of three classes)\\n    :Number of Attributes: 4 numeric, predictive attributes and the class\\n    :Attribute Information:\\n        - sepal length in cm\\n        - sepal width in cm\\n        - petal length in cm\\n        - petal width in cm\\n        - class:\\n                - Iris-Setosa\\n                - Iris-Versicolour\\n                - Iris-Virginica\\n                \\n    :Summary Statistics:\\n\\n    ============== ==== ==== ======= ===== ====================\\n                    Min  Max   Mean    SD   Class Correlation\\n    ============== ==== ==== ======= ===== ====================\\n    sepal length:   4.3  7.9   5.84   0.83    0.7826\\n    sepal width:    2.0  4.4   3.05   0.43   -0.4194\\n    petal length:   1.0  6.9   3.76   1.76    0.9490  (high!)\\n    petal width:    0.1  2.5   1.20   0.76    0.9565  (high!)\\n    ============== ==== ==== ======= ===== ====================\\n\\n    :Missing Attribute Values: None\\n    :Class Distribution: 33.3% for each of 3 classes.\\n    :Creator: R.A. Fisher\\n    :Donor: Michael Marshall (MARSHALL%PLU@io.arc.nasa.gov)\\n    :Date: July, 1988\\n\\nThe famous Iris database, first used by Sir R.A. Fisher. The dataset is taken\\nfrom Fisher\\'s paper. Note that it\\'s the same as in R, but not as in the UCI\\nMachine Learning Repository, which has two wrong data points.\\n\\nThis is perhaps the best known database to be found in the\\npattern recognition literature.  Fisher\\'s paper is a classic in the field and\\nis referenced frequently to this day.  (See Duda & Hart, for example.)  The\\ndata set contains 3 classes of 50 instances each, where each class refers to a\\ntype of iris plant.  One class is linearly separable from the other 2; the\\nlatter are NOT linearly separable from each other.\\n\\n.. topic:: References\\n\\n   - Fisher, R.A. \"The use of multiple measurements in taxonomic problems\"\\n     Annual Eugenics, 7, Part II, 179-188 (1936); also in \"Contributions to\\n     Mathematical Statistics\" (John Wiley, NY, 1950).\\n   - Duda, R.O., & Hart, P.E. (1973) Pattern Classification and Scene Analysis.\\n     (Q327.D83) John Wiley & Sons.  ISBN 0-471-22361-1.  See page 218.\\n   - Dasarathy, B.V. (1980) \"Nosing Around the Neighborhood: A New System\\n     Structure and Classification Rule for Recognition in Partially Exposed\\n     Environments\".  IEEE Transactions on Pattern Analysis and Machine\\n     Intelligence, Vol. PAMI-2, No. 1, 67-71.\\n   - Gates, G.W. (1972) \"The Reduced Nearest Neighbor Rule\".  IEEE Transactions\\n     on Information Theory, May 1972, 431-433.\\n   - See also: 1988 MLC Proceedings, 54-64.  Cheeseman et al\"s AUTOCLASS II\\n     conceptual clustering system finds 3 classes in the data.\\n   - Many, many more ...'"
      ]
     },
     "execution_count": 5,
     "metadata": {},
     "output_type": "execute_result"
    }
   ],
   "source": [
    "iris.DESCR"
   ]
  },
  {
   "cell_type": "code",
   "execution_count": 6,
   "id": "c48edbf7",
   "metadata": {},
   "outputs": [
    {
     "data": {
      "text/plain": [
       "['sepal length (cm)',\n",
       " 'sepal width (cm)',\n",
       " 'petal length (cm)',\n",
       " 'petal width (cm)']"
      ]
     },
     "execution_count": 6,
     "metadata": {},
     "output_type": "execute_result"
    }
   ],
   "source": [
    "iris.feature_names"
   ]
  },
  {
   "cell_type": "code",
   "execution_count": 7,
   "id": "d3d46e5d",
   "metadata": {},
   "outputs": [
    {
     "data": {
      "text/plain": [
       "array(['setosa', 'versicolor', 'virginica'], dtype='<U10')"
      ]
     },
     "execution_count": 7,
     "metadata": {},
     "output_type": "execute_result"
    }
   ],
   "source": [
    "iris.target_names"
   ]
  },
  {
   "cell_type": "code",
   "execution_count": 8,
   "id": "54ed8dc8",
   "metadata": {},
   "outputs": [
    {
     "data": {
      "text/html": [
       "<div>\n",
       "<style scoped>\n",
       "    .dataframe tbody tr th:only-of-type {\n",
       "        vertical-align: middle;\n",
       "    }\n",
       "\n",
       "    .dataframe tbody tr th {\n",
       "        vertical-align: top;\n",
       "    }\n",
       "\n",
       "    .dataframe thead th {\n",
       "        text-align: right;\n",
       "    }\n",
       "</style>\n",
       "<table border=\"1\" class=\"dataframe\">\n",
       "  <thead>\n",
       "    <tr style=\"text-align: right;\">\n",
       "      <th></th>\n",
       "      <th>0</th>\n",
       "      <th>1</th>\n",
       "      <th>2</th>\n",
       "      <th>3</th>\n",
       "    </tr>\n",
       "  </thead>\n",
       "  <tbody>\n",
       "    <tr>\n",
       "      <th>0</th>\n",
       "      <td>5.1</td>\n",
       "      <td>3.5</td>\n",
       "      <td>1.4</td>\n",
       "      <td>0.2</td>\n",
       "    </tr>\n",
       "    <tr>\n",
       "      <th>1</th>\n",
       "      <td>4.9</td>\n",
       "      <td>3.0</td>\n",
       "      <td>1.4</td>\n",
       "      <td>0.2</td>\n",
       "    </tr>\n",
       "    <tr>\n",
       "      <th>2</th>\n",
       "      <td>4.7</td>\n",
       "      <td>3.2</td>\n",
       "      <td>1.3</td>\n",
       "      <td>0.2</td>\n",
       "    </tr>\n",
       "    <tr>\n",
       "      <th>3</th>\n",
       "      <td>4.6</td>\n",
       "      <td>3.1</td>\n",
       "      <td>1.5</td>\n",
       "      <td>0.2</td>\n",
       "    </tr>\n",
       "    <tr>\n",
       "      <th>4</th>\n",
       "      <td>5.0</td>\n",
       "      <td>3.6</td>\n",
       "      <td>1.4</td>\n",
       "      <td>0.2</td>\n",
       "    </tr>\n",
       "  </tbody>\n",
       "</table>\n",
       "</div>"
      ],
      "text/plain": [
       "     0    1    2    3\n",
       "0  5.1  3.5  1.4  0.2\n",
       "1  4.9  3.0  1.4  0.2\n",
       "2  4.7  3.2  1.3  0.2\n",
       "3  4.6  3.1  1.5  0.2\n",
       "4  5.0  3.6  1.4  0.2"
      ]
     },
     "execution_count": 8,
     "metadata": {},
     "output_type": "execute_result"
    }
   ],
   "source": [
    "pd.DataFrame(X).head()"
   ]
  },
  {
   "cell_type": "code",
   "execution_count": 9,
   "id": "0256ae41",
   "metadata": {},
   "outputs": [
    {
     "name": "stdout",
     "output_type": "stream",
     "text": [
      "<class 'pandas.core.frame.DataFrame'>\n",
      "RangeIndex: 150 entries, 0 to 149\n",
      "Data columns (total 4 columns):\n",
      " #   Column  Non-Null Count  Dtype  \n",
      "---  ------  --------------  -----  \n",
      " 0   0       150 non-null    float64\n",
      " 1   1       150 non-null    float64\n",
      " 2   2       150 non-null    float64\n",
      " 3   3       150 non-null    float64\n",
      "dtypes: float64(4)\n",
      "memory usage: 4.8 KB\n"
     ]
    }
   ],
   "source": [
    "(pd.DataFrame(X)).info()"
   ]
  },
  {
   "cell_type": "code",
   "execution_count": 10,
   "id": "bf251256",
   "metadata": {},
   "outputs": [
    {
     "data": {
      "text/html": [
       "<div>\n",
       "<style scoped>\n",
       "    .dataframe tbody tr th:only-of-type {\n",
       "        vertical-align: middle;\n",
       "    }\n",
       "\n",
       "    .dataframe tbody tr th {\n",
       "        vertical-align: top;\n",
       "    }\n",
       "\n",
       "    .dataframe thead th {\n",
       "        text-align: right;\n",
       "    }\n",
       "</style>\n",
       "<table border=\"1\" class=\"dataframe\">\n",
       "  <thead>\n",
       "    <tr style=\"text-align: right;\">\n",
       "      <th></th>\n",
       "      <th>0</th>\n",
       "      <th>1</th>\n",
       "      <th>2</th>\n",
       "      <th>3</th>\n",
       "    </tr>\n",
       "  </thead>\n",
       "  <tbody>\n",
       "    <tr>\n",
       "      <th>count</th>\n",
       "      <td>150.000000</td>\n",
       "      <td>150.000000</td>\n",
       "      <td>150.000000</td>\n",
       "      <td>150.000000</td>\n",
       "    </tr>\n",
       "    <tr>\n",
       "      <th>mean</th>\n",
       "      <td>5.843333</td>\n",
       "      <td>3.057333</td>\n",
       "      <td>3.758000</td>\n",
       "      <td>1.199333</td>\n",
       "    </tr>\n",
       "    <tr>\n",
       "      <th>std</th>\n",
       "      <td>0.828066</td>\n",
       "      <td>0.435866</td>\n",
       "      <td>1.765298</td>\n",
       "      <td>0.762238</td>\n",
       "    </tr>\n",
       "    <tr>\n",
       "      <th>min</th>\n",
       "      <td>4.300000</td>\n",
       "      <td>2.000000</td>\n",
       "      <td>1.000000</td>\n",
       "      <td>0.100000</td>\n",
       "    </tr>\n",
       "    <tr>\n",
       "      <th>25%</th>\n",
       "      <td>5.100000</td>\n",
       "      <td>2.800000</td>\n",
       "      <td>1.600000</td>\n",
       "      <td>0.300000</td>\n",
       "    </tr>\n",
       "    <tr>\n",
       "      <th>50%</th>\n",
       "      <td>5.800000</td>\n",
       "      <td>3.000000</td>\n",
       "      <td>4.350000</td>\n",
       "      <td>1.300000</td>\n",
       "    </tr>\n",
       "    <tr>\n",
       "      <th>75%</th>\n",
       "      <td>6.400000</td>\n",
       "      <td>3.300000</td>\n",
       "      <td>5.100000</td>\n",
       "      <td>1.800000</td>\n",
       "    </tr>\n",
       "    <tr>\n",
       "      <th>max</th>\n",
       "      <td>7.900000</td>\n",
       "      <td>4.400000</td>\n",
       "      <td>6.900000</td>\n",
       "      <td>2.500000</td>\n",
       "    </tr>\n",
       "  </tbody>\n",
       "</table>\n",
       "</div>"
      ],
      "text/plain": [
       "                0           1           2           3\n",
       "count  150.000000  150.000000  150.000000  150.000000\n",
       "mean     5.843333    3.057333    3.758000    1.199333\n",
       "std      0.828066    0.435866    1.765298    0.762238\n",
       "min      4.300000    2.000000    1.000000    0.100000\n",
       "25%      5.100000    2.800000    1.600000    0.300000\n",
       "50%      5.800000    3.000000    4.350000    1.300000\n",
       "75%      6.400000    3.300000    5.100000    1.800000\n",
       "max      7.900000    4.400000    6.900000    2.500000"
      ]
     },
     "execution_count": 10,
     "metadata": {},
     "output_type": "execute_result"
    }
   ],
   "source": [
    "pd.DataFrame(X).describe()"
   ]
  },
  {
   "cell_type": "markdown",
   "id": "2fac99e5",
   "metadata": {},
   "source": [
    "We have created dataframe for data"
   ]
  },
  {
   "cell_type": "code",
   "execution_count": 11,
   "id": "7f5cb770",
   "metadata": {},
   "outputs": [],
   "source": [
    "df_x = pd.DataFrame(X)\n",
    "df_x.columns = ['SL', 'SW', \"PL\",\"PW\"]"
   ]
  },
  {
   "cell_type": "code",
   "execution_count": 12,
   "id": "0982a8c6",
   "metadata": {},
   "outputs": [
    {
     "data": {
      "text/html": [
       "<div>\n",
       "<style scoped>\n",
       "    .dataframe tbody tr th:only-of-type {\n",
       "        vertical-align: middle;\n",
       "    }\n",
       "\n",
       "    .dataframe tbody tr th {\n",
       "        vertical-align: top;\n",
       "    }\n",
       "\n",
       "    .dataframe thead th {\n",
       "        text-align: right;\n",
       "    }\n",
       "</style>\n",
       "<table border=\"1\" class=\"dataframe\">\n",
       "  <thead>\n",
       "    <tr style=\"text-align: right;\">\n",
       "      <th></th>\n",
       "      <th>SL</th>\n",
       "      <th>SW</th>\n",
       "      <th>PL</th>\n",
       "      <th>PW</th>\n",
       "    </tr>\n",
       "  </thead>\n",
       "  <tbody>\n",
       "    <tr>\n",
       "      <th>count</th>\n",
       "      <td>150.000000</td>\n",
       "      <td>150.000000</td>\n",
       "      <td>150.000000</td>\n",
       "      <td>150.000000</td>\n",
       "    </tr>\n",
       "    <tr>\n",
       "      <th>mean</th>\n",
       "      <td>5.843333</td>\n",
       "      <td>3.057333</td>\n",
       "      <td>3.758000</td>\n",
       "      <td>1.199333</td>\n",
       "    </tr>\n",
       "    <tr>\n",
       "      <th>std</th>\n",
       "      <td>0.828066</td>\n",
       "      <td>0.435866</td>\n",
       "      <td>1.765298</td>\n",
       "      <td>0.762238</td>\n",
       "    </tr>\n",
       "    <tr>\n",
       "      <th>min</th>\n",
       "      <td>4.300000</td>\n",
       "      <td>2.000000</td>\n",
       "      <td>1.000000</td>\n",
       "      <td>0.100000</td>\n",
       "    </tr>\n",
       "    <tr>\n",
       "      <th>25%</th>\n",
       "      <td>5.100000</td>\n",
       "      <td>2.800000</td>\n",
       "      <td>1.600000</td>\n",
       "      <td>0.300000</td>\n",
       "    </tr>\n",
       "    <tr>\n",
       "      <th>50%</th>\n",
       "      <td>5.800000</td>\n",
       "      <td>3.000000</td>\n",
       "      <td>4.350000</td>\n",
       "      <td>1.300000</td>\n",
       "    </tr>\n",
       "    <tr>\n",
       "      <th>75%</th>\n",
       "      <td>6.400000</td>\n",
       "      <td>3.300000</td>\n",
       "      <td>5.100000</td>\n",
       "      <td>1.800000</td>\n",
       "    </tr>\n",
       "    <tr>\n",
       "      <th>max</th>\n",
       "      <td>7.900000</td>\n",
       "      <td>4.400000</td>\n",
       "      <td>6.900000</td>\n",
       "      <td>2.500000</td>\n",
       "    </tr>\n",
       "  </tbody>\n",
       "</table>\n",
       "</div>"
      ],
      "text/plain": [
       "               SL          SW          PL          PW\n",
       "count  150.000000  150.000000  150.000000  150.000000\n",
       "mean     5.843333    3.057333    3.758000    1.199333\n",
       "std      0.828066    0.435866    1.765298    0.762238\n",
       "min      4.300000    2.000000    1.000000    0.100000\n",
       "25%      5.100000    2.800000    1.600000    0.300000\n",
       "50%      5.800000    3.000000    4.350000    1.300000\n",
       "75%      6.400000    3.300000    5.100000    1.800000\n",
       "max      7.900000    4.400000    6.900000    2.500000"
      ]
     },
     "execution_count": 12,
     "metadata": {},
     "output_type": "execute_result"
    }
   ],
   "source": [
    "df_x.describe()"
   ]
  },
  {
   "cell_type": "code",
   "execution_count": 13,
   "id": "a0410da4",
   "metadata": {},
   "outputs": [
    {
     "data": {
      "text/plain": [
       "0    0\n",
       "1    0\n",
       "2    0\n",
       "3    0\n",
       "dtype: int64"
      ]
     },
     "execution_count": 13,
     "metadata": {},
     "output_type": "execute_result"
    }
   ],
   "source": [
    "pd.DataFrame(X).isnull().sum()"
   ]
  },
  {
   "cell_type": "code",
   "execution_count": 14,
   "id": "46aafa3b",
   "metadata": {},
   "outputs": [
    {
     "name": "stdout",
     "output_type": "stream",
     "text": [
      "(150, 4)\n",
      "    SL   SW   PL   PW\n",
      "0  5.1  3.5  1.4  0.2\n",
      "1  4.9  3.0  1.4  0.2\n",
      "2  4.7  3.2  1.3  0.2\n"
     ]
    }
   ],
   "source": [
    "X_train=df_x\n",
    "print(X_train.shape)\n",
    "print(X_train.head(3))"
   ]
  },
  {
   "cell_type": "markdown",
   "id": "7f3410ff",
   "metadata": {},
   "source": [
    "We have provided iris.data dataframe to X_train"
   ]
  },
  {
   "cell_type": "code",
   "execution_count": 15,
   "id": "2f8f26a8",
   "metadata": {},
   "outputs": [
    {
     "name": "stdout",
     "output_type": "stream",
     "text": [
      "[0 0 0 0 0 0 0 0 0 0 0 0 0 0 0 0 0 0 0 0 0 0 0 0 0 0 0 0 0 0 0 0 0 0 0 0 0\n",
      " 0 0 0 0 0 0 0 0 0 0 0 0 0 1 1 1 1 1 1 1 1 1 1 1 1 1 1 1 1 1 1 1 1 1 1 1 1\n",
      " 1 1 1 1 1 1 1 1 1 1 1 1 1 1 1 1 1 1 1 1 1 1 1 1 1 1 2 2 2 2 2 2 2 2 2 2 2\n",
      " 2 2 2 2 2 2 2 2 2 2 2 2 2 2 2 2 2 2 2 2 2 2 2 2 2 2 2 2 2 2 2 2 2 2 2 2 2\n",
      " 2 2]\n"
     ]
    }
   ],
   "source": [
    "y_train=y\n",
    "print(y_train)"
   ]
  },
  {
   "cell_type": "markdown",
   "id": "577f0d30",
   "metadata": {},
   "source": [
    "We have provided iris.target array to y_train"
   ]
  },
  {
   "cell_type": "code",
   "execution_count": 16,
   "id": "bfb6754b",
   "metadata": {},
   "outputs": [],
   "source": [
    "count=pd.DataFrame(y_train).value_counts()\n",
    "sum=pd.DataFrame(y_train).value_counts().sum()\n",
    "priori_probability_of_setosa=count[0]/sum\n",
    "priori_probability_of_versicolor=count[1]/sum\n",
    "priori_probability_of_virginica=count[2]/sum\n",
    "#print(priori_probability_of_setosa)"
   ]
  },
  {
   "cell_type": "markdown",
   "id": "8c10e097",
   "metadata": {},
   "source": [
    "Above we have Calculated priori probability for given class labels"
   ]
  },
  {
   "cell_type": "markdown",
   "id": "d2331a14",
   "metadata": {},
   "source": [
    "We need to calculate the mean and standard deviation of setosa,versicolor and virginica for each input sepal_length,sepal_width,petal_length,petal_width based on the training data. We need to do this to calculate conditional probability of each class"
   ]
  },
  {
   "cell_type": "code",
   "execution_count": 35,
   "id": "0c4436e4",
   "metadata": {},
   "outputs": [
    {
     "name": "stdout",
     "output_type": "stream",
     "text": [
      "The mean for various features given the class is Setosa is:\n",
      " sepal length (cm)    5.006\n",
      "sepal width (cm)     3.428\n",
      "petal length (cm)    1.462\n",
      "petal width (cm)     0.246\n",
      "dtype: float64\n",
      "The standard deviation for various features given the class is Setosa is:\n",
      " sepal length (cm)    0.352490\n",
      "sepal width (cm)     0.379064\n",
      "petal length (cm)    0.173664\n",
      "petal width (cm)     0.105386\n",
      "dtype: float64\n",
      "The mean for various features given the class is Versicolor is:\n",
      " sepal length (cm)    5.936\n",
      "sepal width (cm)     2.770\n",
      "petal length (cm)    4.260\n",
      "petal width (cm)     1.326\n",
      "dtype: float64\n",
      "The standard deviation for various features given the class is Versicolor is:\n",
      " sepal length (cm)    0.516171\n",
      "sepal width (cm)     0.313798\n",
      "petal length (cm)    0.469911\n",
      "petal width (cm)     0.197753\n",
      "dtype: float64\n",
      "The mean for various features given the class is Virginica is:\n",
      " sepal length (cm)    6.588\n",
      "sepal width (cm)     2.974\n",
      "petal length (cm)    5.552\n",
      "petal width (cm)     2.026\n",
      "dtype: float64\n",
      "The standard deviation for various features given the class is Virginica is:\n",
      " sepal length (cm)    0.635880\n",
      "sepal width (cm)     0.322497\n",
      "petal length (cm)    0.551895\n",
      "petal width (cm)     0.274650\n",
      "dtype: float64\n"
     ]
    }
   ],
   "source": [
    "setosa_data = iris_df[iris_df['target'] == 0]\n",
    "setosa_data_mean=setosa_data.iloc[:,0:4].mean()\n",
    "setosa_data_std=setosa_data.iloc[:,0:4].std()\n",
    "print(\"The mean for various features given the class is Setosa is:\\n\",setosa_data_mean)\n",
    "print(\"The standard deviation for various features given the class is Setosa is:\\n\",setosa_data_std)\n",
    "\n",
    "versicolor_data = iris_df[iris_df['target']==1]\n",
    "versicolor_data_mean=versicolor_data.iloc[:,0:4].mean()\n",
    "versicolor_data_std=versicolor_data.iloc[:,0:4].std()\n",
    "print(\"The mean for various features given the class is Versicolor is:\\n\",versicolor_data_mean)\n",
    "print(\"The standard deviation for various features given the class is Versicolor is:\\n\",versicolor_data_std)\n",
    "\n",
    "virginica_data = iris_df[iris_df['target'] == 2]\n",
    "virginica_data_mean=virginica_data.iloc[:,0:4].mean()\n",
    "virginica_data_std=virginica_data.iloc[:,0:4].std()\n",
    "print(\"The mean for various features given the class is Virginica is:\\n\",virginica_data_mean)\n",
    "print(\"The standard deviation for various features given the class is Virginica is:\\n\",virginica_data_std)"
   ]
  },
  {
   "cell_type": "markdown",
   "id": "8b265cd1",
   "metadata": {},
   "source": [
    "Calculate conditional probability with each attributes for each class"
   ]
  },
  {
   "cell_type": "code",
   "execution_count": 36,
   "id": "4e5247b4",
   "metadata": {},
   "outputs": [
    {
     "name": "stdout",
     "output_type": "stream",
     "text": [
      "For observation [4.5 3.  5.6 2.1] \n",
      "\n",
      "Probability of various features given setosa :\n",
      "\n",
      "P(Sepal_length|Setosa) 0.40391975890792015\n",
      "P(Sepal_Width|Setosa) 0.5563720880377238\n",
      "P(Petal_Length|Setosa) 1.1875405242367555e-123\n",
      "P(Petal_Width|Setosa) 2.353004600837859e-67\n",
      "The Setosa class conditional probability is: 6.279595184135966e-191\n",
      "\n",
      "\n",
      "Probability of various features given versicolor:\n",
      "\n",
      "P(Sepal_length|Versicolor) 0.016123980956471266\n",
      "P(Sepal_Width|Versicolor) 0.9718584132539115\n",
      "P(Petal_Length|Versicolor) 0.0145589541130253\n",
      "P(Petal_Width|Versicolor 0.0009511683841995661\n",
      "The Versicolor class conditional probability is: 2.170015614218387e-07\n",
      "\n",
      "\n",
      "Probability of various features given virginica:\n",
      "\n",
      "P(Sepal_length|Virginica) 0.00285883802442595\n",
      "P(Sepal_Width|Virginica) 1.2330295149586665\n",
      "P(Petal_Length|Virginica) 0.7201306142015773\n",
      "P(Petal_Width|Virginica 1.400769467292069\n",
      "The Virginica class conditional probability is: 0.0035558297825851377\n",
      "\n",
      "\n",
      "After multiplying priori probability with probability obtained for each class we get\n",
      "The setosa class probability is: posterior(Setosa)=  2.0931983947119886e-191\n",
      "The versicolor class probability is: posterior(Versicolor)= 7.233385380727956e-08\n",
      "The virginica class probability is: posterior(Virginica)= 0.001185276594195046\n",
      "\n",
      "\n",
      "For observation [5.4 2.6 4.5 0. ] \n",
      "\n",
      "Probability of various features given setosa :\n",
      "\n",
      "P(Sepal_length|Setosa) 0.6059838743901511\n",
      "P(Sepal_Width|Setosa) 0.09685614755749451\n",
      "P(Petal_Length|Setosa) 8.107018903829578e-67\n",
      "P(Petal_Width|Setosa) 0.24826653370746374\n",
      "The Setosa class conditional probability is: 1.1813201853869787e-68\n",
      "\n",
      "\n",
      "Probability of various features given versicolor:\n",
      "\n",
      "P(Sepal_length|Versicolor) 0.45078048861113157\n",
      "P(Sepal_Width|Versicolor) 1.0978131268374147\n",
      "P(Petal_Length|Versicolor) 0.7451634717606432\n",
      "P(Petal_Width|Versicolor 3.479271166335914e-10\n",
      "The Versicolor class conditional probability is: 1.2830198183747895e-10\n",
      "\n",
      "\n",
      "Probability of various features given virginica:\n",
      "\n",
      "P(Sepal_length|Virginica) 0.10954451854991006\n",
      "P(Sepal_Width|Virginica) 0.6314538979435028\n",
      "P(Petal_Length|Virginica) 0.1175061164578375\n",
      "P(Petal_Width|Virginica 2.218399199434649e-12\n",
      "The Virginica class conditional probability is: 1.8031525587599463e-14\n",
      "\n",
      "\n",
      "After multiplying priori probability with probability obtained for each class we get\n",
      "The setosa class probability is: posterior(Setosa)=  3.937733951289929e-69\n",
      "The versicolor class probability is: posterior(Versicolor)= 4.2767327279159646e-11\n",
      "The virginica class probability is: posterior(Virginica)= 6.010508529199821e-15\n",
      "\n",
      "\n"
     ]
    }
   ],
   "source": [
    "observations = np.array([[4.5, 3.0, 5.6, 2.1], [5.4, 2.6, 4.5, 0.0]])\n",
    "data_setosa=[\"P(Sepal_length|Setosa)\",\"P(Sepal_Width|Setosa)\",\"P(Petal_Length|Setosa)\",\"P(Petal_Width|Setosa)\"]\n",
    "data_versicolor=[\"P(Sepal_length|Versicolor)\",\"P(Sepal_Width|Versicolor)\",\"P(Petal_Length|Versicolor)\",\"P(Petal_Width|Versicolor\"]\n",
    "data_virginica=[\"P(Sepal_length|Virginica)\",\"P(Sepal_Width|Virginica)\",\"P(Petal_Length|Virginica)\",\"P(Petal_Width|Virginica\"]\n",
    "\n",
    "\n",
    "for obs in observations:\n",
    "    product_probability_setosa = 1.0\n",
    "    product_probability_versicolor = 1.0\n",
    "    product_probability_virginica=1.0\n",
    "    print(\"For observation\",obs,\"\\n\")\n",
    "    print(\"Probability of various features given setosa :\\n\")\n",
    "    for i in range(0,4):\n",
    "         probability_setosa=(1 / (math.sqrt(2 * math.pi) * setosa_data_std[i])) * math.exp(-(obs[i] - setosa_data_mean[i]) ** 2 / (2 * setosa_data_std[i]**2))\n",
    "         print(data_setosa[i],probability_setosa)\n",
    "         product_probability_setosa *= probability_setosa\n",
    "    print(\"The Setosa class conditional probability is:\",product_probability_setosa)        \n",
    "    print(\"\\n\")      \n",
    "    print(\"Probability of various features given versicolor:\\n\")\n",
    "    for i in range(0,4):         \n",
    "         probability_versicolor=(1 / (math.sqrt(2 * math.pi) * versicolor_data_std[i])) * math.exp(-(obs[i] - versicolor_data_mean[i]) ** 2 / (2 * versicolor_data_std[i] ** 2))\n",
    "         print(data_versicolor[i],probability_versicolor)  \n",
    "         product_probability_versicolor*=probability_versicolor\n",
    "    print(\"The Versicolor class conditional probability is:\",product_probability_versicolor) \n",
    "    print(\"\\n\")\n",
    "    print(\"Probability of various features given virginica:\\n\")\n",
    "    for i in range(0,4):\n",
    "        probability_virginica = (1 / (math.sqrt(2 * math.pi) * virginica_data_std[i])) * math.exp(-(obs[i] - virginica_data_mean[i]) ** 2 / (2 * virginica_data_std[i] ** 2))\n",
    "        print(data_virginica[i],probability_virginica) \n",
    "        product_probability_virginica*=probability_virginica\n",
    "    print(\"The Virginica class conditional probability is:\",product_probability_virginica) \n",
    "    print(\"\\n\")\n",
    "    print(\"After multiplying priori probability with probability obtained for each class we get\")\n",
    "    print(\"The setosa class probability is:\",\"posterior(Setosa)= \",priori_probability_of_setosa*product_probability_setosa)\n",
    "    print(\"The versicolor class probability is:\",\"posterior(Versicolor)=\",priori_probability_of_versicolor*product_probability_versicolor)\n",
    "    print(\"The virginica class probability is:\",\"posterior(Virginica)=\",priori_probability_of_virginica*product_probability_virginica)\n",
    "    print(\"\\n\")"
   ]
  },
  {
   "cell_type": "markdown",
   "id": "52412db8",
   "metadata": {},
   "source": [
    "Above we have Multiplied the same class conditional probability and we have multiplied priori probability with conditional probability obtained for each class.From the above we can see that for first observation the output is virginica as virginica class has the highest probability and for the second observation the output is versicolor as the versicolor class has the highest probability\n"
   ]
  },
  {
   "cell_type": "code",
   "execution_count": 19,
   "id": "887adcef",
   "metadata": {},
   "outputs": [],
   "source": [
    "# training a Naive Bayes classifier \n",
    "from sklearn.naive_bayes import GaussianNB\n",
    "from sklearn.metrics import accuracy_score,confusion_matrix,classification_report\n",
    "gnb_model = GaussianNB().fit(X_train, y_train) "
   ]
  },
  {
   "cell_type": "markdown",
   "id": "53268b0a",
   "metadata": {},
   "source": [
    "We have used naive bayes model to fit the training data"
   ]
  },
  {
   "cell_type": "code",
   "execution_count": 20,
   "id": "5c232c0e",
   "metadata": {},
   "outputs": [
    {
     "name": "stdout",
     "output_type": "stream",
     "text": [
      "[2 1]\n",
      "['virginica', 'versicolor']\n"
     ]
    }
   ],
   "source": [
    "X_test=pd.DataFrame([[4.5,3.0,5.6,2.1],[5.4,2.6,4.5,0.0]],columns=['SL', 'SW', \"PL\",\"PW\"])\n",
    "y_pred_gnb = gnb_model.predict(X_test) \n",
    "y_pred_gnb\n",
    "print(y_pred_gnb)\n",
    "species_names = [target_names[i] for i in y_pred_gnb]\n",
    "print(species_names)"
   ]
  },
  {
   "cell_type": "markdown",
   "id": "8809ffb8",
   "metadata": {},
   "source": [
    "We have predicted the output for the 2 observations on the model. And we get virginica and versicolour as the output for the 2 observations on sepal length,sepal width,petal length and petal width [4.5,3.0,5.6,2.1],[5.4,2.6,4.5,0.0] respectively. This is what we had expected the output should be when we had calculated manually for both the observations."
   ]
  },
  {
   "cell_type": "markdown",
   "id": "8ed2f8b8",
   "metadata": {},
   "source": [
    "3) Consider the data of play tennis or not. Predict the output for the following cases.\n",
    "1. Outlook: Sunny, Temp: Hot, Humidity: High, Wind = Strong\n",
    "2. Outlook = Overcast, Temp = Mild, humidity = High, Wind = Strong\n",
    "Verify your answer with sklearn"
   ]
  },
  {
   "cell_type": "markdown",
   "id": "3382958a",
   "metadata": {},
   "source": [
    "Answer:\n",
    "--> 1st scenario: Outlook: Sunny, Temp: Hot, Humidity: High, Wind = Strong\n",
    "\n",
    "1)We will calculate priori probability for given class labels\n",
    "P(Play = yes) = 9/14, P(play = No) = 5/14\n",
    "\n",
    "2)Calculate conditional probability with each attributes for each class\n",
    "\n",
    "P(Outlook=Sunny|Play=Yes) = 2/9\n",
    "P(Temperature=Hot|Play=Yes) = 2/9\n",
    "P(Humidity=High|Play=Yes) = 3/9\n",
    "P(Wind=Strong|Play=Yes) = 3/9\n",
    "\n",
    "P(Outlook=Sunny|Play=No) = 3/5\n",
    "P(Temperature=Hot|Play==No) = 2/5\n",
    "P(Humidity=High|Play=No) = 4/5\n",
    "P(Wind=Strong|Play=No) = 3/5\n",
    "\n",
    "3)Multiply same class conditional probability and Multiply that with priori probability \n",
    "\n",
    "P(Yes|x ’): [P(Sunny|Yes)P(Hot|Yes)P(High|Yes)P(Strong|Yes)]P(Play=Yes) = (2/9)x(2/9)x(3/9)x(3/9)x(9/14)=0.003527\n",
    "\n",
    "P(No|x ’): [P(Sunny|No) P(Hot|No)P(High|No)P(Strong|No)]P(Play=No) = (3/5)x(2/5)x(4/5)x(3/5)x(5/14)=0.0421\n",
    "\n",
    "4)See which class has higher probability. Higher probability class belongs to given input set\n",
    "\n",
    "Given the fact P(Yes| x’) < P(No| x’), we label x’ to be “No”.\n",
    "\n",
    "So the output predicted for the first scenario is no that means we cannot play tennis\n",
    "\n",
    "\n",
    "\n",
    "\n",
    "\n",
    "--> 2nd scenario:Outlook = Overcast, Temp = Mild, humidity = High, Wind = Strong\n",
    "\n",
    "1)We will calculate priori probability for given class labels\n",
    "P(Play = yes) = 9/14, P(play = No) = 5/14\n",
    "\n",
    "2)Calculate conditional probability with each attributes for each class\n",
    "\n",
    "P(Outlook=Overcast|Play=Yes) = 4/9\n",
    "P(Temperature=Mild|Play=Yes) = 4/9\n",
    "P(Humidity=High|Play=Yes) = 3/9\n",
    "P(Wind=Strong|Play=Yes) = 3/9\n",
    "\n",
    "P(Outlook=Overcast|Play=No) = 0/5\n",
    "P(Temperature=Mild|Play==No) = 2/5\n",
    "P(Humidity=High|Play=No) = 4/5\n",
    "P(Wind=Strong|Play=No) = 3/5\n",
    "\n",
    "3)Multiply same class conditional probability and Multiply that with priori probability \n",
    "\n",
    "P(Yes|x ’):[P(Overcast|Yes)P(Mild|Yes)P(High|Yes)P(Strong|Yes)]P(Play=Yes)=(4/9)x(4/9)x(3/9)x(3/9)x(9/14)=0.01412\n",
    "\n",
    "P(No|x ’):[P(Overcast|No)P(Mild|No)P(High|No)P(Strong|No)]P(Play=No)= (0/5)x(2/5)x(4/5)x(3/5)x(5/14)=0.000\n",
    "\n",
    "4)See which class has higher probability. Higher probability class belongs to given input set\n",
    "\n",
    "Given the fact P(Yes| x’) > P(No| x’), we label x’ to be “Yes”.\n",
    "\n",
    "So the output predicted for the second scenario is yes that means we can play tennis\n",
    "\n",
    "\n"
   ]
  },
  {
   "cell_type": "markdown",
   "id": "d71a73b0",
   "metadata": {},
   "source": [
    "First we will store the given data as a tennis_data dataframe"
   ]
  },
  {
   "cell_type": "code",
   "execution_count": 21,
   "id": "3a5754f7",
   "metadata": {},
   "outputs": [],
   "source": [
    "tennis_data=pd.read_csv('tennis_data.csv')\n"
   ]
  },
  {
   "cell_type": "code",
   "execution_count": 22,
   "id": "f07af5cd",
   "metadata": {},
   "outputs": [
    {
     "data": {
      "text/html": [
       "<div>\n",
       "<style scoped>\n",
       "    .dataframe tbody tr th:only-of-type {\n",
       "        vertical-align: middle;\n",
       "    }\n",
       "\n",
       "    .dataframe tbody tr th {\n",
       "        vertical-align: top;\n",
       "    }\n",
       "\n",
       "    .dataframe thead th {\n",
       "        text-align: right;\n",
       "    }\n",
       "</style>\n",
       "<table border=\"1\" class=\"dataframe\">\n",
       "  <thead>\n",
       "    <tr style=\"text-align: right;\">\n",
       "      <th></th>\n",
       "      <th>Outlook</th>\n",
       "      <th>Temperature</th>\n",
       "      <th>Humidity</th>\n",
       "      <th>Wind</th>\n",
       "      <th>Play Tennis</th>\n",
       "    </tr>\n",
       "  </thead>\n",
       "  <tbody>\n",
       "    <tr>\n",
       "      <th>0</th>\n",
       "      <td>Sunny</td>\n",
       "      <td>Hot</td>\n",
       "      <td>High</td>\n",
       "      <td>Weak</td>\n",
       "      <td>No</td>\n",
       "    </tr>\n",
       "    <tr>\n",
       "      <th>1</th>\n",
       "      <td>Sunny</td>\n",
       "      <td>Hot</td>\n",
       "      <td>High</td>\n",
       "      <td>Strong</td>\n",
       "      <td>No</td>\n",
       "    </tr>\n",
       "    <tr>\n",
       "      <th>2</th>\n",
       "      <td>Overcast</td>\n",
       "      <td>Hot</td>\n",
       "      <td>High</td>\n",
       "      <td>Weak</td>\n",
       "      <td>Yes</td>\n",
       "    </tr>\n",
       "    <tr>\n",
       "      <th>3</th>\n",
       "      <td>Rainy</td>\n",
       "      <td>Mild</td>\n",
       "      <td>High</td>\n",
       "      <td>Weak</td>\n",
       "      <td>Yes</td>\n",
       "    </tr>\n",
       "    <tr>\n",
       "      <th>4</th>\n",
       "      <td>Rainy</td>\n",
       "      <td>Cool</td>\n",
       "      <td>Normal</td>\n",
       "      <td>Weak</td>\n",
       "      <td>Yes</td>\n",
       "    </tr>\n",
       "  </tbody>\n",
       "</table>\n",
       "</div>"
      ],
      "text/plain": [
       "    Outlook Temperature Humidity    Wind Play Tennis\n",
       "0     Sunny         Hot     High    Weak          No\n",
       "1     Sunny         Hot     High  Strong          No\n",
       "2  Overcast         Hot     High    Weak         Yes\n",
       "3     Rainy        Mild     High    Weak         Yes\n",
       "4     Rainy        Cool   Normal    Weak         Yes"
      ]
     },
     "execution_count": 22,
     "metadata": {},
     "output_type": "execute_result"
    }
   ],
   "source": [
    "tennis_data.head(5)"
   ]
  },
  {
   "cell_type": "markdown",
   "id": "5a9f8be2",
   "metadata": {},
   "source": [
    "Then the input data for which we have to predict the output we will store that as a tennis_test_data dataframe"
   ]
  },
  {
   "cell_type": "code",
   "execution_count": 23,
   "id": "9df0f6ec",
   "metadata": {},
   "outputs": [
    {
     "data": {
      "text/html": [
       "<div>\n",
       "<style scoped>\n",
       "    .dataframe tbody tr th:only-of-type {\n",
       "        vertical-align: middle;\n",
       "    }\n",
       "\n",
       "    .dataframe tbody tr th {\n",
       "        vertical-align: top;\n",
       "    }\n",
       "\n",
       "    .dataframe thead th {\n",
       "        text-align: right;\n",
       "    }\n",
       "</style>\n",
       "<table border=\"1\" class=\"dataframe\">\n",
       "  <thead>\n",
       "    <tr style=\"text-align: right;\">\n",
       "      <th></th>\n",
       "      <th>Outlook</th>\n",
       "      <th>Temperature</th>\n",
       "      <th>Humidity</th>\n",
       "      <th>Wind</th>\n",
       "    </tr>\n",
       "  </thead>\n",
       "  <tbody>\n",
       "    <tr>\n",
       "      <th>0</th>\n",
       "      <td>Sunny</td>\n",
       "      <td>Hot</td>\n",
       "      <td>High</td>\n",
       "      <td>Strong</td>\n",
       "    </tr>\n",
       "    <tr>\n",
       "      <th>1</th>\n",
       "      <td>Overcast</td>\n",
       "      <td>Mild</td>\n",
       "      <td>High</td>\n",
       "      <td>Strong</td>\n",
       "    </tr>\n",
       "  </tbody>\n",
       "</table>\n",
       "</div>"
      ],
      "text/plain": [
       "    Outlook Temperature Humidity    Wind\n",
       "0     Sunny         Hot     High  Strong\n",
       "1  Overcast        Mild     High  Strong"
      ]
     },
     "execution_count": 23,
     "metadata": {},
     "output_type": "execute_result"
    }
   ],
   "source": [
    "tennis_test_data=pd.DataFrame([['Sunny','Hot','High','Strong'],['Overcast','Mild','High','Strong']],columns = ['Outlook','Temperature', 'Humidity', 'Wind' ])\n",
    "tennis_test_data"
   ]
  },
  {
   "cell_type": "markdown",
   "id": "7d63d3f5",
   "metadata": {},
   "source": [
    "We will convert the string labels into numbers for all the columns for both training and test data"
   ]
  },
  {
   "cell_type": "code",
   "execution_count": 24,
   "id": "ff302778",
   "metadata": {},
   "outputs": [
    {
     "name": "stdout",
     "output_type": "stream",
     "text": [
      "Converting Training String labels into numbers\n",
      "Outlook: [2 2 0 1 1 1 0 2 2 1 2 0 0 1]\n",
      "Temp: [1 1 1 2 0 0 0 2 0 2 2 2 1 2]\n",
      "Humidity: [0 0 0 0 1 1 1 0 1 1 1 0 1 0]\n",
      "Wind: [1 0 1 1 1 0 0 1 1 1 0 0 1 0]\n",
      "Play: [0 0 1 1 1 0 1 0 1 1 1 1 1 0]\n",
      "\n",
      "\n",
      "Converting Test String labels into numbers\n",
      "Outlook_ Test: [1 0]\n",
      "Temperature Test: [0 1]\n",
      "Humidity Test: [0 0]\n",
      "Wind Test: [0 0]\n"
     ]
    }
   ],
   "source": [
    "# Import LabelEncoder\n",
    "from sklearn.preprocessing import LabelEncoder\n",
    "#creating labelEncoder\n",
    "le = LabelEncoder()\n",
    "# Converting string labels into numbers.\n",
    "print(\"Converting Training String labels into numbers\")\n",
    "outlook_encoded=le.fit_transform(tennis_data['Outlook'])\n",
    "print(\"Outlook:\", outlook_encoded)\n",
    "temp_encoded=le.fit_transform(tennis_data['Temperature'])\n",
    "print(\"Temp:\",temp_encoded)\n",
    "humidity_encoded=le.fit_transform(tennis_data['Humidity'])\n",
    "print(\"Humidity:\",humidity_encoded)\n",
    "wind_encoded=le.fit_transform(tennis_data['Wind'])\n",
    "print(\"Wind:\",wind_encoded)\n",
    "label=le.fit_transform(tennis_data['Play Tennis'])\n",
    "print(\"Play:\",label)\n",
    "print(\"\\n\")\n",
    "print(\"Converting Test String labels into numbers\")\n",
    "outlook_test_encoded=le.fit_transform(tennis_test_data['Outlook'])\n",
    "print(\"Outlook_ Test:\",outlook_test_encoded)\n",
    "temp_test_encoded=le.fit_transform(tennis_test_data['Temperature'])\n",
    "print(\"Temperature Test:\",temp_test_encoded)\n",
    "humidity_test_encoded=le.fit_transform(tennis_test_data['Humidity'])\n",
    "print(\"Humidity Test:\",humidity_test_encoded)\n",
    "wind_test_encoded=le.fit_transform(tennis_test_data['Wind'])\n",
    "print(\"Wind Test:\",wind_test_encoded)"
   ]
  },
  {
   "cell_type": "markdown",
   "id": "6db15c8c",
   "metadata": {},
   "source": [
    "Storing the encoded train data as X_train dataframe and encoded test data as X_test dataframe and storing encoded data play as y_train\n",
    "so for outlook 2 means Sunny, 0 means Overcast and 1 means rainy\n",
    "for temp 1 means hot,2 means mild and 0 means cool\n",
    "for humidity 0 means high and 1 means normal\n",
    "for wind 1 means weak and 0 means strong\n",
    "for play 0 means no and 1 means yes"
   ]
  },
  {
   "cell_type": "code",
   "execution_count": 25,
   "id": "f2da315b",
   "metadata": {},
   "outputs": [
    {
     "name": "stdout",
     "output_type": "stream",
     "text": [
      "[0 0 1 1 1 0 1 0 1 1 1 1 1 0]\n"
     ]
    },
    {
     "data": {
      "text/html": [
       "<div>\n",
       "<style scoped>\n",
       "    .dataframe tbody tr th:only-of-type {\n",
       "        vertical-align: middle;\n",
       "    }\n",
       "\n",
       "    .dataframe tbody tr th {\n",
       "        vertical-align: top;\n",
       "    }\n",
       "\n",
       "    .dataframe thead th {\n",
       "        text-align: right;\n",
       "    }\n",
       "</style>\n",
       "<table border=\"1\" class=\"dataframe\">\n",
       "  <thead>\n",
       "    <tr style=\"text-align: right;\">\n",
       "      <th></th>\n",
       "      <th>outlook</th>\n",
       "      <th>temp</th>\n",
       "      <th>humidity</th>\n",
       "      <th>wind</th>\n",
       "    </tr>\n",
       "  </thead>\n",
       "  <tbody>\n",
       "    <tr>\n",
       "      <th>0</th>\n",
       "      <td>1</td>\n",
       "      <td>0</td>\n",
       "      <td>0</td>\n",
       "      <td>0</td>\n",
       "    </tr>\n",
       "    <tr>\n",
       "      <th>1</th>\n",
       "      <td>0</td>\n",
       "      <td>1</td>\n",
       "      <td>0</td>\n",
       "      <td>0</td>\n",
       "    </tr>\n",
       "  </tbody>\n",
       "</table>\n",
       "</div>"
      ],
      "text/plain": [
       "   outlook  temp  humidity  wind\n",
       "0        1     0         0     0\n",
       "1        0     1         0     0"
      ]
     },
     "execution_count": 25,
     "metadata": {},
     "output_type": "execute_result"
    }
   ],
   "source": [
    "X_train=pd.DataFrame(zip(outlook_encoded,temp_encoded,humidity_encoded,wind_encoded),columns=['outlook', 'temp','humidity','wind'])\n",
    "X_train\n",
    "y_train=pd.DataFrame(label,columns=['play'])\n",
    "y_train=y_train.values.ravel()\n",
    "print(y_train)\n",
    "X_test=pd.DataFrame(zip(outlook_test_encoded,temp_test_encoded,humidity_test_encoded,wind_test_encoded),columns=['outlook','temp','humidity','wind'])\n",
    "X_test"
   ]
  },
  {
   "cell_type": "markdown",
   "id": "1c7c9ffa",
   "metadata": {},
   "source": [
    "Using Naive bayes model we fit the training data "
   ]
  },
  {
   "cell_type": "code",
   "execution_count": 26,
   "id": "97b66714",
   "metadata": {},
   "outputs": [
    {
     "data": {
      "text/plain": [
       "GaussianNB()"
      ]
     },
     "execution_count": 26,
     "metadata": {},
     "output_type": "execute_result"
    }
   ],
   "source": [
    "#Import Gaussian Naive Bayes model\n",
    "from sklearn.naive_bayes import GaussianNB\n",
    "\n",
    "#Create a Gaussian Classifier\n",
    "nb_model = GaussianNB()\n",
    "nb_model.fit(X_train,y_train)\n"
   ]
  },
  {
   "cell_type": "markdown",
   "id": "0b9c8c25",
   "metadata": {},
   "source": [
    "Then on the trained model we predict the output for test data"
   ]
  },
  {
   "cell_type": "code",
   "execution_count": 27,
   "id": "292a26d3",
   "metadata": {},
   "outputs": [
    {
     "name": "stdout",
     "output_type": "stream",
     "text": [
      "[0 1]\n",
      "  Play_tennis\n",
      "0          No\n",
      "1         Yes\n"
     ]
    }
   ],
   "source": [
    "y_pred = nb_model.predict(X_test)\n",
    "print(y_pred)\n",
    "y_pred_df=pd.DataFrame(y_pred,columns=[\"Play_tennis\"])\n",
    "y_pred_df=y_pred_df.replace({0:'No',1:'Yes'})\n",
    "print(y_pred_df)"
   ]
  },
  {
   "cell_type": "markdown",
   "id": "7e27508a",
   "metadata": {},
   "source": [
    "As predicted above for the first scenario we got values as 0 which indicates the output is no which means we cannot play tennis and for the second scenario the output is 1 which means we can play tennis and that's what we had predicted when we had checked the class with higher probability for first and second scenarios by calculating."
   ]
  },
  {
   "cell_type": "code",
   "execution_count": null,
   "id": "b84550a6",
   "metadata": {},
   "outputs": [],
   "source": []
  }
 ],
 "metadata": {
  "kernelspec": {
   "display_name": "Python 3 (ipykernel)",
   "language": "python",
   "name": "python3"
  },
  "language_info": {
   "codemirror_mode": {
    "name": "ipython",
    "version": 3
   },
   "file_extension": ".py",
   "mimetype": "text/x-python",
   "name": "python",
   "nbconvert_exporter": "python",
   "pygments_lexer": "ipython3",
   "version": "3.9.13"
  }
 },
 "nbformat": 4,
 "nbformat_minor": 5
}
